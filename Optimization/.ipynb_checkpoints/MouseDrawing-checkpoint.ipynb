{
 "cells": [
  {
   "cell_type": "code",
   "execution_count": 137,
   "metadata": {},
   "outputs": [],
   "source": [
    "import Spitcurve_Int as sp\n",
    "import cv2\n",
    "import numpy as np\n",
    "import matplotlib.pyplot as plt\n",
    "import pandas as pd\n",
    "from sklearn.linear_model import LinearRegression\n",
    "from sklearn.preprocessing import PolynomialFeatures\n",
    "from sklearn.pipeline import make_pipeline\n",
    "from sklearn.linear_model import Ridge\n",
    "from scipy.integrate import quad\n",
    "from scipy.optimize import newton\n",
    "import math\n",
    "\n",
    "\n",
    "drawing = False # true if mouse is pressed\n",
    "mode = False # if True, draw rectangle. Press 'm' to toggle to curve\n",
    "ix,iy = -1,-1\n",
    "listy=[]\n",
    "listx=[]\n",
    "\n",
    "steps=10\n",
    "\n",
    "# mouse callback function\n",
    "def draw_circle(event,x,y,flags,param):\n",
    "    global ix,iy,drawing,mode\n",
    "    global listx, listy\n",
    "    \n",
    "    \n",
    "    if event == cv2.EVENT_LBUTTONDOWN:\n",
    "        drawing = True\n",
    "        ix,iy = x,y\n",
    "\n",
    "    elif event == cv2.EVENT_MOUSEMOVE:\n",
    "        if drawing == True:\n",
    "            if mode == True:\n",
    "                cv2.rectangle(img,(ix,iy),(x,y),(0,255,0),-1)\n",
    "            else:\n",
    "                cv2.circle(img,(x,y),5,(0,0,255),-1)\n",
    "                listx.append(x)\n",
    "                listy.append(-y)            \n",
    "                \n",
    "    elif event == cv2.EVENT_LBUTTONUP:\n",
    "        drawing = False\n",
    "        if mode == True:\n",
    "            cv2.rectangle(img,(ix,iy),(x,y),(0,255,0),-1)\n",
    "        else:\n",
    "            cv2.circle(img,(x,y),5,(0,0,255),-1)\n",
    "            "
   ]
  },
  {
   "cell_type": "code",
   "execution_count": 138,
   "metadata": {},
   "outputs": [],
   "source": [
    "\n",
    "def createImg():\n",
    "    global listy,listx,img,pic\n",
    "    listy=[]\n",
    "    listx=[]\n",
    "\n",
    "    img = np.zeros((512,512,3), np.uint8)\n",
    "    pic=cv2.namedWindow('image')\n",
    "    cv2.setMouseCallback('image',draw_circle)\n",
    "    tempdrawing=drawing\n",
    "    start=True\n",
    "    while(start or drawing):\n",
    "        cv2.imshow('image',img)\n",
    "        k = cv2.waitKey(1) & 0xFF\n",
    "        if k == ord('m'):\n",
    "            mode = not mode\n",
    "        elif k == 27:\n",
    "            break\n",
    "\n",
    "        if drawing:\n",
    "            start=False"
   ]
  },
  {
   "cell_type": "code",
   "execution_count": 139,
   "metadata": {},
   "outputs": [],
   "source": [
    "#cv2.destroyAllWindows"
   ]
  },
  {
   "cell_type": "code",
   "execution_count": 140,
   "metadata": {},
   "outputs": [],
   "source": [
    "def prepCoor(pos):\n",
    "    arrayPos=np.array(pos)\n",
    "    arrayPos=arrayPos-arrayPos[0]\n",
    "    return arrayPos.reshape(-1,1)\n"
   ]
  },
  {
   "cell_type": "markdown",
   "metadata": {},
   "source": [
    "# Regression Model"
   ]
  },
  {
   "cell_type": "code",
   "execution_count": 141,
   "metadata": {},
   "outputs": [],
   "source": [
    "def getcoef(lis,deg=5):\n",
    "    sol=[]\n",
    "    axes=[\"x\",\"y\"]\n",
    "    for count,lis in enumerate(lis):\n",
    "        X=np.linspace(0,1,len(lis)).reshape(-1,1)\n",
    "        y=prepCoor(lis)\n",
    "        polmodel = make_pipeline(PolynomialFeatures(deg),LinearRegression(normalize=True))\n",
    "        polmodel.fit(X, y)\n",
    "        \n",
    "        score=polmodel.score(X,y)\n",
    "        print('Accuracy List',axes[count],\" :\",score)\n",
    "        sol.append(np.squeeze(polmodel.steps[1][1].coef_))\n",
    "    return sol"
   ]
  },
  {
   "cell_type": "markdown",
   "metadata": {},
   "source": [
    "# Polymomoal Class\n"
   ]
  },
  {
   "cell_type": "code",
   "execution_count": 142,
   "metadata": {},
   "outputs": [],
   "source": [
    "class Polynomial:\n",
    "    \n",
    "    def __init__(self, coefficients):\n",
    "        \"\"\" input: coefficients are in the form a_n, ...a_1, a_0 \n",
    "        \"\"\"\n",
    "        self.coefficients =  coefficients # tuple is turned into a list\n",
    "     \n",
    "    def __repr__(self):\n",
    "        \"\"\"\n",
    "        method to return the canonical string representation \n",
    "        of a polynomial.\n",
    "   \n",
    "        \"\"\"\n",
    "        return \"Polynomial\" + str(self.coefficients)\n",
    "            \n",
    "    def __call__(self, x):    \n",
    "        res = 0\n",
    "        for index, coeff in enumerate(self.coefficients):\n",
    "            #print(index,coeff)\n",
    "            res = res + coeff * x** index\n",
    "        return res "
   ]
  },
  {
   "cell_type": "markdown",
   "metadata": {},
   "source": [
    "# Creat & Plote Curve"
   ]
  },
  {
   "cell_type": "code",
   "execution_count": 156,
   "metadata": {},
   "outputs": [],
   "source": [
    "\n",
    "class curve: \n",
    "    global step\n",
    "    def __init__ (self,fx,fy,fx_dot=0,fy_dot=0):\n",
    "        self.fx\n",
    "        self.fx=fx\n",
    "        self.fy=fy\n",
    "        self.fx_dot=fx_dot\n",
    "        self.fy_dot=fy_dot\n",
    "        \n",
    "        \n",
    "    def fx(t,self):\n",
    "        return self.fx(t)\n",
    "    def fy(t,self):\n",
    "        return self.fy(t)\n",
    "    def fx_dot(t,self):\n",
    "        return self.fx_dot(t)\n",
    "    def fy_dot(t,self):\n",
    "        return self.fy_dot(t)\n",
    "    def pxy(self):\n",
    "        return self.pxy\n",
    "    \n",
    "    \n",
    "    def createList(self):\n",
    "        global steps\n",
    "        #Fx= np.array([self.fx(i) for i in np.linspace(0,1,steps/2)])\n",
    "        #Fy= np.array([self.fy(i) for i in np.linspace(0,1,steps/2)])\n",
    "        \n",
    "        self.pxy=slit(steps,self.fx,self.fy,self.fx_dot,self.fy_dot)\n",
    "        #pxy=pxy[:int(steps*0.8)]\n",
    "        return self.pxy \n",
    "        \n",
    "    '''\n",
    "    def __repr__(self):\n",
    "        steps=100;\n",
    "        time=np.linspace(0,1,steps);\n",
    "        plt.clf\n",
    "        plt.plot(self.fx(time[0]),self.fy(time[0]),\"g*\",markersize=10)\n",
    "        plt.plot(self.fx(time[-1]),self.fy(time[-1]),\"ro\",markersize=10)\n",
    "        plt.plot(self.fx(time),self.fy(time),marker=\"o\",markersize=3)\n",
    "        plt.legend([\"Start\",\"End\",\"Curve\"])\n",
    "        plt.title(\"Kurve\")\n",
    "        plt.show()\n",
    "        return \n",
    "    '''\n",
    "def set_Curve(coeff_X,coeff_Y):\n",
    "    fx=Polynomial(coeff_X)\n",
    "    fy=Polynomial(coeff_Y)\n",
    "    \n",
    "    #Integrate\n",
    "    coeff_X_dot=[c*i for i,c in enumerate(coeff_X)]\n",
    "    coeff_X_dot=coeff_X_dot[1:]\n",
    "    \n",
    "    coeff_Y_dot=[c*i for i,c in enumerate(coeff_Y)]\n",
    "    coeff_Y_dot=coeff_Y_dot[1:]\n",
    "    \n",
    "    fx_dot=Polynomial(coeff_X_dot)\n",
    "    fy_dot=Polynomial(coeff_Y_dot)\n",
    "    \n",
    "    return curve(fx,fy,fx_dot,fy_dot)\n",
    "\n",
    "def slit(N,fx,fy,fx_dot,fy_dot):\n",
    "    \n",
    "    def integr(x,l=0):\n",
    "        return math.sqrt(fx_dot(x)**2+fy_dot(x)**2)\n",
    "\n",
    "    eval_n=np.linspace(0,1,N)\n",
    "    eval_n=np.delete(eval_n,0)\n",
    "    \n",
    "    \n",
    "    length_total=quad(integr,0,1)\n",
    "    length_seg=np.linspace(0,length_total[0],N)\n",
    "    length_seg=np.delete(length_seg,0)\n",
    "    def equ(x,l):\n",
    "        erg=quad(integr,0,x)-l\n",
    "        return erg[0]\n",
    "    \n",
    "    eval_n= [newton(equ,0.1,fprime=integr,args=(l, ),maxiter=100,tol=1.48e-05) for l in length_seg]\n",
    "    print(eval_n)\n",
    "    \n",
    "    pxy= np.array([[fx(i),fy(i)] for i in eval_n])\n",
    "    print(pxy)\n",
    "    return pxy\n",
    "    \n",
    "    \n",
    "    \n",
    "def plotcurve(curve):\n",
    "    global steps;\n",
    "    time=np.linspace(0,1,steps);\n",
    "    plt.clf\n",
    "    pxy=curve.createList().T\n",
    "    print(pxy[0][:],pxy[1])\n",
    "    \n",
    "    fig, axs = plt.subplots(1,2)\n",
    "    axs[0].plot(curve.fx(time[0]),curve.fy(time[0]),\"g*\",markersize=10)\n",
    "    axs[0].plot(curve.fx(time[-1]),curve.fy(time[-1]),\"ro\",markersize=10)\n",
    "    axs[0].plot(curve.fx(time),curve.fy(time),marker=\"o\",markersize=3)\n",
    "    axs[0].set_title(\"Kurve without equal Spacing\")\n",
    "    axs[0].legend([\"Start\",\"End\",\"Curve\"])\n",
    "    axs[1].plot(pxy[0][0],pxy[1][0],\"g*\",markersize=10)\n",
    "    axs[1].plot(pxy[0][-1],pxy[1][-1],\"ro\",markersize=10)\n",
    "    axs[1].plot(pxy[0][:],pxy[1][:],marker=\"o\",markersize=3)\n",
    "    axs[1].set_title(\"Kurve with equal Spacing\")\n",
    "    axs[1].legend([\"Start\",\"End\",\"Curve\"])\n",
    "    plt.show()\n",
    "    \n",
    "#c=set_Curve([1,2,3],[1,1,1,1])"
   ]
  },
  {
   "cell_type": "markdown",
   "metadata": {},
   "source": [
    "# Display Polynomial View"
   ]
  },
  {
   "cell_type": "code",
   "execution_count": null,
   "metadata": {},
   "outputs": [],
   "source": []
  },
  {
   "cell_type": "code",
   "execution_count": 157,
   "metadata": {},
   "outputs": [],
   "source": [
    "def drawTrack(curve=None,showPlot=True):\n",
    "    if (curve is None):\n",
    "        createImg()\n",
    "        coef=getcoef([listx,listy],20)\n",
    "        print(\"\\nCoefficient X:\\n\",coef[0].T,\"\\n--------\\nCoefficient Y:\\n\",coef[1])\n",
    "        c=set_Curve(list(coef[0]),list(coef[1]))\n",
    "        if showPlot:\n",
    "            plotcurve(c)\n",
    "    else:\n",
    "        if showPlot:\n",
    "            c=curve\n",
    "            plotcurve(c)\n",
    "    return c"
   ]
  },
  {
   "cell_type": "code",
   "execution_count": 158,
   "metadata": {},
   "outputs": [
    {
     "name": "stdout",
     "output_type": "stream",
     "text": [
      "Accuracy List x  : 1.0\n",
      "Accuracy List y  : 1.0\n",
      "\n",
      "Coefficient X:\n",
      " [ 8.48016264e-04  1.01993187e+03 -2.58266382e+04  2.62303760e+05\n",
      " -1.20994803e+06  2.65499841e+06 -1.99848318e+06 -1.45665924e+06\n",
      "  1.53878873e+06  1.91748120e+06 -3.93546435e+04 -1.71486520e+06\n",
      " -1.64971821e+06 -2.35323090e+05  1.25104188e+06  1.74578051e+06\n",
      "  9.66375221e+05 -5.59098218e+05 -1.76441798e+06 -1.39357431e+06\n",
      "  1.70968411e+06] \n",
      "--------\n",
      "Coefficient Y:\n",
      " [ 5.60713491e-05  2.19809050e+02 -7.71288659e+03  5.09052718e+04\n",
      " -1.60120236e+05  2.43789844e+05 -9.93476854e+04 -1.40476203e+05\n",
      "  5.50448120e+04  1.26723885e+05  3.43292543e+04 -7.53000846e+04\n",
      " -9.67545117e+04 -3.31046413e+04  4.97593921e+04  8.80663965e+04\n",
      "  5.80372974e+04 -1.79750972e+04 -8.47108694e+04 -7.32874669e+04\n",
      "  8.18957207e+04]\n",
      "[0.40342540776057967, 0.8639665597796707, 0.9269210566217676, 0.9441103929959327, 0.9588749899289488, 0.9848150762562146, 0.992459034161738, 0.9967906883596608, 1.0000000023734446]\n",
      "[[ 116.27975687  -59.84598108]\n",
      " [ 246.50590511  -24.7307508 ]\n",
      " [ 108.92029185  -25.76126995]\n",
      " [ -44.15366292  -31.03461378]\n",
      " [-197.21524862  -36.65794304]\n",
      " [-254.0582636   -37.9987054 ]\n",
      " [-101.0419261   -31.2555626 ]\n",
      " [  51.97888336  -24.61346882]\n",
      " [ 205.00097523  -17.99993844]]\n",
      "[ 116.27975687  246.50590511  108.92029185  -44.15366292 -197.21524862\n",
      " -254.0582636  -101.0419261    51.97888336  205.00097523] [-59.84598108 -24.7307508  -25.76126995 -31.03461378 -36.65794304\n",
      " -37.9987054  -31.2555626  -24.61346882 -17.99993844]\n"
     ]
    },
    {
     "data": {
      "image/png": "[encoded data removed]",
      "text/plain": [
       "<Figure size 432x288 with 2 Axes>"
      ]
     },
     "metadata": {
      "needs_background": "light"
     },
     "output_type": "display_data"
    }
   ],
   "source": [
    "save=drawTrack()\n",
    "\n",
    "#cv2.imshow(\"image\",img)"
   ]
  },
  {
   "cell_type": "code",
   "execution_count": null,
   "metadata": {},
   "outputs": [],
   "source": [
    "drawTrack(save)"
   ]
  },
  {
   "cell_type": "code",
   "execution_count": 16,
   "metadata": {},
   "outputs": [],
   "source": []
  },
  {
   "cell_type": "code",
   "execution_count": null,
   "metadata": {},
   "outputs": [],
   "source": []
  }
 ],
 "metadata": {
  "kernelspec": {
   "display_name": "Python 3",
   "language": "python",
   "name": "python3"
  },
  "language_info": {
   "codemirror_mode": {
    "name": "ipython",
    "version": 3
   },
   "file_extension": ".py",
   "mimetype": "text/x-python",
   "name": "python",
   "nbconvert_exporter": "python",
   "pygments_lexer": "ipython3",
   "version": "3.7.1"
  }
 },
 "nbformat": 4,
 "nbformat_minor": 2
}
