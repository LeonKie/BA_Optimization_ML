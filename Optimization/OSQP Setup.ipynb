{
 "cells": [
  {
   "cell_type": "code",
   "execution_count": 1,
   "metadata": {},
   "outputs": [],
   "source": [
    "#importing Lib\n",
    "\n",
    "import numpy as np\n",
    "import osqp\n",
    "from scipy import sparse\n",
    "from scipy import optimize as op"
   ]
  },
  {
   "cell_type": "code",
   "execution_count": 12,
   "metadata": {
    "scrolled": true
   },
   "outputs": [
    {
     "name": "stdout",
     "output_type": "stream",
     "text": [
      "P:\n",
      "   (0, 0)\t4\n",
      "  (0, 1)\t1\n",
      "  (1, 1)\t2 \n",
      " ------------------\n",
      "A:\n",
      "   (0, 0)\t1\n",
      "  (1, 0)\t1\n",
      "  (0, 1)\t1\n",
      "  (2, 1)\t1\n"
     ]
    },
    {
     "ename": "NameError",
     "evalue": "name 'osqp' is not defined",
     "output_type": "error",
     "traceback": [
      "\u001b[0;31m---------------------------------------------------------------------------\u001b[0m",
      "\u001b[0;31mNameError\u001b[0m                                 Traceback (most recent call last)",
      "\u001b[0;32m<ipython-input-12-53d6cdb46797>\u001b[0m in \u001b[0;36m<module>\u001b[0;34m\u001b[0m\n\u001b[1;32m     10\u001b[0m \u001b[0mu\u001b[0m\u001b[0;34m=\u001b[0m\u001b[0mnp\u001b[0m\u001b[0;34m.\u001b[0m\u001b[0marray\u001b[0m\u001b[0;34m(\u001b[0m\u001b[0;34m[\u001b[0m\u001b[0;36m1\u001b[0m\u001b[0;34m,\u001b[0m\u001b[0;36m0.7\u001b[0m\u001b[0;34m,\u001b[0m\u001b[0;36m0.7\u001b[0m\u001b[0;34m]\u001b[0m\u001b[0;34m)\u001b[0m\u001b[0;34m\u001b[0m\u001b[0;34m\u001b[0m\u001b[0m\n\u001b[1;32m     11\u001b[0m \u001b[0;34m\u001b[0m\u001b[0m\n\u001b[0;32m---> 12\u001b[0;31m \u001b[0mm\u001b[0m\u001b[0;34m=\u001b[0m\u001b[0mosqp\u001b[0m\u001b[0;34m.\u001b[0m\u001b[0mOSQP\u001b[0m\u001b[0;34m(\u001b[0m\u001b[0;34m)\u001b[0m\u001b[0;34m\u001b[0m\u001b[0;34m\u001b[0m\u001b[0m\n\u001b[0m\u001b[1;32m     13\u001b[0m \u001b[0mm\u001b[0m\u001b[0;34m.\u001b[0m\u001b[0msetup\u001b[0m\u001b[0;34m(\u001b[0m\u001b[0mP\u001b[0m\u001b[0;34m,\u001b[0m \u001b[0mq\u001b[0m\u001b[0;34m,\u001b[0m \u001b[0mA\u001b[0m\u001b[0;34m,\u001b[0m \u001b[0ml\u001b[0m\u001b[0;34m,\u001b[0m \u001b[0mu\u001b[0m\u001b[0;34m,\u001b[0m \u001b[0malpha\u001b[0m\u001b[0;34m=\u001b[0m\u001b[0;36m1.0\u001b[0m\u001b[0;34m)\u001b[0m\u001b[0;34m\u001b[0m\u001b[0;34m\u001b[0m\u001b[0m\n",
      "\u001b[0;31mNameError\u001b[0m: name 'osqp' is not defined"
     ]
    }
   ],
   "source": [
    "#Setup\n",
    "P=sparse.csc_matrix([[4,1],[0,2]])\n",
    "print(\"P:\\n\",P,\"\\n ------------------\")\n",
    "q=np.array([1,1])\n",
    "A=sparse.csc_matrix([[1, 1], [1, 0], [0, 1]])\n",
    "print(\"A:\\n\",A)\n",
    "\n",
    "\n",
    "l=np.array([1,0,0])\n",
    "u=np.array([1,0.7,0.7])\n",
    "\n",
    "m=osqp.OSQP()\n",
    "m.setup(P, q, A, l, u, alpha=1.0)"
   ]
  },
  {
   "cell_type": "code",
   "execution_count": null,
   "metadata": {},
   "outputs": [],
   "source": [
    "#Solving\n",
    "results = m.solve()"
   ]
  },
  {
   "cell_type": "markdown",
   "metadata": {},
   "source": [
    "\n",
    "### Code to implement SQP\n",
    "```scipy.optimize.minimize(fun, x0, args=(), method='SLSQP', jac=None, bounds=None, constraints=(), tol=None, callback=None, options={'func': None, 'maxiter': 100, 'ftol': 1e-06, 'iprint': 1, 'disp': False, 'eps': 1.4901161193847656e-08})```"
   ]
  },
  {
   "cell_type": "code",
   "execution_count": 8,
   "metadata": {},
   "outputs": [],
   "source": [
    "#op.minimize()\n",
    "\n",
    "def objective(x):\n",
    "    times=[1/v for v in x]\n",
    "    return sum(times) #* segment s\n",
    "\n",
    "\n",
    "#Inequality\n",
    "def constrain_Power(x):\n",
    "    '''\n",
    "    P=F*v\n",
    "    \n",
    "    (delta vk)\n",
    "    \n",
    "    F=(vk-(vk-1))*M\n",
    "    \n",
    "    P=(vk-(vk-1))*M <= P_lim\n",
    "    '''\n",
    "\n",
    "    \n",
    "#Create Curve...\n",
    "\n",
    "curve \n",
    "    \n",
    "    \n",
    "#Equality\n",
    "def constrain_Traj(x):\n",
    "    \n",
    "    \n",
    "    \n",
    "    traj_list=c.getCoor()\n",
    "    traj_dir=c.getDir()\n",
    "    \n",
    "    error=c.dis_from_Track()\n",
    "    \n",
    "    \n",
    "    \n",
    "    \n"
   ]
  },
  {
   "cell_type": "code",
   "execution_count": 2,
   "metadata": {},
   "outputs": [
    {
     "name": "stdout",
     "output_type": "stream",
     "text": [
      "-----------------------------------------------------------------\n",
      "           OSQP v0.6.0  -  Operator Splitting QP Solver\n",
      "              (c) Bartolomeo Stellato,  Goran Banjac\n",
      "        University of Oxford  -  Stanford University 2019\n",
      "-----------------------------------------------------------------\n",
      "problem:  variables n = 2, constraints m = 3\n",
      "          nnz(P) + nnz(A) = 7\n",
      "settings: linear system solver = qdldl,\n",
      "          eps_abs = 1.0e-03, eps_rel = 1.0e-03,\n",
      "          eps_prim_inf = 1.0e-04, eps_dual_inf = 1.0e-04,\n",
      "          rho = 1.00e-01 (adaptive),\n",
      "          sigma = 1.00e-06, alpha = 1.60, max_iter = 4000\n",
      "          check_termination: on (interval 25),\n",
      "          scaling: on, scaled_termination: off\n",
      "          warm start: on, polish: off, time_limit: off\n",
      "\n",
      "iter   objective    pri res    dua res    rho        time\n",
      "   1  -7.8808e-03   1.01e+00   2.00e+02   1.00e-01   7.17e-05s\n",
      "  25   1.8797e+00   1.60e-03   9.48e-04   1.00e-01   1.84e-04s\n",
      "\n",
      "status:               solved\n",
      "number of iterations: 25\n",
      "optimal objective:    1.8797\n",
      "run time:             2.74e-04s\n",
      "optimal rho estimate: 2.14e-01\n",
      "\n",
      "[0.3013757  0.69839569]\n",
      "iter   objective    pri res    dua res    rho        time\n",
      "   1   2.1849e+00   5.37e-01   4.35e+01   1.00e-01   2.56e-04s\n",
      "  50   1.3325e+00   1.21e-07   2.24e-07   9.97e-01   3.74e-04s\n",
      "\n",
      "status:               solved\n",
      "number of iterations: 50\n",
      "optimal objective:    1.3325\n",
      "run time:             4.66e-04s\n",
      "optimal rho estimate: 1.73e+00\n",
      "\n"
     ]
    }
   ],
   "source": [
    "import osqp\n",
    "import numpy as np\n",
    "from scipy import sparse\n",
    "\n",
    "# Define problem data\n",
    "P = sparse.csc_matrix([[4, 1], [1, 2]])\n",
    "q = np.array([1, 1])\n",
    "A = sparse.csc_matrix([[1, 1], [1, 0], [0, 1]])\n",
    "l = np.array([1, 0, 0])\n",
    "u = np.array([1, 0.7, 0.7])\n",
    "\n",
    "# Create an OSQP object\n",
    "prob = osqp.OSQP()\n",
    "\n",
    "# Setup workspace\n",
    "prob.setup(P, q, A, l, u)\n",
    "\n",
    "# Solve problem\n",
    "res = prob.solve()\n",
    "print(res.x)\n",
    "\n",
    "# Update problem\n",
    "# NB: Update only upper triangular part of P\n",
    "P_new = sparse.csc_matrix([[5, 1.5], [1.5, 1]])\n",
    "A_new = sparse.csc_matrix([[1.2, 1.1], [1.5, 0], [0, 0.8]])\n",
    "prob.update(Px=sparse.triu(P_new).data, Ax=A_new.data)\n",
    "\n",
    "# Solve updated problem\n",
    "res = prob.solve()"
   ]
  },
  {
   "cell_type": "code",
   "execution_count": null,
   "metadata": {},
   "outputs": [],
   "source": []
  }
 ],
 "metadata": {
  "kernelspec": {
   "display_name": "Python 3",
   "language": "python",
   "name": "python3"
  },
  "language_info": {
   "codemirror_mode": {
    "name": "ipython",
    "version": 3
   },
   "file_extension": ".py",
   "mimetype": "text/x-python",
   "name": "python",
   "nbconvert_exporter": "python",
   "pygments_lexer": "ipython3",
   "version": "3.7.1"
  }
 },
 "nbformat": 4,
 "nbformat_minor": 2
}