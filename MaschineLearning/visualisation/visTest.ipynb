import numpy as np 
import matplotlib.pyplot as plt 
import json_ImExport


data=json_ImExport.loadData("Kappa_variation_shift10.json")

print(data["list"][1])