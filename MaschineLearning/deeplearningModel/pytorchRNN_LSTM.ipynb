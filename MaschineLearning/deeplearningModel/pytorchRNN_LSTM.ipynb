{
 "cells": [
  {
   "cell_type": "code",
   "execution_count": 8,
   "metadata": {},
   "outputs": [
    {
     "name": "stdout",
     "output_type": "stream",
     "text": "Running on the CPU\n"
    },
    {
     "data": {
      "text/plain": "<torch._C.Generator at 0x118d9fbd0>"
     },
     "execution_count": 8,
     "metadata": {},
     "output_type": "execute_result"
    }
   ],
   "source": [
    "import numpy as np\n",
    "import torch\n",
    "import matplotlib.pyplot as plt\n",
    "from torchvision import transforms\n",
    "import torch.nn.functional as F \n",
    "from torch import nn\n",
    "import sys\n",
    "sys.path.insert(1, '/Users/leonkiesgen/Documents/Python/BA_Optimization_ML/MaschineLearning/visualisation')\n",
    "sys.path.insert(1, '/Users/leonkiesgen/Documents/Python/BA_Optimization_ML/MaschineLearning/deeplearningModel')\n",
    "import json_ImExport\n",
    "import LogDataImport\n",
    "import random\n",
    "import matplotlib.pyplot as plt\n",
    "import dataprocessing\n",
    "sys.path.insert(1,\"/Users/leonkiesgen/Documents/Python/src/tqdm\")\n",
    "\n",
    "#import torch.utils.tensorboard import SummaryWriter\n",
    "\n",
    "\n",
    "from tqdm import tqdm\n",
    "import time\n",
    "\n",
    "    \n",
    "if torch.cuda.is_available() and True:\n",
    "    device = torch.device(\"cuda:0\")  # you can continue going on here, like cuda:1 cuda:2....etc. \n",
    "    print(\"Running on the GPU\")\n",
    "else:\n",
    "    device = torch.device(\"cpu\")\n",
    "    print(\"Running on the CPU\")    \n",
    "    \n",
    "torch.manual_seed(0)"
   ]
  },
  {
   "cell_type": "code",
   "execution_count": 9,
   "metadata": {},
   "outputs": [],
   "source": [
    " "
   ]
  },
  {
   "cell_type": "markdown",
   "metadata": {},
   "source": [
    "## Data Import"
   ]
  },
  {
   "cell_type": "code",
   "execution_count": 9,
   "metadata": {},
   "outputs": [
    {
     "name": "stderr",
     "output_type": "stream",
     "text": "100%|██████████| 4/4 [00:08<00:00,  2.16s/it]\n"
    }
   ],
   "source": [
    "with tqdm(total=4) as pbar:\n",
    "    #Json\n",
    "    #Jsondata=json_ImExport.loadData(\"/Users/leonkiesgen/Documents/Python/Kappa_variation_vmax100.json\")\n",
    "    #Log File (Monteblanco)\n",
    "    pbar.update(1)\n",
    "    \n",
    "\n",
    "    Logdata_MB=LogDataImport.get_data(\"/Users/leonkiesgen/Documents/Python/mod_local_trajectory/logs/ltpl/2019_12_01/15_00_59_data.csv\")\n",
    "\n",
    "    #Log File (Berlin)\n",
    "    pbar.update(1)\n",
    "    ValLogdata_B=LogDataImport.get_data(\"/Users/leonkiesgen/Documents/Python/mod_local_trajectory/logs/ltpl/2019_12_05/12_19_36_data.csv\")\n",
    "\n",
    "    #Log File (Modena)\n",
    "    pbar.update(1)\n",
    "    ValLogdata_M=LogDataImport.get_data(\"/Users/leonkiesgen/Documents/Python/mod_local_trajectory/logs/ltpl/2019_12_05/15_41_27_data.csv\")\n",
    "\n",
    "    #Log File (zalazone)\n",
    "    pbar.update(1)\n",
    "    ValLogdata_Z=LogDataImport.get_data(\"/Users/leonkiesgen/Documents/Python/mod_local_trajectory/logs/ltpl/2019_12_05/15_51_25_data.csv\")\n"
   ]
  },
  {
   "cell_type": "markdown",
   "metadata": {},
   "source": [
    "## Define NN Model"
   ]
  },
  {
   "cell_type": "code",
   "execution_count": 10,
   "metadata": {},
   "outputs": [],
   "source": [
    "class RNN(nn.Module):\n",
    "    def __init__(self,input_size,output_size,hidden_dim,n_layers):\n",
    "        super(RNN, self).__init__()\n",
    "        self.n_layers=n_layers\n",
    "        self.hidden_dim=hidden_dim\n",
    "        self.rnn= nn.RNN(input_size,hidden_dim,n_layers,batch_first=True,bidirectional=True)\n",
    "        self.fc = nn.Linear(2*hidden_dim, output_size)\n",
    "        \n",
    "        self.calcH = nn.RNN(input_size,hidden_dim,n_layers,batch_first=True,bidirectional=True)\n",
    "    def forward(self,x,hidden):\n",
    "        vini=x[:,0,:].squeeze()\n",
    "        hidden=self.initHidden(x[:,0,:])\n",
    "        #set_trace()\n",
    "        r_out,hidden =self.rnn(x[:,1:,:],hidden)\n",
    "        r_out=r_out.view(-1,2*self.hidden_dim)\n",
    "        output = self.fc(r_out)\n",
    "\n",
    "        return output\n",
    "    \n",
    "    def initHidden(self,vini):\n",
    "        \n",
    "        _,hidden=self.calcH(vini.unsqueeze(0),None)\n",
    "        return hidden\n",
    "    \n",
    "    def zeroHidden(self):\n",
    "        return torch.zeros(self.n_layers*2,1,self.hidden_dim)"
   ]
  },
  {
   "cell_type": "code",
   "execution_count": 11,
   "metadata": {},
   "outputs": [],
   "source": [
    "class LSTM(nn.Module):\n",
    "    def __init__(self,input_size,output_size,hidden_dim,n_layers):\n",
    "        super(LSTM, self).__init__()\n",
    "        self.n_layers=n_layers\n",
    "        self.hidden_dim=hidden_dim\n",
    "        self.lstm= nn.LSTM(input_size,hidden_dim,n_layers,batch_first=True,bidirectional=True)\n",
    "        self.fc = nn.Linear(2*hidden_dim, output_size)\n",
    "        \n",
    "        #self.calcH = nn.LSTM(input_size,hidden_dim,n_layers,batch_first=True,bidirectional=True)\n",
    "    def forward(self,x,hidden):\n",
    "        #vini=x[:,0,:].squeeze()\n",
    "        #hidden=self.initHidden(x[:,0,:])\n",
    "        #set_trace()\n",
    "        r_out,hidden =self.lstm(x,None)\n",
    "        r_out=r_out.view(-1,2*self.hidden_dim)\n",
    "        output = self.fc(r_out)\n",
    "\n",
    "        return output\n",
    "    \n",
    "    def initHidden(self,vini):\n",
    "        \n",
    "        _,hidden=self.calcH(vini.unsqueeze(0),None)\n",
    "        return hidden\n",
    "    \n",
    "    def zeroHidden(self):\n",
    "        return torch.zeros(self.n_layers*2,1,self.hidden_dim)"
   ]
  },
  {
   "cell_type": "markdown",
   "metadata": {},
   "source": [
    "## Data Preperation"
   ]
  },
  {
   "cell_type": "code",
   "execution_count": 15,
   "metadata": {},
   "outputs": [
    {
     "name": "stdout",
     "output_type": "stream",
     "text": "70.0\n0.001\ntorch.Size([1, 126, 5])\ntensor([ 0.2350,  0.2483,  0.2489,  0.2479,  0.2472,  0.2471,  0.2479,  0.2432,\n         0.2309,  0.1961,  0.1595,  0.1578,  0.1570,  0.1608,  0.1749,  0.1885,\n         0.1916,  0.1958,  0.1986,  0.1962,  0.1915,  0.1916,  0.1871,  0.1884,\n         0.2073,  0.2209,  0.2214,  0.2220,  0.2227,  0.2236,  0.2239,  0.2238,\n         0.2231,  0.2269,  0.2415,  0.2507,  0.2505,  0.2536,  0.2585,  0.2833,\n         0.3009,  0.3063,  0.3174,  0.3279,  0.3173,  0.3561,  0.1530, -0.1302,\n        -0.2700, -0.3758, -0.4427, -0.4721, -0.4966, -0.5262, -0.5165, -0.4927,\n        -0.4816, -0.4745, -0.4699, -0.4666, -0.4541, -0.4530, -0.4514, -0.4482,\n        -0.4461, -0.4377, -0.4371, -0.4360, -0.4343, -0.4331, -0.4298, -0.4291,\n        -0.4289, -0.4292, -0.4293, -0.4300, -0.4299, -0.4280, -0.4245, -0.4215,\n        -0.4143, -0.4130, -0.4129, -0.4133, -0.4135, -0.4147, -0.4139, -0.4135,\n        -0.4132, -0.4129, -0.4131, -0.4124, -0.4115, -0.4105, -0.4094, -0.4081,\n        -0.4071, -0.4082, -0.4094, -0.4111, -0.4146, -0.4152, -0.4157, -0.4162,\n        -0.4167, -0.4172, -0.4179, -0.4194, -0.4208, -0.4223, -0.4247, -0.4259,\n        -0.4307, -0.4337, -0.4357, -0.4424, -0.4445, -0.4448, -0.4435, -0.4412,\n        -0.4305, -0.4253, -0.4149, -0.3966, -0.3653, -0.2863],\n       grad_fn=<SqueezeBackward0>)\n"
    }
   ],
   "source": [
    "\n",
    "model=LSTM(input_size=5,output_size=1,hidden_dim=15,n_layers=1)\n",
    "\n",
    "traindata=dataprocessing.prepareData([Logdata_MB,ValLogdata_B,ValLogdata_M,ValLogdata_Z],5)\n",
    "\n",
    "random.shuffle(traindata)\n",
    "NumSample=len(traindata)\n",
    "valdata=traindata[int(NumSample*0.7):]\n",
    "traindata=traindata[:int(NumSample*0.7)-1]\n",
    "\n",
    "inputT=traindata[3][0].unsqueeze(0)\n",
    "print(inputT.shape)\n",
    "\n",
    "\n",
    "h0=model.zeroHidden()\n",
    "r_out= model(inputT,h0)\n",
    "\n",
    "print(r_out.squeeze())"
   ]
  },
  {
   "cell_type": "code",
   "execution_count": 16,
   "metadata": {},
   "outputs": [
    {
     "name": "stderr",
     "output_type": "stream",
     "text": "Total Progress:   0%|          | 0/50 [00:00<?, ?it/s]\nTraining Data:   0%|          | 0/4588 [00:00<?, ?it/s]\u001b[A\nTraining Data:   0%|          | 1/4588 [00:00<10:30,  7.28it/s]\u001b[A\nTraining Data:   0%|          | 2/4588 [00:00<09:51,  7.75it/s]\u001b[A\nTraining Data:   0%|          | 4/4588 [00:00<09:34,  7.98it/s]\u001b[A\nTraining Data:   0%|          | 5/4588 [00:00<11:49,  6.46it/s]\u001b[A\nTraining Data:   0%|          | 6/4588 [00:00<14:14,  5.36it/s]\u001b[A\nTraining Data:   0%|          | 7/4588 [00:01<14:04,  5.43it/s]\u001b[A\nTraining Data:   0%|          | 8/4588 [00:01<13:06,  5.82it/s]\u001b[A\nTraining Data:   0%|          | 10/4588 [00:01<12:13,  6.24it/s]\u001b[A\nTraining Data:   0%|          | 11/4588 [00:01<12:30,  6.10it/s]\u001b[A\nTraining Data:   0%|          | 12/4588 [00:01<13:51,  5.50it/s]\u001b[A\nTraining Data:   0%|          | 13/4588 [00:02<12:20,  6.18it/s]\u001b[A\nTraining Data:   0%|          | 15/4588 [00:02<12:20,  6.18it/s]\u001b[A\nTraining Data:   0%|          | 16/4588 [00:02<12:44,  5.98it/s]\u001b[A\nTraining Data:   0%|          | 17/4588 [00:02<11:49,  6.44it/s]\u001b[A\nTraining Data:   0%|          | 18/4588 [00:02<10:45,  7.08it/s]\u001b[A\nTraining Data:   0%|          | 19/4588 [00:02<11:37,  6.55it/s]\u001b[A\nTraining Data:   0%|          | 20/4588 [00:03<13:09,  5.79it/s]\u001b[A\nTraining Data:   0%|          | 21/4588 [00:03<12:58,  5.87it/s]\u001b[A\nTraining Data:   0%|          | 22/4588 [00:03<17:01,  4.47it/s]\u001b[A\nTraining Data:   1%|          | 23/4588 [00:03<15:25,  4.93it/s]\u001b[A\nTraining Data:   1%|          | 24/4588 [00:04<14:35,  5.21it/s]\u001b[A\nTraining Data:   1%|          | 25/4588 [00:04<13:15,  5.73it/s]\u001b[A\nTraining Data:   1%|          | 26/4588 [00:04<12:13,  6.22it/s]\u001b[A\nTraining Data:   1%|          | 28/4588 [00:04<10:29,  7.24it/s]\u001b[A\nTraining Data:   1%|          | 29/4588 [00:04<15:57,  4.76it/s]\u001b[A\nTraining Data:   1%|          | 30/4588 [00:05<15:47,  4.81it/s]\u001b[A\nTraining Data:   1%|          | 31/4588 [00:05<18:11,  4.18it/s]\u001b[A\nTraining Data:   1%|          | 32/4588 [00:05<20:26,  3.72it/s]\u001b[A\nTraining Data:   1%|          | 33/4588 [00:05<18:22,  4.13it/s]\u001b[A\nTraining Data:   1%|          | 34/4588 [00:06<17:30,  4.34it/s]\u001b[A\nTraining Data:   1%|          | 35/4588 [00:06<18:36,  4.08it/s]\u001b[A\nTraining Data:   1%|          | 36/4588 [00:06<17:57,  4.23it/s]\u001b[A\nTraining Data:   1%|          | 37/4588 [00:06<20:04,  3.78it/s]\u001b[A\nTraining Data:   1%|          | 38/4588 [00:07<19:56,  3.80it/s]\u001b[A\nTraining Data:   1%|          | 39/4588 [00:07<19:36,  3.87it/s]\u001b[A\nTraining Data:   1%|          | 40/4588 [00:07<23:08,  3.28it/s]\u001b[A\nTraining Data:   1%|          | 41/4588 [00:08<21:49,  3.47it/s]\u001b[A\nTraining Data:   1%|          | 42/4588 [00:08<24:27,  3.10it/s]\u001b[A\nTraining Data:   1%|          | 43/4588 [00:08<23:36,  3.21it/s]\u001b[A\nTraining Data:   1%|          | 44/4588 [00:09<24:47,  3.05it/s]\u001b[A\nTraining Data:   1%|          | 45/4588 [00:09<23:47,  3.18it/s]\u001b[A\nTraining Data:   1%|          | 46/4588 [00:09<19:31,  3.88it/s]\u001b[A\nTraining Data:   1%|          | 47/4588 [00:09<18:17,  4.14it/s]\u001b[A\nTraining Data:   1%|          | 48/4588 [00:10<25:26,  2.97it/s]\u001b[A\nTraining Data:   1%|          | 49/4588 [00:10<25:03,  3.02it/s]\u001b[A\nTraining Data:   1%|          | 50/4588 [00:10<23:02,  3.28it/s]\u001b[A\nTraining Data:   1%|          | 51/4588 [00:11<19:42,  3.84it/s]\u001b[A\nTraining Data:   1%|          | 52/4588 [00:11<19:53,  3.80it/s]\u001b[A\nTraining Data:   1%|          | 53/4588 [00:11<19:40,  3.84it/s]\u001b[A\nTraining Data:   1%|          | 54/4588 [00:11<16:06,  4.69it/s]\u001b[A\nTraining Data:   1%|          | 55/4588 [00:11<13:58,  5.41it/s]\u001b[A\nTraining Data:   1%|          | 56/4588 [00:11<14:07,  5.35it/s]\u001b[A\nTraining Data:   1%|          | 57/4588 [00:12<13:23,  5.64it/s]\u001b[A\nTraining Data:   1%|▏         | 58/4588 [00:12<13:51,  5.45it/s]\u001b[A\nTraining Data:   1%|▏         | 59/4588 [00:12<12:49,  5.89it/s]\u001b[A\nTraining Data:   1%|▏         | 60/4588 [00:12<12:39,  5.96it/s]\u001b[A\nTraining Data:   1%|▏         | 61/4588 [00:12<13:14,  5.70it/s]\u001b[A\nTraining Data:   1%|▏         | 62/4588 [00:12<13:33,  5.56it/s]\u001b[A\nTraining Data:   1%|▏         | 63/4588 [00:13<12:58,  5.81it/s]\u001b[A\nTraining Data:   1%|▏         | 64/4588 [00:13<15:01,  5.02it/s]\u001b[A\nTraining Data:   1%|▏         | 65/4588 [00:13<15:02,  5.01it/s]\u001b[A\nTraining Data:   1%|▏         | 66/4588 [00:13<13:42,  5.50it/s]\u001b[A\nTraining Data:   1%|▏         | 67/4588 [00:14<15:57,  4.72it/s]\u001b[A\nTraining Data:   1%|▏         | 68/4588 [00:14<14:52,  5.07it/s]\u001b[A\nTraining Data:   2%|▏         | 69/4588 [00:14<14:00,  5.38it/s]\u001b[A\nTraining Data:   2%|▏         | 70/4588 [00:14<14:31,  5.18it/s]\u001b[A\nTraining Data:   2%|▏         | 71/4588 [00:14<15:30,  4.86it/s]\u001b[A\nTraining Data:   2%|▏         | 72/4588 [00:14<14:50,  5.07it/s]\u001b[A\nTraining Data:   2%|▏         | 73/4588 [00:15<17:30,  4.30it/s]\u001b[A\nTraining Data:   2%|▏         | 74/4588 [00:15<19:19,  3.89it/s]\u001b[A\nTraining Data:   2%|▏         | 75/4588 [00:15<16:57,  4.44it/s]\u001b[A\nTraining Data:   2%|▏         | 76/4588 [00:16<20:59,  3.58it/s]\u001b[A\nTraining Data:   2%|▏         | 77/4588 [00:16<19:55,  3.77it/s]\u001b[A\nTraining Data:   2%|▏         | 78/4588 [00:16<17:25,  4.31it/s]\u001b[A\nTraining Data:   2%|▏         | 79/4588 [00:16<19:12,  3.91it/s]\u001b[A\nTraining Data:   2%|▏         | 80/4588 [00:17<19:08,  3.93it/s]\u001b[A\nTraining Data:   2%|▏         | 81/4588 [00:17<17:36,  4.27it/s]\u001b[A\nTraining Data:   2%|▏         | 82/4588 [00:17<16:36,  4.52it/s]\u001b[A\nTraining Data:   2%|▏         | 83/4588 [00:17<16:55,  4.43it/s]\u001b[A\nTraining Data:   2%|▏         | 84/4588 [00:17<15:19,  4.90it/s]\u001b[A\nTraining Data:   2%|▏         | 85/4588 [00:18<18:01,  4.16it/s]\u001b[A\nTraining Data:   2%|▏         | 86/4588 [00:18<16:23,  4.58it/s]\u001b[A\nTraining Data:   2%|▏         | 87/4588 [00:18<16:09,  4.64it/s]\u001b[A\nTraining Data:   2%|▏         | 88/4588 [00:18<16:09,  4.64it/s]\u001b[A\nTraining Data:   2%|▏         | 89/4588 [00:18<15:01,  4.99it/s]\u001b[A\nTraining Data:   2%|▏         | 90/4588 [00:19<16:31,  4.53it/s]\u001b[A\nTraining Data:   2%|▏         | 91/4588 [00:19<16:24,  4.57it/s]\u001b[A\nTraining Data:   2%|▏         | 92/4588 [00:19<15:28,  4.84it/s]\u001b[A\nTraining Data:   2%|▏         | 93/4588 [00:19<16:34,  4.52it/s]\u001b[A\nTraining Data:   2%|▏         | 94/4588 [00:20<18:59,  3.94it/s]\u001b[A\nTraining Data:   2%|▏         | 95/4588 [00:20<20:28,  3.66it/s]"
    }
   ],
   "source": [
    "from IPython.core.debugger import set_trace\n",
    "\n",
    "from torch import optim\n",
    "criterion = nn.L1Loss()\n",
    "optimizer = torch.optim.SGD(model.parameters(), lr=0.01)\n",
    "model.to(device)\n",
    "num_epochs = 50\n",
    "\n",
    "train_tracker, val_tracker, accuracy_tracker = [], [], []\n",
    "\n",
    "\n",
    "for i in tqdm(range(num_epochs),desc=\"Total Progress: \"):\n",
    "    \n",
    "    cum_loss = 0\n",
    "    random.shuffle(traindata)\n",
    "    \n",
    "    for batch,(inp, vel) in enumerate(tqdm(traindata,desc=\"Training Data\"),1):\n",
    "\n",
    "\n",
    "        inp=inp.unsqueeze(0)\n",
    "        vel=vel.reshape([1,-1,1])\n",
    "        inp=inp.to(device)\n",
    "        \n",
    "        hidden=model.zeroHidden()\n",
    "        hidden=hidden.to(device)\n",
    "        output= model(inp,hidden)\n",
    "\n",
    "        output=output.view(-1,1)\n",
    "        ## Representing Memory ##\n",
    "        # make a new variable for hidden and detach the hidden state from its history\n",
    "        # this way, we don't backpropagate through the entire history\n",
    "\n",
    "\n",
    "        outputVel=torch.reshape(vel,[-1,1])\n",
    "        outputVel=outputVel.to(device)\n",
    "        \n",
    "        loss = criterion(output, outputVel)\n",
    "        optimizer.zero_grad()\n",
    "        loss.backward()\n",
    "        optimizer.step()\n",
    "\n",
    "        cum_loss += loss.item()\n",
    "\n",
    "    train_tracker.append(cum_loss/len(traindata))\n",
    "    \n",
    "    #Validation\n",
    "    test_loss = 0\n",
    "    num_correct = 0\n",
    "    total = 0\n",
    "    \n",
    "    random.shuffle(valdata)\n",
    "    with torch.no_grad():\n",
    "        for batch, (inp, vel) in enumerate(tqdm(valdata,desc=\"Valiation Data\"),1):\n",
    "            \n",
    "            optimizer.zero_grad()\n",
    "            inp=inp.unsqueeze(0)\n",
    "            inp=inp.to(device)\n",
    "            \n",
    "            output= model(inp,hidden)\n",
    "            output=output.view(-1,1)\n",
    "            \n",
    "            outputVel=torch.reshape(vel,[-1,1])\n",
    "            outputVel=outputVel.to(device)\n",
    "            loss = criterion(output, outputVel)\n",
    "            test_loss += loss\n",
    "\n",
    "        val_tracker.append(test_loss/len(valdata))\n",
    "    print(f\"Epoch({i+1}/{num_epochs}) | Training loss: {cum_loss/len(traindata)} | \" ,end=\"\")\n",
    "    print(f\"Val loss: {test_loss/len(valdata)} | \")\n"
   ]
  },
  {
   "cell_type": "code",
   "execution_count": 48,
   "metadata": {},
   "outputs": [
    {
     "data": {
      "text/plain": [
       "<matplotlib.legend.Legend at 0x1eb8594e448>"
      ]
     },
     "execution_count": 48,
     "metadata": {},
     "output_type": "execute_result"
    },
    {
     "data": {
      "image/png": "[encoded data removed]",
      "text/plain": [
       "<Figure size 432x288 with 1 Axes>"
      ]
     },
     "metadata": {
      "needs_background": "light"
     },
     "output_type": "display_data"
    }
   ],
   "source": [
    "%matplotlib inline\n",
    "plt.plot(train_tracker, label='Training loss')\n",
    "plt.plot(val_tracker, label='Training loss')\n",
    "plt.legend()"
   ]
  },
  {
   "cell_type": "code",
   "execution_count": 8,
   "metadata": {},
   "outputs": [],
   "source": [
    "def predict(testexample,NN=model):\n",
    "    VelNormalize= Normalize(None,70)\n",
    "\n",
    "    criterion = nn.L1Loss()\n",
    "    #criterion = nn.MSELoss()\n",
    "    pData=testexample[0]\n",
    "    pred=NN(pData[0])\n",
    "    loss=criterion(pred,pData[1])\n",
    "\n",
    "    %matplotlib inline\n",
    "    pred=VelNormalize.normal(np.array(pred.tolist()))\n",
    "    real=VelNormalize.normal(np.array(pData[1]))\n",
    "\n",
    "    plt.plot(pred,label=\"Pred\")\n",
    "    plt.plot(real,label= \"Real_Optimizer\")\n",
    "    print(\"Loss:\", loss.item())\n",
    "\n",
    "from sklearn.metrics import r2_score\n",
    "def Scoring(example,Score='MAE'):\n",
    "    VelNormalize= Normalize(None,70)\n",
    "    if Score=='MAE':\n",
    "        criterion=nn.L1Loss()\n",
    "    elif Score==\"MSE\":\n",
    "        criterion=nn.MSELoss()\n",
    "    elif Score==\"R2\":\n",
    "        return\n",
    "        PRED=[]\n",
    "        REAL=[]\n",
    "        with torch.no_grad():\n",
    "            for (inp,label) in tqdm(example,leave=False):\n",
    "                inp=torch.reshape(inp,[-1,1]).unsqueeze(0)\n",
    "                inp=inp.to(device)\n",
    "                hidden=model.zeroHidden()\n",
    "                hidden=hidden.to(device)\n",
    "\n",
    "                out=model(inp,hidden)\n",
    "\n",
    "                label=label.to(device)\n",
    "                out=out.squeeze()\n",
    "\n",
    "                pred=torch.tensor(np.array(out.tolist()))\n",
    "                real=torch.tensor(np.array(label.tolist()))\n",
    "\n",
    "                PRED.append(pred.tolist())\n",
    "                REAL.append(real.tolist())\n",
    "        #set_trace()\n",
    "        return r2_score(PRED,REAL,multioutput='variance_weighted')\n",
    "    else: \n",
    "        print(\"Loss Function does not exist\")\n",
    "        return\n",
    "    \n",
    "    cumloss=0\n",
    "    \n",
    "    with torch.no_grad():\n",
    "        for (inp,label) in tqdm(example,leave=False):\n",
    "\n",
    "            inp=torch.reshape(inp,[-1,1]).unsqueeze(0)\n",
    "            inp=inp.to(device)\n",
    "            hidden=model.zeroHidden()\n",
    "            hidden=hidden.to(device)\n",
    "            out=model(inp,hidden)\n",
    "\n",
    "            label=label.to(device)\n",
    "            out=out.squeeze()\n",
    "\n",
    "            pred=torch.tensor(VelNormalize.normal(np.array(out.tolist())))\n",
    "            real=torch.tensor(VelNormalize.normal(np.array(label.tolist())))\n",
    "\n",
    "            cumloss += criterion(pred,real)\n",
    "        \n",
    "    SCORE=cumloss/len(example)\n",
    "    \n",
    "    return SCORE.item()"
   ]
  },
  {
   "cell_type": "code",
   "execution_count": null,
   "metadata": {},
   "outputs": [],
   "source": []
  },
  {
   "cell_type": "code",
   "execution_count": null,
   "metadata": {},
   "outputs": [],
   "source": []
  },
  {
   "cell_type": "code",
   "execution_count": 10,
   "metadata": {},
   "outputs": [],
   "source": [
    "name=\"BLSTM_1_15_2_Iter50_MB\"\n",
    "save=False\n",
    "PATH= \"/Users/leonkiesgen/Documents/Python/BA_Optimization_ML/MaschineLearning/mlModels/\"+ name"
   ]
  },
  {
   "cell_type": "code",
   "execution_count": 16,
   "metadata": {},
   "outputs": [
    {
     "data": {
      "image/png": "[encoded data removed]",
      "image/svg+xml": "<?xml version=\"1.0\" encoding=\"utf-8\" standalone=\"no\"?>\n<!DOCTYPE svg PUBLIC \"-//W3C//DTD SVG 1.1//EN\"\n  \"http://www.w3.org/Graphics/SVG/1.1/DTD/svg11.dtd\">\n<!-- Created with matplotlib (https://matplotlib.org/) -->\n<svg height=\"277.366875pt\" version=\"1.1\" viewBox=\"0 0 382.603125 277.366875\" width=\"382.603125pt\" xmlns=\"http://www.w3.org/2000/svg\" xmlns:xlink=\"http://www.w3.org/1999/xlink\">\n <defs>\n  <style type=\"text/css\">\n*{stroke-linecap:butt;stroke-linejoin:round;}\n  </style>\n </defs>\n <g id=\"figure_1\">\n  <g id=\"patch_1\">\n   <path d=\"M 0 277.366875 \nL 382.603125 277.366875 \nL 382.603125 0 \nL 0 0 \nz\n\" style=\"fill:none;\"/>\n  </g>\n  <g id=\"axes_1\">\n   <g id=\"patch_2\">\n    <path d=\"M 40.603125 239.810625 \nL 375.403125 239.810625 \nL 375.403125 22.370625 \nL 40.603125 22.370625 \nz\n\" style=\"fill:#ffffff;\"/>\n   </g>\n   <g id=\"matplotlib.axis_1\">\n    <g id=\"xtick_1\">\n     <g id=\"line2d_1\">\n      <defs>\n       <path d=\"M 0 0 \nL 0 3.5 \n\" id=\"m2bb8cebcba\" style=\"stroke:#000000;stroke-width:0.8;\"/>\n      </defs>\n      <g>\n       <use style=\"stroke:#000000;stroke-width:0.8;\" x=\"55.821307\" xlink:href=\"#m2bb8cebcba\" y=\"239.810625\"/>\n      </g>\n     </g>\n     <g id=\"text_1\">\n      <!-- 0 -->\n      <defs>\n       <path d=\"M 31.78125 66.40625 \nQ 24.171875 66.40625 20.328125 58.90625 \nQ 16.5 51.421875 16.5 36.375 \nQ 16.5 21.390625 20.328125 13.890625 \nQ 24.171875 6.390625 31.78125 6.390625 \nQ 39.453125 6.390625 43.28125 13.890625 \nQ 47.125 21.390625 47.125 36.375 \nQ 47.125 51.421875 43.28125 58.90625 \nQ 39.453125 66.40625 31.78125 66.40625 \nz\nM 31.78125 74.21875 \nQ 44.046875 74.21875 50.515625 64.515625 \nQ 56.984375 54.828125 56.984375 36.375 \nQ 56.984375 17.96875 50.515625 8.265625 \nQ 44.046875 -1.421875 31.78125 -1.421875 \nQ 19.53125 -1.421875 13.0625 8.265625 \nQ 6.59375 17.96875 6.59375 36.375 \nQ 6.59375 54.828125 13.0625 64.515625 \nQ 19.53125 74.21875 31.78125 74.21875 \nz\n\" id=\"DejaVuSans-48\"/>\n      </defs>\n      <g transform=\"translate(52.640057 254.409063)scale(0.1 -0.1)\">\n       <use xlink:href=\"#DejaVuSans-48\"/>\n      </g>\n     </g>\n    </g>\n    <g id=\"xtick_2\">\n     <g id=\"line2d_2\">\n      <g>\n       <use style=\"stroke:#000000;stroke-width:0.8;\" x=\"109.218436\" xlink:href=\"#m2bb8cebcba\" y=\"239.810625\"/>\n      </g>\n     </g>\n     <g id=\"text_2\">\n      <!-- 20 -->\n      <defs>\n       <path d=\"M 19.1875 8.296875 \nL 53.609375 8.296875 \nL 53.609375 0 \nL 7.328125 0 \nL 7.328125 8.296875 \nQ 12.9375 14.109375 22.625 23.890625 \nQ 32.328125 33.6875 34.8125 36.53125 \nQ 39.546875 41.84375 41.421875 45.53125 \nQ 43.3125 49.21875 43.3125 52.78125 \nQ 43.3125 58.59375 39.234375 62.25 \nQ 35.15625 65.921875 28.609375 65.921875 \nQ 23.96875 65.921875 18.8125 64.3125 \nQ 13.671875 62.703125 7.8125 59.421875 \nL 7.8125 69.390625 \nQ 13.765625 71.78125 18.9375 73 \nQ 24.125 74.21875 28.421875 74.21875 \nQ 39.75 74.21875 46.484375 68.546875 \nQ 53.21875 62.890625 53.21875 53.421875 \nQ 53.21875 48.921875 51.53125 44.890625 \nQ 49.859375 40.875 45.40625 35.40625 \nQ 44.1875 33.984375 37.640625 27.21875 \nQ 31.109375 20.453125 19.1875 8.296875 \nz\n\" id=\"DejaVuSans-50\"/>\n      </defs>\n      <g transform=\"translate(102.855936 254.409063)scale(0.1 -0.1)\">\n       <use xlink:href=\"#DejaVuSans-50\"/>\n       <use x=\"63.623047\" xlink:href=\"#DejaVuSans-48\"/>\n      </g>\n     </g>\n    </g>\n    <g id=\"xtick_3\">\n     <g id=\"line2d_3\">\n      <g>\n       <use style=\"stroke:#000000;stroke-width:0.8;\" x=\"162.615565\" xlink:href=\"#m2bb8cebcba\" y=\"239.810625\"/>\n      </g>\n     </g>\n     <g id=\"text_3\">\n      <!-- 40 -->\n      <defs>\n       <path d=\"M 37.796875 64.3125 \nL 12.890625 25.390625 \nL 37.796875 25.390625 \nz\nM 35.203125 72.90625 \nL 47.609375 72.90625 \nL 47.609375 25.390625 \nL 58.015625 25.390625 \nL 58.015625 17.1875 \nL 47.609375 17.1875 \nL 47.609375 0 \nL 37.796875 0 \nL 37.796875 17.1875 \nL 4.890625 17.1875 \nL 4.890625 26.703125 \nz\n\" id=\"DejaVuSans-52\"/>\n      </defs>\n      <g transform=\"translate(156.253065 254.409063)scale(0.1 -0.1)\">\n       <use xlink:href=\"#DejaVuSans-52\"/>\n       <use x=\"63.623047\" xlink:href=\"#DejaVuSans-48\"/>\n      </g>\n     </g>\n    </g>\n    <g id=\"xtick_4\">\n     <g id=\"line2d_4\">\n      <g>\n       <use style=\"stroke:#000000;stroke-width:0.8;\" x=\"216.012694\" xlink:href=\"#m2bb8cebcba\" y=\"239.810625\"/>\n      </g>\n     </g>\n     <g id=\"text_4\">\n      <!-- 60 -->\n      <defs>\n       <path d=\"M 33.015625 40.375 \nQ 26.375 40.375 22.484375 35.828125 \nQ 18.609375 31.296875 18.609375 23.390625 \nQ 18.609375 15.53125 22.484375 10.953125 \nQ 26.375 6.390625 33.015625 6.390625 \nQ 39.65625 6.390625 43.53125 10.953125 \nQ 47.40625 15.53125 47.40625 23.390625 \nQ 47.40625 31.296875 43.53125 35.828125 \nQ 39.65625 40.375 33.015625 40.375 \nz\nM 52.59375 71.296875 \nL 52.59375 62.3125 \nQ 48.875 64.0625 45.09375 64.984375 \nQ 41.3125 65.921875 37.59375 65.921875 \nQ 27.828125 65.921875 22.671875 59.328125 \nQ 17.53125 52.734375 16.796875 39.40625 \nQ 19.671875 43.65625 24.015625 45.921875 \nQ 28.375 48.1875 33.59375 48.1875 \nQ 44.578125 48.1875 50.953125 41.515625 \nQ 57.328125 34.859375 57.328125 23.390625 \nQ 57.328125 12.15625 50.6875 5.359375 \nQ 44.046875 -1.421875 33.015625 -1.421875 \nQ 20.359375 -1.421875 13.671875 8.265625 \nQ 6.984375 17.96875 6.984375 36.375 \nQ 6.984375 53.65625 15.1875 63.9375 \nQ 23.390625 74.21875 37.203125 74.21875 \nQ 40.921875 74.21875 44.703125 73.484375 \nQ 48.484375 72.75 52.59375 71.296875 \nz\n\" id=\"DejaVuSans-54\"/>\n      </defs>\n      <g transform=\"translate(209.650194 254.409063)scale(0.1 -0.1)\">\n       <use xlink:href=\"#DejaVuSans-54\"/>\n       <use x=\"63.623047\" xlink:href=\"#DejaVuSans-48\"/>\n      </g>\n     </g>\n    </g>\n    <g id=\"xtick_5\">\n     <g id=\"line2d_5\">\n      <g>\n       <use style=\"stroke:#000000;stroke-width:0.8;\" x=\"269.409824\" xlink:href=\"#m2bb8cebcba\" y=\"239.810625\"/>\n      </g>\n     </g>\n     <g id=\"text_5\">\n      <!-- 80 -->\n      <defs>\n       <path d=\"M 31.78125 34.625 \nQ 24.75 34.625 20.71875 30.859375 \nQ 16.703125 27.09375 16.703125 20.515625 \nQ 16.703125 13.921875 20.71875 10.15625 \nQ 24.75 6.390625 31.78125 6.390625 \nQ 38.8125 6.390625 42.859375 10.171875 \nQ 46.921875 13.96875 46.921875 20.515625 \nQ 46.921875 27.09375 42.890625 30.859375 \nQ 38.875 34.625 31.78125 34.625 \nz\nM 21.921875 38.8125 \nQ 15.578125 40.375 12.03125 44.71875 \nQ 8.5 49.078125 8.5 55.328125 \nQ 8.5 64.0625 14.71875 69.140625 \nQ 20.953125 74.21875 31.78125 74.21875 \nQ 42.671875 74.21875 48.875 69.140625 \nQ 55.078125 64.0625 55.078125 55.328125 \nQ 55.078125 49.078125 51.53125 44.71875 \nQ 48 40.375 41.703125 38.8125 \nQ 48.828125 37.15625 52.796875 32.3125 \nQ 56.78125 27.484375 56.78125 20.515625 \nQ 56.78125 9.90625 50.3125 4.234375 \nQ 43.84375 -1.421875 31.78125 -1.421875 \nQ 19.734375 -1.421875 13.25 4.234375 \nQ 6.78125 9.90625 6.78125 20.515625 \nQ 6.78125 27.484375 10.78125 32.3125 \nQ 14.796875 37.15625 21.921875 38.8125 \nz\nM 18.3125 54.390625 \nQ 18.3125 48.734375 21.84375 45.5625 \nQ 25.390625 42.390625 31.78125 42.390625 \nQ 38.140625 42.390625 41.71875 45.5625 \nQ 45.3125 48.734375 45.3125 54.390625 \nQ 45.3125 60.0625 41.71875 63.234375 \nQ 38.140625 66.40625 31.78125 66.40625 \nQ 25.390625 66.40625 21.84375 63.234375 \nQ 18.3125 60.0625 18.3125 54.390625 \nz\n\" id=\"DejaVuSans-56\"/>\n      </defs>\n      <g transform=\"translate(263.047324 254.409063)scale(0.1 -0.1)\">\n       <use xlink:href=\"#DejaVuSans-56\"/>\n       <use x=\"63.623047\" xlink:href=\"#DejaVuSans-48\"/>\n      </g>\n     </g>\n    </g>\n    <g id=\"xtick_6\">\n     <g id=\"line2d_6\">\n      <g>\n       <use style=\"stroke:#000000;stroke-width:0.8;\" x=\"322.806953\" xlink:href=\"#m2bb8cebcba\" y=\"239.810625\"/>\n      </g>\n     </g>\n     <g id=\"text_6\">\n      <!-- 100 -->\n      <defs>\n       <path d=\"M 12.40625 8.296875 \nL 28.515625 8.296875 \nL 28.515625 63.921875 \nL 10.984375 60.40625 \nL 10.984375 69.390625 \nL 28.421875 72.90625 \nL 38.28125 72.90625 \nL 38.28125 8.296875 \nL 54.390625 8.296875 \nL 54.390625 0 \nL 12.40625 0 \nz\n\" id=\"DejaVuSans-49\"/>\n      </defs>\n      <g transform=\"translate(313.263203 254.409063)scale(0.1 -0.1)\">\n       <use xlink:href=\"#DejaVuSans-49\"/>\n       <use x=\"63.623047\" xlink:href=\"#DejaVuSans-48\"/>\n       <use x=\"127.246094\" xlink:href=\"#DejaVuSans-48\"/>\n      </g>\n     </g>\n    </g>\n    <g id=\"text_7\">\n     <!-- Steps -->\n     <defs>\n      <path d=\"M 53.515625 70.515625 \nL 53.515625 60.890625 \nQ 47.90625 63.578125 42.921875 64.890625 \nQ 37.9375 66.21875 33.296875 66.21875 \nQ 25.25 66.21875 20.875 63.09375 \nQ 16.5 59.96875 16.5 54.203125 \nQ 16.5 49.359375 19.40625 46.890625 \nQ 22.3125 44.4375 30.421875 42.921875 \nL 36.375 41.703125 \nQ 47.40625 39.59375 52.65625 34.296875 \nQ 57.90625 29 57.90625 20.125 \nQ 57.90625 9.515625 50.796875 4.046875 \nQ 43.703125 -1.421875 29.984375 -1.421875 \nQ 24.8125 -1.421875 18.96875 -0.25 \nQ 13.140625 0.921875 6.890625 3.21875 \nL 6.890625 13.375 \nQ 12.890625 10.015625 18.65625 8.296875 \nQ 24.421875 6.59375 29.984375 6.59375 \nQ 38.421875 6.59375 43.015625 9.90625 \nQ 47.609375 13.234375 47.609375 19.390625 \nQ 47.609375 24.75 44.3125 27.78125 \nQ 41.015625 30.8125 33.5 32.328125 \nL 27.484375 33.5 \nQ 16.453125 35.6875 11.515625 40.375 \nQ 6.59375 45.0625 6.59375 53.421875 \nQ 6.59375 63.09375 13.40625 68.65625 \nQ 20.21875 74.21875 32.171875 74.21875 \nQ 37.3125 74.21875 42.625 73.28125 \nQ 47.953125 72.359375 53.515625 70.515625 \nz\n\" id=\"DejaVuSans-83\"/>\n      <path d=\"M 18.3125 70.21875 \nL 18.3125 54.6875 \nL 36.8125 54.6875 \nL 36.8125 47.703125 \nL 18.3125 47.703125 \nL 18.3125 18.015625 \nQ 18.3125 11.328125 20.140625 9.421875 \nQ 21.96875 7.515625 27.59375 7.515625 \nL 36.8125 7.515625 \nL 36.8125 0 \nL 27.59375 0 \nQ 17.1875 0 13.234375 3.875 \nQ 9.28125 7.765625 9.28125 18.015625 \nL 9.28125 47.703125 \nL 2.6875 47.703125 \nL 2.6875 54.6875 \nL 9.28125 54.6875 \nL 9.28125 70.21875 \nz\n\" id=\"DejaVuSans-116\"/>\n      <path d=\"M 56.203125 29.59375 \nL 56.203125 25.203125 \nL 14.890625 25.203125 \nQ 15.484375 15.921875 20.484375 11.0625 \nQ 25.484375 6.203125 34.421875 6.203125 \nQ 39.59375 6.203125 44.453125 7.46875 \nQ 49.3125 8.734375 54.109375 11.28125 \nL 54.109375 2.78125 \nQ 49.265625 0.734375 44.1875 -0.34375 \nQ 39.109375 -1.421875 33.890625 -1.421875 \nQ 20.796875 -1.421875 13.15625 6.1875 \nQ 5.515625 13.8125 5.515625 26.8125 \nQ 5.515625 40.234375 12.765625 48.109375 \nQ 20.015625 56 32.328125 56 \nQ 43.359375 56 49.78125 48.890625 \nQ 56.203125 41.796875 56.203125 29.59375 \nz\nM 47.21875 32.234375 \nQ 47.125 39.59375 43.09375 43.984375 \nQ 39.0625 48.390625 32.421875 48.390625 \nQ 24.90625 48.390625 20.390625 44.140625 \nQ 15.875 39.890625 15.1875 32.171875 \nz\n\" id=\"DejaVuSans-101\"/>\n      <path d=\"M 18.109375 8.203125 \nL 18.109375 -20.796875 \nL 9.078125 -20.796875 \nL 9.078125 54.6875 \nL 18.109375 54.6875 \nL 18.109375 46.390625 \nQ 20.953125 51.265625 25.265625 53.625 \nQ 29.59375 56 35.59375 56 \nQ 45.5625 56 51.78125 48.09375 \nQ 58.015625 40.1875 58.015625 27.296875 \nQ 58.015625 14.40625 51.78125 6.484375 \nQ 45.5625 -1.421875 35.59375 -1.421875 \nQ 29.59375 -1.421875 25.265625 0.953125 \nQ 20.953125 3.328125 18.109375 8.203125 \nz\nM 48.6875 27.296875 \nQ 48.6875 37.203125 44.609375 42.84375 \nQ 40.53125 48.484375 33.40625 48.484375 \nQ 26.265625 48.484375 22.1875 42.84375 \nQ 18.109375 37.203125 18.109375 27.296875 \nQ 18.109375 17.390625 22.1875 11.75 \nQ 26.265625 6.109375 33.40625 6.109375 \nQ 40.53125 6.109375 44.609375 11.75 \nQ 48.6875 17.390625 48.6875 27.296875 \nz\n\" id=\"DejaVuSans-112\"/>\n      <path d=\"M 44.28125 53.078125 \nL 44.28125 44.578125 \nQ 40.484375 46.53125 36.375 47.5 \nQ 32.28125 48.484375 27.875 48.484375 \nQ 21.1875 48.484375 17.84375 46.4375 \nQ 14.5 44.390625 14.5 40.28125 \nQ 14.5 37.15625 16.890625 35.375 \nQ 19.28125 33.59375 26.515625 31.984375 \nL 29.59375 31.296875 \nQ 39.15625 29.25 43.1875 25.515625 \nQ 47.21875 21.78125 47.21875 15.09375 \nQ 47.21875 7.46875 41.1875 3.015625 \nQ 35.15625 -1.421875 24.609375 -1.421875 \nQ 20.21875 -1.421875 15.453125 -0.5625 \nQ 10.6875 0.296875 5.421875 2 \nL 5.421875 11.28125 \nQ 10.40625 8.6875 15.234375 7.390625 \nQ 20.0625 6.109375 24.8125 6.109375 \nQ 31.15625 6.109375 34.5625 8.28125 \nQ 37.984375 10.453125 37.984375 14.40625 \nQ 37.984375 18.0625 35.515625 20.015625 \nQ 33.0625 21.96875 24.703125 23.78125 \nL 21.578125 24.515625 \nQ 13.234375 26.265625 9.515625 29.90625 \nQ 5.8125 33.546875 5.8125 39.890625 \nQ 5.8125 47.609375 11.28125 51.796875 \nQ 16.75 56 26.8125 56 \nQ 31.78125 56 36.171875 55.265625 \nQ 40.578125 54.546875 44.28125 53.078125 \nz\n\" id=\"DejaVuSans-115\"/>\n     </defs>\n     <g transform=\"translate(194.013281 268.087187)scale(0.1 -0.1)\">\n      <use xlink:href=\"#DejaVuSans-83\"/>\n      <use x=\"63.476562\" xlink:href=\"#DejaVuSans-116\"/>\n      <use x=\"102.685547\" xlink:href=\"#DejaVuSans-101\"/>\n      <use x=\"164.208984\" xlink:href=\"#DejaVuSans-112\"/>\n      <use x=\"227.685547\" xlink:href=\"#DejaVuSans-115\"/>\n     </g>\n    </g>\n   </g>\n   <g id=\"matplotlib.axis_2\">\n    <g id=\"ytick_1\">\n     <g id=\"line2d_7\">\n      <defs>\n       <path d=\"M 0 0 \nL -3.5 0 \n\" id=\"m8a72076aba\" style=\"stroke:#000000;stroke-width:0.8;\"/>\n      </defs>\n      <g>\n       <use style=\"stroke:#000000;stroke-width:0.8;\" x=\"40.603125\" xlink:href=\"#m8a72076aba\" y=\"212.792826\"/>\n      </g>\n     </g>\n     <g id=\"text_8\">\n      <!-- 20 -->\n      <g transform=\"translate(20.878125 216.592045)scale(0.1 -0.1)\">\n       <use xlink:href=\"#DejaVuSans-50\"/>\n       <use x=\"63.623047\" xlink:href=\"#DejaVuSans-48\"/>\n      </g>\n     </g>\n    </g>\n    <g id=\"ytick_2\">\n     <g id=\"line2d_8\">\n      <g>\n       <use style=\"stroke:#000000;stroke-width:0.8;\" x=\"40.603125\" xlink:href=\"#m8a72076aba\" y=\"180.031949\"/>\n      </g>\n     </g>\n     <g id=\"text_9\">\n      <!-- 25 -->\n      <defs>\n       <path d=\"M 10.796875 72.90625 \nL 49.515625 72.90625 \nL 49.515625 64.59375 \nL 19.828125 64.59375 \nL 19.828125 46.734375 \nQ 21.96875 47.46875 24.109375 47.828125 \nQ 26.265625 48.1875 28.421875 48.1875 \nQ 40.625 48.1875 47.75 41.5 \nQ 54.890625 34.8125 54.890625 23.390625 \nQ 54.890625 11.625 47.5625 5.09375 \nQ 40.234375 -1.421875 26.90625 -1.421875 \nQ 22.3125 -1.421875 17.546875 -0.640625 \nQ 12.796875 0.140625 7.71875 1.703125 \nL 7.71875 11.625 \nQ 12.109375 9.234375 16.796875 8.0625 \nQ 21.484375 6.890625 26.703125 6.890625 \nQ 35.15625 6.890625 40.078125 11.328125 \nQ 45.015625 15.765625 45.015625 23.390625 \nQ 45.015625 31 40.078125 35.4375 \nQ 35.15625 39.890625 26.703125 39.890625 \nQ 22.75 39.890625 18.8125 39.015625 \nQ 14.890625 38.140625 10.796875 36.28125 \nz\n\" id=\"DejaVuSans-53\"/>\n      </defs>\n      <g transform=\"translate(20.878125 183.831168)scale(0.1 -0.1)\">\n       <use xlink:href=\"#DejaVuSans-50\"/>\n       <use x=\"63.623047\" xlink:href=\"#DejaVuSans-53\"/>\n      </g>\n     </g>\n    </g>\n    <g id=\"ytick_3\">\n     <g id=\"line2d_9\">\n      <g>\n       <use style=\"stroke:#000000;stroke-width:0.8;\" x=\"40.603125\" xlink:href=\"#m8a72076aba\" y=\"147.271071\"/>\n      </g>\n     </g>\n     <g id=\"text_10\">\n      <!-- 30 -->\n      <defs>\n       <path d=\"M 40.578125 39.3125 \nQ 47.65625 37.796875 51.625 33 \nQ 55.609375 28.21875 55.609375 21.1875 \nQ 55.609375 10.40625 48.1875 4.484375 \nQ 40.765625 -1.421875 27.09375 -1.421875 \nQ 22.515625 -1.421875 17.65625 -0.515625 \nQ 12.796875 0.390625 7.625 2.203125 \nL 7.625 11.71875 \nQ 11.71875 9.328125 16.59375 8.109375 \nQ 21.484375 6.890625 26.8125 6.890625 \nQ 36.078125 6.890625 40.9375 10.546875 \nQ 45.796875 14.203125 45.796875 21.1875 \nQ 45.796875 27.640625 41.28125 31.265625 \nQ 36.765625 34.90625 28.71875 34.90625 \nL 20.21875 34.90625 \nL 20.21875 43.015625 \nL 29.109375 43.015625 \nQ 36.375 43.015625 40.234375 45.921875 \nQ 44.09375 48.828125 44.09375 54.296875 \nQ 44.09375 59.90625 40.109375 62.90625 \nQ 36.140625 65.921875 28.71875 65.921875 \nQ 24.65625 65.921875 20.015625 65.03125 \nQ 15.375 64.15625 9.8125 62.3125 \nL 9.8125 71.09375 \nQ 15.4375 72.65625 20.34375 73.4375 \nQ 25.25 74.21875 29.59375 74.21875 \nQ 40.828125 74.21875 47.359375 69.109375 \nQ 53.90625 64.015625 53.90625 55.328125 \nQ 53.90625 49.265625 50.4375 45.09375 \nQ 46.96875 40.921875 40.578125 39.3125 \nz\n\" id=\"DejaVuSans-51\"/>\n      </defs>\n      <g transform=\"translate(20.878125 151.07029)scale(0.1 -0.1)\">\n       <use xlink:href=\"#DejaVuSans-51\"/>\n       <use x=\"63.623047\" xlink:href=\"#DejaVuSans-48\"/>\n      </g>\n     </g>\n    </g>\n    <g id=\"ytick_4\">\n     <g id=\"line2d_10\">\n      <g>\n       <use style=\"stroke:#000000;stroke-width:0.8;\" x=\"40.603125\" xlink:href=\"#m8a72076aba\" y=\"114.510194\"/>\n      </g>\n     </g>\n     <g id=\"text_11\">\n      <!-- 35 -->\n      <g transform=\"translate(20.878125 118.309413)scale(0.1 -0.1)\">\n       <use xlink:href=\"#DejaVuSans-51\"/>\n       <use x=\"63.623047\" xlink:href=\"#DejaVuSans-53\"/>\n      </g>\n     </g>\n    </g>\n    <g id=\"ytick_5\">\n     <g id=\"line2d_11\">\n      <g>\n       <use style=\"stroke:#000000;stroke-width:0.8;\" x=\"40.603125\" xlink:href=\"#m8a72076aba\" y=\"81.749317\"/>\n      </g>\n     </g>\n     <g id=\"text_12\">\n      <!-- 40 -->\n      <g transform=\"translate(20.878125 85.548536)scale(0.1 -0.1)\">\n       <use xlink:href=\"#DejaVuSans-52\"/>\n       <use x=\"63.623047\" xlink:href=\"#DejaVuSans-48\"/>\n      </g>\n     </g>\n    </g>\n    <g id=\"ytick_6\">\n     <g id=\"line2d_12\">\n      <g>\n       <use style=\"stroke:#000000;stroke-width:0.8;\" x=\"40.603125\" xlink:href=\"#m8a72076aba\" y=\"48.98844\"/>\n      </g>\n     </g>\n     <g id=\"text_13\">\n      <!-- 45 -->\n      <g transform=\"translate(20.878125 52.787658)scale(0.1 -0.1)\">\n       <use xlink:href=\"#DejaVuSans-52\"/>\n       <use x=\"63.623047\" xlink:href=\"#DejaVuSans-53\"/>\n      </g>\n     </g>\n    </g>\n    <g id=\"text_14\">\n     <!-- Velocity -->\n     <defs>\n      <path d=\"M 28.609375 0 \nL 0.78125 72.90625 \nL 11.078125 72.90625 \nL 34.1875 11.53125 \nL 57.328125 72.90625 \nL 67.578125 72.90625 \nL 39.796875 0 \nz\n\" id=\"DejaVuSans-86\"/>\n      <path d=\"M 9.421875 75.984375 \nL 18.40625 75.984375 \nL 18.40625 0 \nL 9.421875 0 \nz\n\" id=\"DejaVuSans-108\"/>\n      <path d=\"M 30.609375 48.390625 \nQ 23.390625 48.390625 19.1875 42.75 \nQ 14.984375 37.109375 14.984375 27.296875 \nQ 14.984375 17.484375 19.15625 11.84375 \nQ 23.34375 6.203125 30.609375 6.203125 \nQ 37.796875 6.203125 41.984375 11.859375 \nQ 46.1875 17.53125 46.1875 27.296875 \nQ 46.1875 37.015625 41.984375 42.703125 \nQ 37.796875 48.390625 30.609375 48.390625 \nz\nM 30.609375 56 \nQ 42.328125 56 49.015625 48.375 \nQ 55.71875 40.765625 55.71875 27.296875 \nQ 55.71875 13.875 49.015625 6.21875 \nQ 42.328125 -1.421875 30.609375 -1.421875 \nQ 18.84375 -1.421875 12.171875 6.21875 \nQ 5.515625 13.875 5.515625 27.296875 \nQ 5.515625 40.765625 12.171875 48.375 \nQ 18.84375 56 30.609375 56 \nz\n\" id=\"DejaVuSans-111\"/>\n      <path d=\"M 48.78125 52.59375 \nL 48.78125 44.1875 \nQ 44.96875 46.296875 41.140625 47.34375 \nQ 37.3125 48.390625 33.40625 48.390625 \nQ 24.65625 48.390625 19.8125 42.84375 \nQ 14.984375 37.3125 14.984375 27.296875 \nQ 14.984375 17.28125 19.8125 11.734375 \nQ 24.65625 6.203125 33.40625 6.203125 \nQ 37.3125 6.203125 41.140625 7.25 \nQ 44.96875 8.296875 48.78125 10.40625 \nL 48.78125 2.09375 \nQ 45.015625 0.34375 40.984375 -0.53125 \nQ 36.96875 -1.421875 32.421875 -1.421875 \nQ 20.0625 -1.421875 12.78125 6.34375 \nQ 5.515625 14.109375 5.515625 27.296875 \nQ 5.515625 40.671875 12.859375 48.328125 \nQ 20.21875 56 33.015625 56 \nQ 37.15625 56 41.109375 55.140625 \nQ 45.0625 54.296875 48.78125 52.59375 \nz\n\" id=\"DejaVuSans-99\"/>\n      <path d=\"M 9.421875 54.6875 \nL 18.40625 54.6875 \nL 18.40625 0 \nL 9.421875 0 \nz\nM 9.421875 75.984375 \nL 18.40625 75.984375 \nL 18.40625 64.59375 \nL 9.421875 64.59375 \nz\n\" id=\"DejaVuSans-105\"/>\n      <path d=\"M 32.171875 -5.078125 \nQ 28.375 -14.84375 24.75 -17.8125 \nQ 21.140625 -20.796875 15.09375 -20.796875 \nL 7.90625 -20.796875 \nL 7.90625 -13.28125 \nL 13.1875 -13.28125 \nQ 16.890625 -13.28125 18.9375 -11.515625 \nQ 21 -9.765625 23.484375 -3.21875 \nL 25.09375 0.875 \nL 2.984375 54.6875 \nL 12.5 54.6875 \nL 29.59375 11.921875 \nL 46.6875 54.6875 \nL 56.203125 54.6875 \nz\n\" id=\"DejaVuSans-121\"/>\n     </defs>\n     <g transform=\"translate(14.798438 151.088281)rotate(-90)scale(0.1 -0.1)\">\n      <use xlink:href=\"#DejaVuSans-86\"/>\n      <use x=\"68.298828\" xlink:href=\"#DejaVuSans-101\"/>\n      <use x=\"129.822266\" xlink:href=\"#DejaVuSans-108\"/>\n      <use x=\"157.605469\" xlink:href=\"#DejaVuSans-111\"/>\n      <use x=\"218.787109\" xlink:href=\"#DejaVuSans-99\"/>\n      <use x=\"273.767578\" xlink:href=\"#DejaVuSans-105\"/>\n      <use x=\"301.550781\" xlink:href=\"#DejaVuSans-116\"/>\n      <use x=\"340.759766\" xlink:href=\"#DejaVuSans-121\"/>\n     </g>\n    </g>\n   </g>\n   <g id=\"line2d_13\">\n    <path clip-path=\"url(#p74b31bb0d4)\" d=\"M 55.821307 78.50223 \nL 58.491163 65.992258 \nL 61.16102 58.466707 \nL 63.830876 54.329895 \nL 66.500733 52.350365 \nL 69.170589 51.76919 \nL 71.840446 52.142242 \nL 74.510302 53.217985 \nL 77.180158 54.841933 \nL 79.850015 56.909327 \nL 82.519871 59.338264 \nL 85.189728 62.055177 \nL 87.859584 64.988305 \nL 90.529441 68.067444 \nL 93.199297 71.228624 \nL 95.869154 74.421515 \nL 98.53901 77.618891 \nL 101.208867 80.827638 \nL 103.878723 84.100466 \nL 106.54858 87.54708 \nL 109.218436 91.339408 \nL 111.888292 95.512906 \nL 114.558149 100.212139 \nL 117.228005 105.543448 \nL 119.897862 111.58196 \nL 122.567718 118.372972 \nL 125.237575 125.923892 \nL 127.907431 134.189751 \nL 130.577288 143.066392 \nL 133.247144 152.201019 \nL 135.917001 161.260276 \nL 138.586857 169.929423 \nL 141.256714 177.954367 \nL 143.92657 185.161912 \nL 146.596426 191.608891 \nL 149.266283 197.332648 \nL 151.936139 202.399875 \nL 154.605996 206.895112 \nL 157.275852 210.913578 \nL 159.945709 214.41983 \nL 162.615565 217.415206 \nL 165.285422 219.903917 \nL 167.955278 221.893508 \nL 170.625135 223.399725 \nL 173.294991 224.62111 \nL 175.964847 225.589415 \nL 178.634704 226.283604 \nL 181.30456 226.651653 \nL 183.974417 226.641265 \nL 186.644273 226.449271 \nL 189.31413 226.10774 \nL 191.983986 225.58787 \nL 194.653843 224.82084 \nL 197.323699 223.729337 \nL 199.993556 222.491563 \nL 202.663412 221.165242 \nL 205.333269 219.762867 \nL 208.003125 218.262336 \nL 210.672981 216.61861 \nL 213.342838 214.884627 \nL 216.012694 213.072705 \nL 218.682551 211.175229 \nL 221.352407 209.16482 \nL 224.022264 206.996454 \nL 226.69212 204.665222 \nL 229.361977 202.146385 \nL 232.031833 199.407369 \nL 234.70169 196.416271 \nL 237.371546 193.148665 \nL 240.041403 189.742716 \nL 242.711259 186.279317 \nL 245.381115 182.827482 \nL 248.050972 179.443253 \nL 250.720828 176.175701 \nL 253.390685 172.987539 \nL 256.060541 169.895934 \nL 258.730398 166.932406 \nL 261.400254 164.135229 \nL 264.070111 161.55372 \nL 266.739967 159.155839 \nL 269.409824 156.952549 \nL 272.07968 154.966853 \nL 274.749536 153.224847 \nL 277.419393 151.764571 \nL 280.089249 150.497136 \nL 282.759106 149.375055 \nL 285.428962 148.363598 \nL 288.098819 147.43716 \nL 290.768675 146.576607 \nL 293.438532 145.767436 \nL 296.108388 144.998464 \nL 298.778245 144.260835 \nL 301.448101 143.547196 \nL 304.117958 142.851257 \nL 306.787814 142.167197 \nL 309.45767 141.489137 \nL 312.127527 140.811009 \nL 314.797383 140.125937 \nL 317.46724 139.426144 \nL 320.137096 138.701474 \nL 322.806953 137.944763 \nL 325.476809 137.143328 \nL 328.146666 136.277731 \nL 330.816522 135.317682 \nL 333.486379 134.215873 \nL 336.156235 132.897685 \nL 338.826092 131.245497 \nL 341.495948 129.079072 \nL 344.165804 126.144044 \nL 346.835661 122.153189 \nL 349.505517 116.982393 \nL 352.175374 111.1369 \nL 354.84523 106.33742 \nL 357.515087 105.522699 \nL 360.184943 111.677642 \n\" style=\"fill:none;stroke:#1f77b4;stroke-linecap:square;stroke-width:1.5;\"/>\n   </g>\n   <g id=\"line2d_14\">\n    <path clip-path=\"url(#p74b31bb0d4)\" d=\"M 55.821307 32.254261 \nL 58.491163 36.443425 \nL 61.16102 40.677887 \nL 63.830876 44.959616 \nL 66.500733 49.29069 \nL 69.170589 53.671574 \nL 71.840446 58.10634 \nL 74.510302 62.597614 \nL 77.180158 67.148183 \nL 79.850015 71.761082 \nL 82.519871 76.43962 \nL 85.189728 81.187322 \nL 87.859584 86.00818 \nL 90.529441 90.906377 \nL 93.199297 95.886669 \nL 95.869154 100.954196 \nL 98.53901 106.114644 \nL 101.208867 111.374329 \nL 103.878723 116.740262 \nL 106.54858 122.22033 \nL 109.218436 127.448959 \nL 111.888292 132.714029 \nL 114.558149 137.990253 \nL 117.228005 143.259342 \nL 119.897862 148.509718 \nL 122.567718 153.73672 \nL 125.237575 158.943165 \nL 127.907431 164.140369 \nL 130.577288 168.999773 \nL 133.247144 173.670027 \nL 135.917001 178.12054 \nL 138.586857 182.321281 \nL 141.256714 186.243054 \nL 143.92657 190.07308 \nL 146.596426 193.876193 \nL 149.266283 197.676039 \nL 151.936139 201.519201 \nL 154.605996 205.469815 \nL 157.275852 209.306567 \nL 159.945709 212.94624 \nL 162.615565 216.296297 \nL 165.285422 219.206734 \nL 167.955278 221.202955 \nL 170.625135 222.864041 \nL 173.294991 224.903181 \nL 175.964847 227.189456 \nL 178.634704 229.631925 \nL 181.30456 229.779932 \nL 183.974417 229.926989 \nL 186.644273 228.823054 \nL 189.31413 228.975079 \nL 191.983986 229.126449 \nL 194.653843 229.273964 \nL 197.323699 229.423645 \nL 199.993556 227.00185 \nL 202.663412 224.705926 \nL 205.333269 222.549437 \nL 208.003125 220.610353 \nL 210.672981 219.010271 \nL 213.342838 216.967891 \nL 216.012694 214.740243 \nL 218.682551 212.436868 \nL 221.352407 210.139139 \nL 224.022264 207.878508 \nL 226.69212 205.5075 \nL 229.361977 203.048902 \nL 232.031833 200.548873 \nL 234.70169 198.099132 \nL 237.371546 195.694335 \nL 240.041403 193.334699 \nL 242.711259 191.017219 \nL 245.381115 188.739938 \nL 248.050972 186.50182 \nL 250.720828 184.312936 \nL 253.390685 182.168039 \nL 256.060541 180.064723 \nL 258.730398 178.00106 \nL 261.400254 175.975548 \nL 264.070111 173.989169 \nL 266.739967 172.037878 \nL 269.409824 170.120117 \nL 272.07968 168.234479 \nL 274.749536 166.3798 \nL 277.419393 164.482993 \nL 280.089249 162.617339 \nL 282.759106 160.781687 \nL 285.428962 158.974986 \nL 288.098819 157.196265 \nL 290.768675 155.444609 \nL 293.438532 153.719156 \nL 296.108388 152.019127 \nL 298.778245 150.343771 \nL 301.448101 148.69243 \nL 304.117958 147.064437 \nL 306.787814 145.459202 \nL 309.45767 143.876165 \nL 312.127527 142.314807 \nL 314.797383 140.774636 \nL 317.46724 139.255187 \nL 320.137096 137.754506 \nL 322.806953 136.273548 \nL 325.476809 134.811714 \nL 328.146666 133.368483 \nL 330.816522 131.941012 \nL 333.486379 130.527073 \nL 336.156235 129.126352 \nL 338.826092 127.738562 \nL 341.495948 126.363416 \nL 344.165804 125.000667 \nL 346.835661 123.650084 \nL 349.505517 122.311434 \nL 352.175374 120.984498 \nL 354.84523 119.669098 \nL 357.515087 118.365057 \nL 360.184943 117.072184 \n\" style=\"fill:none;stroke:#ff7f0e;stroke-linecap:square;stroke-width:1.5;\"/>\n   </g>\n   <g id=\"patch_3\">\n    <path d=\"M 40.603125 239.810625 \nL 40.603125 22.370625 \n\" style=\"fill:none;stroke:#000000;stroke-linecap:square;stroke-linejoin:miter;stroke-width:0.8;\"/>\n   </g>\n   <g id=\"patch_4\">\n    <path d=\"M 375.403125 239.810625 \nL 375.403125 22.370625 \n\" style=\"fill:none;stroke:#000000;stroke-linecap:square;stroke-linejoin:miter;stroke-width:0.8;\"/>\n   </g>\n   <g id=\"patch_5\">\n    <path d=\"M 40.603125 239.810625 \nL 375.403125 239.810625 \n\" style=\"fill:none;stroke:#000000;stroke-linecap:square;stroke-linejoin:miter;stroke-width:0.8;\"/>\n   </g>\n   <g id=\"patch_6\">\n    <path d=\"M 40.603125 22.370625 \nL 375.403125 22.370625 \n\" style=\"fill:none;stroke:#000000;stroke-linecap:square;stroke-linejoin:miter;stroke-width:0.8;\"/>\n   </g>\n   <g id=\"text_15\">\n    <!-- | BLSTM_1_15_2_Iter50_MB | Loss: 0.0221 |  -->\n    <defs>\n     <path d=\"M 21 76.421875 \nL 21 -23.578125 \nL 12.703125 -23.578125 \nL 12.703125 76.421875 \nz\n\" id=\"DejaVuSans-124\"/>\n     <path id=\"DejaVuSans-32\"/>\n     <path d=\"M 19.671875 34.8125 \nL 19.671875 8.109375 \nL 35.5 8.109375 \nQ 43.453125 8.109375 47.28125 11.40625 \nQ 51.125 14.703125 51.125 21.484375 \nQ 51.125 28.328125 47.28125 31.5625 \nQ 43.453125 34.8125 35.5 34.8125 \nz\nM 19.671875 64.796875 \nL 19.671875 42.828125 \nL 34.28125 42.828125 \nQ 41.5 42.828125 45.03125 45.53125 \nQ 48.578125 48.25 48.578125 53.8125 \nQ 48.578125 59.328125 45.03125 62.0625 \nQ 41.5 64.796875 34.28125 64.796875 \nz\nM 9.8125 72.90625 \nL 35.015625 72.90625 \nQ 46.296875 72.90625 52.390625 68.21875 \nQ 58.5 63.53125 58.5 54.890625 \nQ 58.5 48.1875 55.375 44.234375 \nQ 52.25 40.28125 46.1875 39.3125 \nQ 53.46875 37.75 57.5 32.78125 \nQ 61.53125 27.828125 61.53125 20.40625 \nQ 61.53125 10.640625 54.890625 5.3125 \nQ 48.25 0 35.984375 0 \nL 9.8125 0 \nz\n\" id=\"DejaVuSans-66\"/>\n     <path d=\"M 9.8125 72.90625 \nL 19.671875 72.90625 \nL 19.671875 8.296875 \nL 55.171875 8.296875 \nL 55.171875 0 \nL 9.8125 0 \nz\n\" id=\"DejaVuSans-76\"/>\n     <path d=\"M -0.296875 72.90625 \nL 61.375 72.90625 \nL 61.375 64.59375 \nL 35.5 64.59375 \nL 35.5 0 \nL 25.59375 0 \nL 25.59375 64.59375 \nL -0.296875 64.59375 \nz\n\" id=\"DejaVuSans-84\"/>\n     <path d=\"M 9.8125 72.90625 \nL 24.515625 72.90625 \nL 43.109375 23.296875 \nL 61.8125 72.90625 \nL 76.515625 72.90625 \nL 76.515625 0 \nL 66.890625 0 \nL 66.890625 64.015625 \nL 48.09375 14.015625 \nL 38.1875 14.015625 \nL 19.390625 64.015625 \nL 19.390625 0 \nL 9.8125 0 \nz\n\" id=\"DejaVuSans-77\"/>\n     <path d=\"M 50.984375 -16.609375 \nL 50.984375 -23.578125 \nL -0.984375 -23.578125 \nL -0.984375 -16.609375 \nz\n\" id=\"DejaVuSans-95\"/>\n     <path d=\"M 9.8125 72.90625 \nL 19.671875 72.90625 \nL 19.671875 0 \nL 9.8125 0 \nz\n\" id=\"DejaVuSans-73\"/>\n     <path d=\"M 41.109375 46.296875 \nQ 39.59375 47.171875 37.8125 47.578125 \nQ 36.03125 48 33.890625 48 \nQ 26.265625 48 22.1875 43.046875 \nQ 18.109375 38.09375 18.109375 28.8125 \nL 18.109375 0 \nL 9.078125 0 \nL 9.078125 54.6875 \nL 18.109375 54.6875 \nL 18.109375 46.1875 \nQ 20.953125 51.171875 25.484375 53.578125 \nQ 30.03125 56 36.53125 56 \nQ 37.453125 56 38.578125 55.875 \nQ 39.703125 55.765625 41.0625 55.515625 \nz\n\" id=\"DejaVuSans-114\"/>\n     <path d=\"M 11.71875 12.40625 \nL 22.015625 12.40625 \nL 22.015625 0 \nL 11.71875 0 \nz\nM 11.71875 51.703125 \nL 22.015625 51.703125 \nL 22.015625 39.3125 \nL 11.71875 39.3125 \nz\n\" id=\"DejaVuSans-58\"/>\n     <path d=\"M 10.6875 12.40625 \nL 21 12.40625 \nL 21 0 \nL 10.6875 0 \nz\n\" id=\"DejaVuSans-46\"/>\n    </defs>\n    <g transform=\"translate(76.628437 16.370625)scale(0.12 -0.12)\">\n     <use xlink:href=\"#DejaVuSans-124\"/>\n     <use x=\"33.691406\" xlink:href=\"#DejaVuSans-32\"/>\n     <use x=\"65.478516\" xlink:href=\"#DejaVuSans-66\"/>\n     <use x=\"134.082031\" xlink:href=\"#DejaVuSans-76\"/>\n     <use x=\"189.794922\" xlink:href=\"#DejaVuSans-83\"/>\n     <use x=\"253.271484\" xlink:href=\"#DejaVuSans-84\"/>\n     <use x=\"314.355469\" xlink:href=\"#DejaVuSans-77\"/>\n     <use x=\"400.634766\" xlink:href=\"#DejaVuSans-95\"/>\n     <use x=\"450.634766\" xlink:href=\"#DejaVuSans-49\"/>\n     <use x=\"514.257812\" xlink:href=\"#DejaVuSans-95\"/>\n     <use x=\"564.257812\" xlink:href=\"#DejaVuSans-49\"/>\n     <use x=\"627.880859\" xlink:href=\"#DejaVuSans-53\"/>\n     <use x=\"691.503906\" xlink:href=\"#DejaVuSans-95\"/>\n     <use x=\"741.503906\" xlink:href=\"#DejaVuSans-50\"/>\n     <use x=\"805.126953\" xlink:href=\"#DejaVuSans-95\"/>\n     <use x=\"855.126953\" xlink:href=\"#DejaVuSans-73\"/>\n     <use x=\"884.619141\" xlink:href=\"#DejaVuSans-116\"/>\n     <use x=\"923.828125\" xlink:href=\"#DejaVuSans-101\"/>\n     <use x=\"985.351562\" xlink:href=\"#DejaVuSans-114\"/>\n     <use x=\"1026.464844\" xlink:href=\"#DejaVuSans-53\"/>\n     <use x=\"1090.087891\" xlink:href=\"#DejaVuSans-48\"/>\n     <use x=\"1153.710938\" xlink:href=\"#DejaVuSans-95\"/>\n     <use x=\"1203.710938\" xlink:href=\"#DejaVuSans-77\"/>\n     <use x=\"1289.990234\" xlink:href=\"#DejaVuSans-66\"/>\n     <use x=\"1358.59375\" xlink:href=\"#DejaVuSans-32\"/>\n     <use x=\"1390.380859\" xlink:href=\"#DejaVuSans-124\"/>\n     <use x=\"1424.072266\" xlink:href=\"#DejaVuSans-32\"/>\n     <use x=\"1455.859375\" xlink:href=\"#DejaVuSans-76\"/>\n     <use x=\"1511.556641\" xlink:href=\"#DejaVuSans-111\"/>\n     <use x=\"1572.738281\" xlink:href=\"#DejaVuSans-115\"/>\n     <use x=\"1624.837891\" xlink:href=\"#DejaVuSans-115\"/>\n     <use x=\"1676.9375\" xlink:href=\"#DejaVuSans-58\"/>\n     <use x=\"1710.628906\" xlink:href=\"#DejaVuSans-32\"/>\n     <use x=\"1742.416016\" xlink:href=\"#DejaVuSans-48\"/>\n     <use x=\"1806.039062\" xlink:href=\"#DejaVuSans-46\"/>\n     <use x=\"1837.826172\" xlink:href=\"#DejaVuSans-48\"/>\n     <use x=\"1901.449219\" xlink:href=\"#DejaVuSans-50\"/>\n     <use x=\"1965.072266\" xlink:href=\"#DejaVuSans-50\"/>\n     <use x=\"2028.695312\" xlink:href=\"#DejaVuSans-49\"/>\n     <use x=\"2092.318359\" xlink:href=\"#DejaVuSans-32\"/>\n     <use x=\"2124.105469\" xlink:href=\"#DejaVuSans-124\"/>\n     <use x=\"2157.796875\" xlink:href=\"#DejaVuSans-32\"/>\n    </g>\n   </g>\n   <g id=\"legend_1\">\n    <g id=\"patch_7\">\n     <path d=\"M 291.260937 60.283125 \nL 368.403125 60.283125 \nQ 370.403125 60.283125 370.403125 58.283125 \nL 370.403125 29.370625 \nQ 370.403125 27.370625 368.403125 27.370625 \nL 291.260937 27.370625 \nQ 289.260937 27.370625 289.260937 29.370625 \nL 289.260937 58.283125 \nQ 289.260937 60.283125 291.260937 60.283125 \nz\n\" style=\"fill:#ffffff;opacity:0.8;stroke:#cccccc;stroke-linejoin:miter;\"/>\n    </g>\n    <g id=\"line2d_15\">\n     <path d=\"M 293.260937 35.469062 \nL 313.260937 35.469062 \n\" style=\"fill:none;stroke:#1f77b4;stroke-linecap:square;stroke-width:1.5;\"/>\n    </g>\n    <g id=\"line2d_16\"/>\n    <g id=\"text_16\">\n     <!-- ML_Pred -->\n     <defs>\n      <path d=\"M 19.671875 64.796875 \nL 19.671875 37.40625 \nL 32.078125 37.40625 \nQ 38.96875 37.40625 42.71875 40.96875 \nQ 46.484375 44.53125 46.484375 51.125 \nQ 46.484375 57.671875 42.71875 61.234375 \nQ 38.96875 64.796875 32.078125 64.796875 \nz\nM 9.8125 72.90625 \nL 32.078125 72.90625 \nQ 44.34375 72.90625 50.609375 67.359375 \nQ 56.890625 61.8125 56.890625 51.125 \nQ 56.890625 40.328125 50.609375 34.8125 \nQ 44.34375 29.296875 32.078125 29.296875 \nL 19.671875 29.296875 \nL 19.671875 0 \nL 9.8125 0 \nz\n\" id=\"DejaVuSans-80\"/>\n      <path d=\"M 45.40625 46.390625 \nL 45.40625 75.984375 \nL 54.390625 75.984375 \nL 54.390625 0 \nL 45.40625 0 \nL 45.40625 8.203125 \nQ 42.578125 3.328125 38.25 0.953125 \nQ 33.9375 -1.421875 27.875 -1.421875 \nQ 17.96875 -1.421875 11.734375 6.484375 \nQ 5.515625 14.40625 5.515625 27.296875 \nQ 5.515625 40.1875 11.734375 48.09375 \nQ 17.96875 56 27.875 56 \nQ 33.9375 56 38.25 53.625 \nQ 42.578125 51.265625 45.40625 46.390625 \nz\nM 14.796875 27.296875 \nQ 14.796875 17.390625 18.875 11.75 \nQ 22.953125 6.109375 30.078125 6.109375 \nQ 37.203125 6.109375 41.296875 11.75 \nQ 45.40625 17.390625 45.40625 27.296875 \nQ 45.40625 37.203125 41.296875 42.84375 \nQ 37.203125 48.484375 30.078125 48.484375 \nQ 22.953125 48.484375 18.875 42.84375 \nQ 14.796875 37.203125 14.796875 27.296875 \nz\n\" id=\"DejaVuSans-100\"/>\n     </defs>\n     <g transform=\"translate(321.260937 38.969062)scale(0.1 -0.1)\">\n      <use xlink:href=\"#DejaVuSans-77\"/>\n      <use x=\"86.279297\" xlink:href=\"#DejaVuSans-76\"/>\n      <use x=\"141.992188\" xlink:href=\"#DejaVuSans-95\"/>\n      <use x=\"191.992188\" xlink:href=\"#DejaVuSans-80\"/>\n      <use x=\"252.279297\" xlink:href=\"#DejaVuSans-114\"/>\n      <use x=\"293.361328\" xlink:href=\"#DejaVuSans-101\"/>\n      <use x=\"354.884766\" xlink:href=\"#DejaVuSans-100\"/>\n     </g>\n    </g>\n    <g id=\"line2d_17\">\n     <path d=\"M 293.260937 50.425312 \nL 313.260937 50.425312 \n\" style=\"fill:none;stroke:#ff7f0e;stroke-linecap:square;stroke-width:1.5;\"/>\n    </g>\n    <g id=\"line2d_18\"/>\n    <g id=\"text_17\">\n     <!-- Opt_Real -->\n     <defs>\n      <path d=\"M 39.40625 66.21875 \nQ 28.65625 66.21875 22.328125 58.203125 \nQ 16.015625 50.203125 16.015625 36.375 \nQ 16.015625 22.609375 22.328125 14.59375 \nQ 28.65625 6.59375 39.40625 6.59375 \nQ 50.140625 6.59375 56.421875 14.59375 \nQ 62.703125 22.609375 62.703125 36.375 \nQ 62.703125 50.203125 56.421875 58.203125 \nQ 50.140625 66.21875 39.40625 66.21875 \nz\nM 39.40625 74.21875 \nQ 54.734375 74.21875 63.90625 63.9375 \nQ 73.09375 53.65625 73.09375 36.375 \nQ 73.09375 19.140625 63.90625 8.859375 \nQ 54.734375 -1.421875 39.40625 -1.421875 \nQ 24.03125 -1.421875 14.8125 8.828125 \nQ 5.609375 19.09375 5.609375 36.375 \nQ 5.609375 53.65625 14.8125 63.9375 \nQ 24.03125 74.21875 39.40625 74.21875 \nz\n\" id=\"DejaVuSans-79\"/>\n      <path d=\"M 44.390625 34.1875 \nQ 47.5625 33.109375 50.5625 29.59375 \nQ 53.5625 26.078125 56.59375 19.921875 \nL 66.609375 0 \nL 56 0 \nL 46.6875 18.703125 \nQ 43.0625 26.03125 39.671875 28.421875 \nQ 36.28125 30.8125 30.421875 30.8125 \nL 19.671875 30.8125 \nL 19.671875 0 \nL 9.8125 0 \nL 9.8125 72.90625 \nL 32.078125 72.90625 \nQ 44.578125 72.90625 50.734375 67.671875 \nQ 56.890625 62.453125 56.890625 51.90625 \nQ 56.890625 45.015625 53.6875 40.46875 \nQ 50.484375 35.9375 44.390625 34.1875 \nz\nM 19.671875 64.796875 \nL 19.671875 38.921875 \nL 32.078125 38.921875 \nQ 39.203125 38.921875 42.84375 42.21875 \nQ 46.484375 45.515625 46.484375 51.90625 \nQ 46.484375 58.296875 42.84375 61.546875 \nQ 39.203125 64.796875 32.078125 64.796875 \nz\n\" id=\"DejaVuSans-82\"/>\n      <path d=\"M 34.28125 27.484375 \nQ 23.390625 27.484375 19.1875 25 \nQ 14.984375 22.515625 14.984375 16.5 \nQ 14.984375 11.71875 18.140625 8.90625 \nQ 21.296875 6.109375 26.703125 6.109375 \nQ 34.1875 6.109375 38.703125 11.40625 \nQ 43.21875 16.703125 43.21875 25.484375 \nL 43.21875 27.484375 \nz\nM 52.203125 31.203125 \nL 52.203125 0 \nL 43.21875 0 \nL 43.21875 8.296875 \nQ 40.140625 3.328125 35.546875 0.953125 \nQ 30.953125 -1.421875 24.3125 -1.421875 \nQ 15.921875 -1.421875 10.953125 3.296875 \nQ 6 8.015625 6 15.921875 \nQ 6 25.140625 12.171875 29.828125 \nQ 18.359375 34.515625 30.609375 34.515625 \nL 43.21875 34.515625 \nL 43.21875 35.40625 \nQ 43.21875 41.609375 39.140625 45 \nQ 35.0625 48.390625 27.6875 48.390625 \nQ 23 48.390625 18.546875 47.265625 \nQ 14.109375 46.140625 10.015625 43.890625 \nL 10.015625 52.203125 \nQ 14.9375 54.109375 19.578125 55.046875 \nQ 24.21875 56 28.609375 56 \nQ 40.484375 56 46.34375 49.84375 \nQ 52.203125 43.703125 52.203125 31.203125 \nz\n\" id=\"DejaVuSans-97\"/>\n     </defs>\n     <g transform=\"translate(321.260937 53.925312)scale(0.1 -0.1)\">\n      <use xlink:href=\"#DejaVuSans-79\"/>\n      <use x=\"78.710938\" xlink:href=\"#DejaVuSans-112\"/>\n      <use x=\"142.1875\" xlink:href=\"#DejaVuSans-116\"/>\n      <use x=\"181.396484\" xlink:href=\"#DejaVuSans-95\"/>\n      <use x=\"231.396484\" xlink:href=\"#DejaVuSans-82\"/>\n      <use x=\"300.816406\" xlink:href=\"#DejaVuSans-101\"/>\n      <use x=\"362.339844\" xlink:href=\"#DejaVuSans-97\"/>\n      <use x=\"423.619141\" xlink:href=\"#DejaVuSans-108\"/>\n     </g>\n    </g>\n   </g>\n  </g>\n </g>\n <defs>\n  <clipPath id=\"p74b31bb0d4\">\n   <rect height=\"217.44\" width=\"334.8\" x=\"40.603125\" y=\"22.370625\"/>\n  </clipPath>\n </defs>\n</svg>\n",
      "text/plain": "<Figure size 432x288 with 1 Axes>"
     },
     "metadata": {
      "needs_background": "light"
     },
     "output_type": "display_data"
    },
    {
     "name": "stdout",
     "output_type": "stream",
     "text": "Evolived Time:  38.102149963378906 ms\n"
    },
    {
     "data": {
      "text/plain": "<function __main__.visual(x)>"
     },
     "execution_count": 16,
     "metadata": {},
     "output_type": "execute_result"
    }
   ],
   "source": [
    "from __future__ import print_function\n",
    "from ipywidgets import interact, interactive, fixed, interact_manual\n",
    "import ipywidgets as widgets\n",
    "import time\n",
    "\n",
    "\n",
    "def visual(x):\n",
    "    #The Visualisation\n",
    "    NR=x\n",
    "    \n",
    "    VelNormalize= Normalize(None,70)\n",
    "    \n",
    "    #Loss Functions\n",
    "    criterion = nn.L1Loss()\n",
    "    #criterion = nn.MSELoss()\n",
    "    \n",
    "    # Data\n",
    "    testdata_inp,testdata_inp_V,testdata_lable,testdata_lable_V=[],[],[],[]\n",
    "    \n",
    "    testdata_inp=torch.clone(traindata[NR][0])\n",
    "    testdata_inp_V=torch.clone(valdata[NR][0])\n",
    "    \n",
    "    testdata_lable=torch.clone(traindata[NR][1])\n",
    "    testdata_lable_V=torch.clone(valdata[NR][1])\n",
    "    \n",
    "\n",
    "    \n",
    "    #One Example\n",
    "    inputRNN=torch.reshape(testdata_inp,[-1,1]).unsqueeze(0)\n",
    "    inputRNN=inputRNN.to(device)\n",
    "    \n",
    "    t1=time.time()\n",
    "    with torch.no_grad():\n",
    "        hidden=model.zeroHidden()\n",
    "        hidden=hidden.to(device)\n",
    "        pred = model(inputRNN,hidden)\n",
    "    t2=time.time()\n",
    "    pred=pred.squeeze()\n",
    "    print(\"Evolived Time: \" , (t2-t1)*1000,\"ms\")\n",
    "    testdata_lable=testdata_lable.to(device)\n",
    "    loss=criterion(pred,testdata_lable)\n",
    "\n",
    "    %matplotlib inline\n",
    "    pred=VelNormalize.normal(np.array(pred.tolist()))\n",
    "    real=VelNormalize.normal(np.array(testdata_lable.tolist()))\n",
    "    plt.plot(pred,label=\"Pred\")\n",
    "    plt.plot(real,label= \"Real_Optimizer\")\n",
    "    plt.legend([\"ML_Pred\",\"Opt_Real\"])\n",
    "    plt.title(\"| \"+name + \" | Loss: \"+str(np.round(loss.item(),4))+\"\"+ \" | \" )\n",
    "    plt.xlabel(\"Steps\")\n",
    "    plt.ylabel(\"Velocity\")\n",
    "    \n",
    "    \n",
    "    LossEval=False\n",
    "    if LossEval:\n",
    "        R2Score_T=Scoring(traindata,\"R2\")\n",
    "        print(\"R2_T: \" ,R2Score_T)\n",
    "        R2Score_V=Scoring(valdata,\"R2\")\n",
    "        print(\"R2_V: \" ,R2Score_V)\n",
    "        \n",
    "        MAEScore_T=Scoring(traindata,\"MAE\")\n",
    "        print(\"MAE_T: \" ,MAEScore_T)\n",
    "        MAEScore_V=Scoring(valdata,\"MAE\")\n",
    "        print(\"MAE_V: \" ,MAEScore_V)\n",
    "        \n",
    "        MSEScore_T=Scoring(traindata,\"MSE\")\n",
    "        print(\"MSE_T: \" ,MSEScore_T)\n",
    "        MSEScore_V=Scoring(valdata,\"MSE\")\n",
    "        print(\"MSE_V: \" ,MSEScore_V)\n",
    "        \n",
    "        \n",
    "        \n",
    "\n",
    "    \n",
    "    \n",
    "    #scoreItem=r2_score(pred,valdata[NR][1])\n",
    "    #text= str(np.round(scoreItem,4))+ \"% [score] | \"+str(np.round(loss.item(),5)) +\" [loss] \"\n",
    "    MIN=min(pred)\n",
    "    #plt.text(76,MIN,text,horizontalalignment='center',verticalalignment='center')\n",
    "    #print(\"Loss:\", loss.item())\n",
    "    \n",
    "    \n",
    "    #print(\"The Score of the Train Dataset is: \",Score,\"%\")\n",
    "    \n",
    "interact(visual,x=(0,len(valdata)))"
   ]
  },
  {
   "cell_type": "markdown",
   "metadata": {},
   "source": [
    "## Save Model"
   ]
  },
  {
   "cell_type": "code",
   "execution_count": 37,
   "metadata": {},
   "outputs": [
    {
     "name": "stderr",
     "output_type": "stream",
     "text": [
      "C:\\Users\\Leon\\Anaconda3\\lib\\site-packages\\torch\\serialization.py:292: UserWarning: Couldn't retrieve source code for container of type LSTM. It won't be checked for correctness upon loading.\n",
      "  \"type \" + obj.__name__ + \". It won't be checked \"\n",
      "C:\\Users\\Leon\\Anaconda3\\lib\\site-packages\\torch\\serialization.py:292: UserWarning: Couldn't retrieve source code for container of type Linear. It won't be checked for correctness upon loading.\n",
      "  \"type \" + obj.__name__ + \". It won't be checked \"\n"
     ]
    }
   ],
   "source": [
    "#Save MODEL\n",
    "if save:\n",
    "    torch.save(model.state_dict(), PATH+\".pt\")\n",
    "    torch.save(model,PATH+\".pth\")"
   ]
  },
  {
   "cell_type": "code",
   "execution_count": 14,
   "metadata": {},
   "outputs": [
    {
     "data": {
      "text/plain": "LSTM(\n  (lstm): LSTM(1, 15, num_layers=2, batch_first=True, dropout=0.5, bidirectional=True)\n  (fc): Linear(in_features=30, out_features=1, bias=True)\n  (calcH): LSTM(1, 15, num_layers=2, batch_first=True, bidirectional=True)\n)"
     },
     "execution_count": 14,
     "metadata": {},
     "output_type": "execute_result"
    }
   ],
   "source": [
    "#Load MODEL with same Structure\n",
    "model=LSTM(input_size=1,output_size=1,hidden_dim=15,n_layers=2)\n",
    "loadPath= \"/Users/leonkiesgen/Documents/Python/BA_Optimization_ML/MaschineLearning/mlModels/BLSTM_1_15_2_Iter50_MB.pt\"\n",
    "model.load_state_dict(torch.load(loadPath,map_location=torch.device('cpu')))\n",
    "model.eval()"
   ]
  },
  {
   "cell_type": "code",
   "execution_count": null,
   "metadata": {},
   "outputs": [],
   "source": [
    "#Load MODEL with different Structure\n",
    "model2=torch.load(PATH+\".pth\")\n",
    "model2.eval()"
   ]
  },
  {
   "cell_type": "code",
   "execution_count": null,
   "metadata": {},
   "outputs": [],
   "source": [
    "model2(traindata[37][0])"
   ]
  },
  {
   "cell_type": "code",
   "execution_count": null,
   "metadata": {},
   "outputs": [],
   "source": []
  }
 ],
 "metadata": {
  "file_extension": ".py",
  "kernelspec": {
   "display_name": "Python 3",
   "language": "python",
   "name": "python3"
  },
  "language_info": {
   "codemirror_mode": {
    "name": "ipython",
    "version": 3
   },
   "file_extension": ".py",
   "mimetype": "text/x-python",
   "name": "python",
   "nbconvert_exporter": "python",
   "pygments_lexer": "ipython3",
   "version": "3.7.1"
  },
  "mimetype": "text/x-python",
  "name": "python",
  "npconvert_exporter": "python",
  "pygments_lexer": "ipython3",
  "version": 3
 },
 "nbformat": 4,
 "nbformat_minor": 2
}