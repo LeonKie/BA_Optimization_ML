{
 "cells": [
  {
   "cell_type": "code",
   "execution_count": 41,
   "metadata": {},
   "outputs": [
    {
     "name": "stdout",
     "output_type": "stream",
     "text": [
      "Running on the GPU\n"
     ]
    },
    {
     "data": {
      "text/plain": [
       "<torch._C.Generator at 0x1eb15c2ced0>"
      ]
     },
     "execution_count": 41,
     "metadata": {},
     "output_type": "execute_result"
    }
   ],
   "source": [
    "import numpy as np\n",
    "import torch\n",
    "import matplotlib.pyplot as plt\n",
    "from torchvision import transforms\n",
    "import torch.nn.functional as F \n",
    "from torch import nn\n",
    "import sys\n",
    "#sys.path.insert(1, '/Users/leonkiesgen/Documents/Python/BA_Optimization_ML/MaschineLearning/visualisation')\n",
    "#import json_ImExport\n",
    "import LogDataImport\n",
    "import random\n",
    "import matplotlib.pyplot as plt\n",
    "#sys.path.insert(1,\"/Users/leonkiesgen/Documents/Python/src/tqdm\")\n",
    "\n",
    "#import torch.utils.tensorboard import SummaryWriter\n",
    "\n",
    "\n",
    "from tqdm.notebook import tqdm\n",
    "import time\n",
    "\n",
    "    \n",
    "if torch.cuda.is_available() and True:\n",
    "    device = torch.device(\"cuda:0\")  # you can continue going on here, like cuda:1 cuda:2....etc. \n",
    "    print(\"Running on the GPU\")\n",
    "else:\n",
    "    device = torch.device(\"cpu\")\n",
    "    print(\"Running on the CPU\")    \n",
    "    \n",
    "torch.manual_seed(0)"
   ]
  },
  {
   "cell_type": "code",
   "execution_count": 29,
   "metadata": {},
   "outputs": [
    {
     "name": "stderr",
     "output_type": "stream",
     "text": [
      "Der Befehl \"nvidia-smi\" ist entweder falsch geschrieben oder\n",
      "konnte nicht gefunden werden.\n"
     ]
    }
   ],
   "source": [
    "!nvidia-smi "
   ]
  },
  {
   "cell_type": "code",
   "execution_count": null,
   "metadata": {},
   "outputs": [],
   "source": [
    " "
   ]
  },
  {
   "cell_type": "markdown",
   "metadata": {},
   "source": [
    "## Data Import"
   ]
  },
  {
   "cell_type": "code",
   "execution_count": 42,
   "metadata": {},
   "outputs": [
    {
     "data": {
      "application/vnd.jupyter.widget-view+json": {
       "model_id": "aee49ad7644a46abaab1fff5ef03b73e",
       "version_major": 2,
       "version_minor": 0
      },
      "text/plain": [
       "HBox(children=(IntProgress(value=0, max=2), HTML(value='')))"
      ]
     },
     "metadata": {},
     "output_type": "display_data"
    },
    {
     "name": "stdout",
     "output_type": "stream",
     "text": [
      "\n"
     ]
    }
   ],
   "source": [
    "with tqdm(total=2) as pbar:\n",
    "    #Json\n",
    "    #Jsondata=json_ImExport.loadData(\"/Users/leonkiesgen/Documents/Python/Kappa_variation_vmax100.json\")\n",
    "    #Log File (Monteblanco)\n",
    "    pbar.update(1)\n",
    "    Logdata_MB=LogDataImport.get_data(\"15_00_59_data.csv\")\n",
    "\n",
    "    #Log File (Berlin)\n",
    "    pbar.update(1)\n",
    "    ValLogdata_B=LogDataImport.get_data(\"12_19_36_data.csv\")\n",
    "\n",
    "    #Log File (Modena)\n",
    "    #pbar.update(1)\n",
    "    #ValLogdata_M=LogDataImport.get_data(\"/Users/leonkiesgen/Documents/Python/mod_local_trajectory/logs/ltpl/2019_12_05/15_41_27_data.csv\")\n",
    "\n",
    "    #Log File (zalazone)\n",
    "    #pbar.update(1)\n",
    "    #ValLogdata_Z=LogDataImport.get_data(\"/Users/leonkiesgen/Documents/Python/mod_local_trajectory/logs/ltpl/2019_12_05/15_51_25_data.csv\")\n",
    "\n",
    "    #print(ValLogdata_Z)"
   ]
  },
  {
   "cell_type": "markdown",
   "metadata": {},
   "source": [
    "## Define NN Model"
   ]
  },
  {
   "cell_type": "code",
   "execution_count": 43,
   "metadata": {},
   "outputs": [],
   "source": [
    "class RNN(nn.Module):\n",
    "    def __init__(self,input_size,output_size,hidden_dim,n_layers):\n",
    "        super(RNN, self).__init__()\n",
    "        self.n_layers=n_layers\n",
    "        self.hidden_dim=hidden_dim\n",
    "        self.rnn= nn.RNN(input_size,hidden_dim,n_layers,batch_first=True,bidirectional=True)\n",
    "        self.fc = nn.Linear(2*hidden_dim, output_size)\n",
    "        \n",
    "        self.calcH = nn.RNN(input_size,hidden_dim,n_layers,batch_first=True,bidirectional=True)\n",
    "    def forward(self,x,hidden):\n",
    "        vini=x[:,0,:].squeeze()\n",
    "        hidden=self.initHidden(x[:,0,:])\n",
    "        #set_trace()\n",
    "        r_out,hidden =self.rnn(x[:,1:,:],hidden)\n",
    "        r_out=r_out.view(-1,2*self.hidden_dim)\n",
    "        output = self.fc(r_out)\n",
    "\n",
    "        return output\n",
    "    \n",
    "    def initHidden(self,vini):\n",
    "        \n",
    "        _,hidden=self.calcH(vini.unsqueeze(0),None)\n",
    "        return hidden\n",
    "    \n",
    "    def zeroHidden(self):\n",
    "        return torch.zeros(self.n_layers*2,1,self.hidden_dim)"
   ]
  },
  {
   "cell_type": "code",
   "execution_count": 44,
   "metadata": {},
   "outputs": [],
   "source": [
    "class LSTM(nn.Module):\n",
    "    def __init__(self,input_size,output_size,hidden_dim,n_layers):\n",
    "        super(LSTM, self).__init__()\n",
    "        self.n_layers=n_layers\n",
    "        self.hidden_dim=hidden_dim\n",
    "        self.lstm= nn.LSTM(input_size,hidden_dim,n_layers,dropout=0.5,batch_first=True,bidirectional=True)\n",
    "        self.fc = nn.Linear(2*hidden_dim, output_size)\n",
    "        \n",
    "        self.calcH = nn.LSTM(input_size,hidden_dim,n_layers,batch_first=True,bidirectional=True)\n",
    "    def forward(self,x,hidden):\n",
    "        #vini=x[:,0,:].squeeze()\n",
    "        #hidden=self.initHidden(x[:,0,:])\n",
    "        #set_trace()\n",
    "        r_out,hidden =self.lstm(x[:,1:,:],None)\n",
    "        r_out=r_out.view(-1,2*self.hidden_dim)\n",
    "        output = self.fc(r_out)\n",
    "\n",
    "        return output\n",
    "    \n",
    "    def initHidden(self,vini):\n",
    "        \n",
    "        _,hidden=self.calcH(vini.unsqueeze(0),None)\n",
    "        return hidden\n",
    "    \n",
    "    def zeroHidden(self):\n",
    "        return torch.zeros(self.n_layers*2,1,self.hidden_dim)"
   ]
  },
  {
   "cell_type": "markdown",
   "metadata": {},
   "source": [
    "## Data Preperation"
   ]
  },
  {
   "cell_type": "code",
   "execution_count": 45,
   "metadata": {},
   "outputs": [
    {
     "name": "stdout",
     "output_type": "stream",
     "text": [
      "torch.Size([1, 106, 1])\n",
      "tensor([-0.0966, -0.0137,  0.0537,  0.0723,  0.1011,  0.0999,  0.0988,  0.0954,\n",
      "         0.0968,  0.0973,  0.0982,  0.0982,  0.0984,  0.0969,  0.0959,  0.0957,\n",
      "         0.0958,  0.0960,  0.0961,  0.0963,  0.0964,  0.0965,  0.0966,  0.0967,\n",
      "         0.0968,  0.0968,  0.0970,  0.0968,  0.0967,  0.0961,  0.0956,  0.0955,\n",
      "         0.0954,  0.0954,  0.0953,  0.0953,  0.0953,  0.0952,  0.0952,  0.0951,\n",
      "         0.0951,  0.0950,  0.0950,  0.0949,  0.0949,  0.0949,  0.0949,  0.0948,\n",
      "         0.0948,  0.0947,  0.0947,  0.0946,  0.0946,  0.0945,  0.0944,  0.0944,\n",
      "         0.0943,  0.0942,  0.0943,  0.0943,  0.0946,  0.0948,  0.0948,  0.0948,\n",
      "         0.0948,  0.0948,  0.0948,  0.0949,  0.0949,  0.0949,  0.0949,  0.0949,\n",
      "         0.0949,  0.0949,  0.0950,  0.0950,  0.0951,  0.0951,  0.0951,  0.0951,\n",
      "         0.0952,  0.0952,  0.0952,  0.0952,  0.0952,  0.0953,  0.0953,  0.0953,\n",
      "         0.0954,  0.0954,  0.0956,  0.0958,  0.0960,  0.0962,  0.0963,  0.0968,\n",
      "         0.0968,  0.0961,  0.0974,  0.0946,  0.0843,  0.0811,  0.0286, -0.0149,\n",
      "        -0.0039], grad_fn=<SqueezeBackward0>)\n"
     ]
    }
   ],
   "source": [
    "\n",
    "model=RNN(input_size=1,output_size=1,hidden_dim=15,n_layers=2)\n",
    "#tb= SummaryWriter()\n",
    "#tb.add_graph(model)\n",
    "\n",
    "class Normalize():\n",
    "\n",
    "    def __init__(self,data,scale=None):\n",
    "\n",
    "        if scale is None:\n",
    "            self.max=np.max(np.abs(data))\n",
    "        else:\n",
    "            self.max=scale\n",
    "        #print(\"Max is: \",self.max )\n",
    "\n",
    "    def __call__(self,x):\n",
    "        return x/self.max\n",
    "\n",
    "    def normal(self,x):\n",
    "        return x*self.max\n",
    "\n",
    "# For Json\n",
    "def prepareData(data):\n",
    "    \n",
    "    prepareddata=[]\n",
    "    for item in data:\n",
    "\n",
    "        #Input Data --------------------\n",
    "        inpdata=[]\n",
    "        inpdata.append(item[\"v_ini\"])\n",
    "        inpdata.append(item[\"v_max\"])\n",
    "        inpdata.append(item[\"Power\"])   \n",
    "        inpdata.extend(item[\"Kappa\"])\n",
    "\n",
    "        #Label Data -------------------\n",
    "        label=item[\"V_op\"]\n",
    "\n",
    "        #Convert to Tensors -----------\n",
    "        inpdata=torch.Tensor(inpdata)\n",
    "        label=torch.Tensor(label)\n",
    "\n",
    "\n",
    "        tupledata=(inpdata,label)\n",
    "        prepareddata.append((inpdata,label))\n",
    "    \n",
    "\n",
    "    return prepareddata\n",
    "\n",
    "# For Log File\n",
    "def prepareLogData(indata):\n",
    "    #lowestLen=200\n",
    "    prepareddata=[]\n",
    "\n",
    "    #Initialize Nomalizer\n",
    "    #kappaNormalize=Normalize(allkappa)\n",
    "    kappaNormalize=Normalize(None,scale=0.05)\n",
    "    VelNormalize=Normalize(None,scale=70)\n",
    "    data=[]\n",
    "    for d in indata:\n",
    "        data.extend(d)\n",
    "\n",
    "    for item in data:\n",
    "        inpdata=[]\n",
    "        #lowestLen= len(item[1]) if len(item[1])< lowestLen else lowestLen\n",
    "\n",
    "        #Input Data --------------------\n",
    "        inpdata.append(VelNormalize(item[1][0]))\n",
    "        kappatmp=np.array(item[0][:])\n",
    "        kappatmp=kappaNormalize(kappatmp)\n",
    "        inpdata.extend(kappatmp) #Kappa\n",
    "        \n",
    "        #Label Data -------------------\n",
    "        label=np.array(item[1][:])\n",
    "\n",
    "        #Convert to Tensors -----------\n",
    "        inpdata=torch.Tensor(inpdata)\n",
    "        label=torch.Tensor(VelNormalize(label))\n",
    "\n",
    "        tupledata=(inpdata,label)\n",
    "        \n",
    "        #print(inpdata.shape,label.shape)\n",
    "        \n",
    "        prepareddata.append((inpdata,label))\n",
    "        \n",
    "    #print(lowestLen)\n",
    "    return prepareddata\n",
    "\n",
    "traindata=prepareLogData([Logdata_MB]) #[Logdata_MB,ValLogdata_M,ValLogdata_Z]\n",
    "valdata=prepareLogData([ValLogdata_B[:250]])\n",
    "#print(traindata[1])\n",
    "\n",
    "random.shuffle(traindata)\n",
    "random.shuffle(valdata)\n",
    "\n",
    "\n",
    "inputT=torch.reshape(traindata[1][0],[-1,1]).unsqueeze(0)\n",
    "print(inputT.shape)\n",
    "\n",
    "\n",
    "#h0= torch.zeros((2,1,10))\n",
    "h0=model.zeroHidden()\n",
    "r_out= model(inputT,h0)\n",
    "\n",
    "print(r_out.squeeze())"
   ]
  },
  {
   "cell_type": "code",
   "execution_count": 46,
   "metadata": {},
   "outputs": [
    {
     "data": {
      "application/vnd.jupyter.widget-view+json": {
       "model_id": "d6dd2f3afb084cddaef40f56b5380e93",
       "version_major": 2,
       "version_minor": 0
      },
      "text/plain": [
       "HBox(children=(IntProgress(value=0, description='Total Progress: ', max=50, style=ProgressStyle(description_wi…"
      ]
     },
     "metadata": {},
     "output_type": "display_data"
    },
    {
     "data": {
      "application/vnd.jupyter.widget-view+json": {
       "model_id": "",
       "version_major": 2,
       "version_minor": 0
      },
      "text/plain": [
       "HBox(children=(IntProgress(value=0, description='Training Data', max=1877, style=ProgressStyle(description_wid…"
      ]
     },
     "metadata": {},
     "output_type": "display_data"
    },
    {
     "data": {
      "application/vnd.jupyter.widget-view+json": {
       "model_id": "",
       "version_major": 2,
       "version_minor": 0
      },
      "text/plain": [
       "HBox(children=(IntProgress(value=0, description='Valiation Data', max=250, style=ProgressStyle(description_wid…"
      ]
     },
     "metadata": {},
     "output_type": "display_data"
    },
    {
     "name": "stdout",
     "output_type": "stream",
     "text": [
      "Epoch(1/50) | Training loss: 0.09866506110263525 | Val loss: 0.18903903663158417 | \n"
     ]
    },
    {
     "data": {
      "application/vnd.jupyter.widget-view+json": {
       "model_id": "",
       "version_major": 2,
       "version_minor": 0
      },
      "text/plain": [
       "HBox(children=(IntProgress(value=0, description='Training Data', max=1877, style=ProgressStyle(description_wid…"
      ]
     },
     "metadata": {},
     "output_type": "display_data"
    },
    {
     "data": {
      "application/vnd.jupyter.widget-view+json": {
       "model_id": "",
       "version_major": 2,
       "version_minor": 0
      },
      "text/plain": [
       "HBox(children=(IntProgress(value=0, description='Valiation Data', max=250, style=ProgressStyle(description_wid…"
      ]
     },
     "metadata": {},
     "output_type": "display_data"
    },
    {
     "name": "stdout",
     "output_type": "stream",
     "text": [
      "Epoch(2/50) | Training loss: 0.07177376621871687 | Val loss: 0.11340292543172836 | \n"
     ]
    },
    {
     "data": {
      "application/vnd.jupyter.widget-view+json": {
       "model_id": "",
       "version_major": 2,
       "version_minor": 0
      },
      "text/plain": [
       "HBox(children=(IntProgress(value=0, description='Training Data', max=1877, style=ProgressStyle(description_wid…"
      ]
     },
     "metadata": {},
     "output_type": "display_data"
    },
    {
     "data": {
      "application/vnd.jupyter.widget-view+json": {
       "model_id": "",
       "version_major": 2,
       "version_minor": 0
      },
      "text/plain": [
       "HBox(children=(IntProgress(value=0, description='Valiation Data', max=250, style=ProgressStyle(description_wid…"
      ]
     },
     "metadata": {},
     "output_type": "display_data"
    },
    {
     "name": "stdout",
     "output_type": "stream",
     "text": [
      "Epoch(3/50) | Training loss: 0.06506194724375357 | Val loss: 0.07586740702390671 | \n"
     ]
    },
    {
     "data": {
      "application/vnd.jupyter.widget-view+json": {
       "model_id": "",
       "version_major": 2,
       "version_minor": 0
      },
      "text/plain": [
       "HBox(children=(IntProgress(value=0, description='Training Data', max=1877, style=ProgressStyle(description_wid…"
      ]
     },
     "metadata": {},
     "output_type": "display_data"
    },
    {
     "data": {
      "application/vnd.jupyter.widget-view+json": {
       "model_id": "",
       "version_major": 2,
       "version_minor": 0
      },
      "text/plain": [
       "HBox(children=(IntProgress(value=0, description='Valiation Data', max=250, style=ProgressStyle(description_wid…"
      ]
     },
     "metadata": {},
     "output_type": "display_data"
    },
    {
     "name": "stdout",
     "output_type": "stream",
     "text": [
      "Epoch(4/50) | Training loss: 0.06247910636253397 | Val loss: 0.09888609498739243 | \n"
     ]
    },
    {
     "data": {
      "application/vnd.jupyter.widget-view+json": {
       "model_id": "",
       "version_major": 2,
       "version_minor": 0
      },
      "text/plain": [
       "HBox(children=(IntProgress(value=0, description='Training Data', max=1877, style=ProgressStyle(description_wid…"
      ]
     },
     "metadata": {},
     "output_type": "display_data"
    },
    {
     "data": {
      "application/vnd.jupyter.widget-view+json": {
       "model_id": "",
       "version_major": 2,
       "version_minor": 0
      },
      "text/plain": [
       "HBox(children=(IntProgress(value=0, description='Valiation Data', max=250, style=ProgressStyle(description_wid…"
      ]
     },
     "metadata": {},
     "output_type": "display_data"
    },
    {
     "name": "stdout",
     "output_type": "stream",
     "text": [
      "Epoch(5/50) | Training loss: 0.06320233298559882 | Val loss: 0.09185101836919785 | \n"
     ]
    },
    {
     "data": {
      "application/vnd.jupyter.widget-view+json": {
       "model_id": "",
       "version_major": 2,
       "version_minor": 0
      },
      "text/plain": [
       "HBox(children=(IntProgress(value=0, description='Training Data', max=1877, style=ProgressStyle(description_wid…"
      ]
     },
     "metadata": {},
     "output_type": "display_data"
    },
    {
     "data": {
      "application/vnd.jupyter.widget-view+json": {
       "model_id": "",
       "version_major": 2,
       "version_minor": 0
      },
      "text/plain": [
       "HBox(children=(IntProgress(value=0, description='Valiation Data', max=250, style=ProgressStyle(description_wid…"
      ]
     },
     "metadata": {},
     "output_type": "display_data"
    },
    {
     "name": "stdout",
     "output_type": "stream",
     "text": [
      "Epoch(6/50) | Training loss: 0.06375816995109301 | Val loss: 0.09479069709777832 | \n"
     ]
    },
    {
     "data": {
      "application/vnd.jupyter.widget-view+json": {
       "model_id": "",
       "version_major": 2,
       "version_minor": 0
      },
      "text/plain": [
       "HBox(children=(IntProgress(value=0, description='Training Data', max=1877, style=ProgressStyle(description_wid…"
      ]
     },
     "metadata": {},
     "output_type": "display_data"
    },
    {
     "data": {
      "application/vnd.jupyter.widget-view+json": {
       "model_id": "",
       "version_major": 2,
       "version_minor": 0
      },
      "text/plain": [
       "HBox(children=(IntProgress(value=0, description='Valiation Data', max=250, style=ProgressStyle(description_wid…"
      ]
     },
     "metadata": {},
     "output_type": "display_data"
    },
    {
     "name": "stdout",
     "output_type": "stream",
     "text": [
      "Epoch(7/50) | Training loss: 0.09859167971808541 | Val loss: 0.13701578974723816 | \n"
     ]
    },
    {
     "data": {
      "application/vnd.jupyter.widget-view+json": {
       "model_id": "",
       "version_major": 2,
       "version_minor": 0
      },
      "text/plain": [
       "HBox(children=(IntProgress(value=0, description='Training Data', max=1877, style=ProgressStyle(description_wid…"
      ]
     },
     "metadata": {},
     "output_type": "display_data"
    },
    {
     "data": {
      "application/vnd.jupyter.widget-view+json": {
       "model_id": "",
       "version_major": 2,
       "version_minor": 0
      },
      "text/plain": [
       "HBox(children=(IntProgress(value=0, description='Valiation Data', max=250, style=ProgressStyle(description_wid…"
      ]
     },
     "metadata": {},
     "output_type": "display_data"
    },
    {
     "name": "stdout",
     "output_type": "stream",
     "text": [
      "Epoch(8/50) | Training loss: 0.08884668828980063 | Val loss: 0.09107271581888199 | \n"
     ]
    },
    {
     "data": {
      "application/vnd.jupyter.widget-view+json": {
       "model_id": "",
       "version_major": 2,
       "version_minor": 0
      },
      "text/plain": [
       "HBox(children=(IntProgress(value=0, description='Training Data', max=1877, style=ProgressStyle(description_wid…"
      ]
     },
     "metadata": {},
     "output_type": "display_data"
    },
    {
     "data": {
      "application/vnd.jupyter.widget-view+json": {
       "model_id": "",
       "version_major": 2,
       "version_minor": 0
      },
      "text/plain": [
       "HBox(children=(IntProgress(value=0, description='Valiation Data', max=250, style=ProgressStyle(description_wid…"
      ]
     },
     "metadata": {},
     "output_type": "display_data"
    },
    {
     "name": "stdout",
     "output_type": "stream",
     "text": [
      "Epoch(9/50) | Training loss: 0.07276696040154647 | Val loss: 0.1272590607404709 | \n"
     ]
    },
    {
     "data": {
      "application/vnd.jupyter.widget-view+json": {
       "model_id": "",
       "version_major": 2,
       "version_minor": 0
      },
      "text/plain": [
       "HBox(children=(IntProgress(value=0, description='Training Data', max=1877, style=ProgressStyle(description_wid…"
      ]
     },
     "metadata": {},
     "output_type": "display_data"
    },
    {
     "data": {
      "application/vnd.jupyter.widget-view+json": {
       "model_id": "",
       "version_major": 2,
       "version_minor": 0
      },
      "text/plain": [
       "HBox(children=(IntProgress(value=0, description='Valiation Data', max=250, style=ProgressStyle(description_wid…"
      ]
     },
     "metadata": {},
     "output_type": "display_data"
    },
    {
     "name": "stdout",
     "output_type": "stream",
     "text": [
      "Epoch(10/50) | Training loss: 0.06903416319285333 | Val loss: 0.09826982766389847 | \n"
     ]
    },
    {
     "data": {
      "application/vnd.jupyter.widget-view+json": {
       "model_id": "",
       "version_major": 2,
       "version_minor": 0
      },
      "text/plain": [
       "HBox(children=(IntProgress(value=0, description='Training Data', max=1877, style=ProgressStyle(description_wid…"
      ]
     },
     "metadata": {},
     "output_type": "display_data"
    },
    {
     "data": {
      "application/vnd.jupyter.widget-view+json": {
       "model_id": "",
       "version_major": 2,
       "version_minor": 0
      },
      "text/plain": [
       "HBox(children=(IntProgress(value=0, description='Valiation Data', max=250, style=ProgressStyle(description_wid…"
      ]
     },
     "metadata": {},
     "output_type": "display_data"
    },
    {
     "name": "stdout",
     "output_type": "stream",
     "text": [
      "Epoch(11/50) | Training loss: 0.06593178870274498 | Val loss: 0.13139702379703522 | \n"
     ]
    },
    {
     "data": {
      "application/vnd.jupyter.widget-view+json": {
       "model_id": "",
       "version_major": 2,
       "version_minor": 0
      },
      "text/plain": [
       "HBox(children=(IntProgress(value=0, description='Training Data', max=1877, style=ProgressStyle(description_wid…"
      ]
     },
     "metadata": {},
     "output_type": "display_data"
    },
    {
     "data": {
      "application/vnd.jupyter.widget-view+json": {
       "model_id": "",
       "version_major": 2,
       "version_minor": 0
      },
      "text/plain": [
       "HBox(children=(IntProgress(value=0, description='Valiation Data', max=250, style=ProgressStyle(description_wid…"
      ]
     },
     "metadata": {},
     "output_type": "display_data"
    },
    {
     "name": "stdout",
     "output_type": "stream",
     "text": [
      "Epoch(12/50) | Training loss: 0.06517164649930075 | Val loss: 0.10851728916168213 | \n"
     ]
    },
    {
     "data": {
      "application/vnd.jupyter.widget-view+json": {
       "model_id": "",
       "version_major": 2,
       "version_minor": 0
      },
      "text/plain": [
       "HBox(children=(IntProgress(value=0, description='Training Data', max=1877, style=ProgressStyle(description_wid…"
      ]
     },
     "metadata": {},
     "output_type": "display_data"
    },
    {
     "data": {
      "application/vnd.jupyter.widget-view+json": {
       "model_id": "",
       "version_major": 2,
       "version_minor": 0
      },
      "text/plain": [
       "HBox(children=(IntProgress(value=0, description='Valiation Data', max=250, style=ProgressStyle(description_wid…"
      ]
     },
     "metadata": {},
     "output_type": "display_data"
    },
    {
     "name": "stdout",
     "output_type": "stream",
     "text": [
      "Epoch(13/50) | Training loss: 0.06259013268725473 | Val loss: 0.0923096239566803 | \n"
     ]
    },
    {
     "data": {
      "application/vnd.jupyter.widget-view+json": {
       "model_id": "",
       "version_major": 2,
       "version_minor": 0
      },
      "text/plain": [
       "HBox(children=(IntProgress(value=0, description='Training Data', max=1877, style=ProgressStyle(description_wid…"
      ]
     },
     "metadata": {},
     "output_type": "display_data"
    },
    {
     "data": {
      "application/vnd.jupyter.widget-view+json": {
       "model_id": "",
       "version_major": 2,
       "version_minor": 0
      },
      "text/plain": [
       "HBox(children=(IntProgress(value=0, description='Valiation Data', max=250, style=ProgressStyle(description_wid…"
      ]
     },
     "metadata": {},
     "output_type": "display_data"
    },
    {
     "name": "stdout",
     "output_type": "stream",
     "text": [
      "Epoch(14/50) | Training loss: 0.06163550931890879 | Val loss: 0.14640042185783386 | \n"
     ]
    },
    {
     "data": {
      "application/vnd.jupyter.widget-view+json": {
       "model_id": "",
       "version_major": 2,
       "version_minor": 0
      },
      "text/plain": [
       "HBox(children=(IntProgress(value=0, description='Training Data', max=1877, style=ProgressStyle(description_wid…"
      ]
     },
     "metadata": {},
     "output_type": "display_data"
    },
    {
     "data": {
      "application/vnd.jupyter.widget-view+json": {
       "model_id": "",
       "version_major": 2,
       "version_minor": 0
      },
      "text/plain": [
       "HBox(children=(IntProgress(value=0, description='Valiation Data', max=250, style=ProgressStyle(description_wid…"
      ]
     },
     "metadata": {},
     "output_type": "display_data"
    },
    {
     "name": "stdout",
     "output_type": "stream",
     "text": [
      "Epoch(15/50) | Training loss: 0.05974148284320382 | Val loss: 0.11494824290275574 | \n"
     ]
    },
    {
     "data": {
      "application/vnd.jupyter.widget-view+json": {
       "model_id": "",
       "version_major": 2,
       "version_minor": 0
      },
      "text/plain": [
       "HBox(children=(IntProgress(value=0, description='Training Data', max=1877, style=ProgressStyle(description_wid…"
      ]
     },
     "metadata": {},
     "output_type": "display_data"
    },
    {
     "data": {
      "application/vnd.jupyter.widget-view+json": {
       "model_id": "",
       "version_major": 2,
       "version_minor": 0
      },
      "text/plain": [
       "HBox(children=(IntProgress(value=0, description='Valiation Data', max=250, style=ProgressStyle(description_wid…"
      ]
     },
     "metadata": {},
     "output_type": "display_data"
    },
    {
     "name": "stdout",
     "output_type": "stream",
     "text": [
      "Epoch(16/50) | Training loss: 0.058565481539595364 | Val loss: 0.08505348861217499 | \n"
     ]
    },
    {
     "data": {
      "application/vnd.jupyter.widget-view+json": {
       "model_id": "",
       "version_major": 2,
       "version_minor": 0
      },
      "text/plain": [
       "HBox(children=(IntProgress(value=0, description='Training Data', max=1877, style=ProgressStyle(description_wid…"
      ]
     },
     "metadata": {},
     "output_type": "display_data"
    },
    {
     "data": {
      "application/vnd.jupyter.widget-view+json": {
       "model_id": "",
       "version_major": 2,
       "version_minor": 0
      },
      "text/plain": [
       "HBox(children=(IntProgress(value=0, description='Valiation Data', max=250, style=ProgressStyle(description_wid…"
      ]
     },
     "metadata": {},
     "output_type": "display_data"
    },
    {
     "name": "stdout",
     "output_type": "stream",
     "text": [
      "Epoch(17/50) | Training loss: 0.05666214673217737 | Val loss: 0.08712823688983917 | \n"
     ]
    },
    {
     "data": {
      "application/vnd.jupyter.widget-view+json": {
       "model_id": "",
       "version_major": 2,
       "version_minor": 0
      },
      "text/plain": [
       "HBox(children=(IntProgress(value=0, description='Training Data', max=1877, style=ProgressStyle(description_wid…"
      ]
     },
     "metadata": {},
     "output_type": "display_data"
    },
    {
     "data": {
      "application/vnd.jupyter.widget-view+json": {
       "model_id": "",
       "version_major": 2,
       "version_minor": 0
      },
      "text/plain": [
       "HBox(children=(IntProgress(value=0, description='Valiation Data', max=250, style=ProgressStyle(description_wid…"
      ]
     },
     "metadata": {},
     "output_type": "display_data"
    },
    {
     "name": "stdout",
     "output_type": "stream",
     "text": [
      "Epoch(18/50) | Training loss: 0.06346918987264072 | Val loss: 0.12545394897460938 | \n"
     ]
    },
    {
     "data": {
      "application/vnd.jupyter.widget-view+json": {
       "model_id": "",
       "version_major": 2,
       "version_minor": 0
      },
      "text/plain": [
       "HBox(children=(IntProgress(value=0, description='Training Data', max=1877, style=ProgressStyle(description_wid…"
      ]
     },
     "metadata": {},
     "output_type": "display_data"
    },
    {
     "data": {
      "application/vnd.jupyter.widget-view+json": {
       "model_id": "",
       "version_major": 2,
       "version_minor": 0
      },
      "text/plain": [
       "HBox(children=(IntProgress(value=0, description='Valiation Data', max=250, style=ProgressStyle(description_wid…"
      ]
     },
     "metadata": {},
     "output_type": "display_data"
    },
    {
     "name": "stdout",
     "output_type": "stream",
     "text": [
      "Epoch(19/50) | Training loss: 0.06360732376392877 | Val loss: 0.09961030632257462 | \n"
     ]
    },
    {
     "data": {
      "application/vnd.jupyter.widget-view+json": {
       "model_id": "",
       "version_major": 2,
       "version_minor": 0
      },
      "text/plain": [
       "HBox(children=(IntProgress(value=0, description='Training Data', max=1877, style=ProgressStyle(description_wid…"
      ]
     },
     "metadata": {},
     "output_type": "display_data"
    },
    {
     "data": {
      "application/vnd.jupyter.widget-view+json": {
       "model_id": "",
       "version_major": 2,
       "version_minor": 0
      },
      "text/plain": [
       "HBox(children=(IntProgress(value=0, description='Valiation Data', max=250, style=ProgressStyle(description_wid…"
      ]
     },
     "metadata": {},
     "output_type": "display_data"
    },
    {
     "name": "stdout",
     "output_type": "stream",
     "text": [
      "Epoch(20/50) | Training loss: 0.06821259898051707 | Val loss: 0.10101430863142014 | \n"
     ]
    },
    {
     "data": {
      "application/vnd.jupyter.widget-view+json": {
       "model_id": "",
       "version_major": 2,
       "version_minor": 0
      },
      "text/plain": [
       "HBox(children=(IntProgress(value=0, description='Training Data', max=1877, style=ProgressStyle(description_wid…"
      ]
     },
     "metadata": {},
     "output_type": "display_data"
    },
    {
     "data": {
      "application/vnd.jupyter.widget-view+json": {
       "model_id": "",
       "version_major": 2,
       "version_minor": 0
      },
      "text/plain": [
       "HBox(children=(IntProgress(value=0, description='Valiation Data', max=250, style=ProgressStyle(description_wid…"
      ]
     },
     "metadata": {},
     "output_type": "display_data"
    },
    {
     "name": "stdout",
     "output_type": "stream",
     "text": [
      "Epoch(21/50) | Training loss: 0.06278661537675319 | Val loss: 0.09585210680961609 | \n"
     ]
    },
    {
     "data": {
      "application/vnd.jupyter.widget-view+json": {
       "model_id": "",
       "version_major": 2,
       "version_minor": 0
      },
      "text/plain": [
       "HBox(children=(IntProgress(value=0, description='Training Data', max=1877, style=ProgressStyle(description_wid…"
      ]
     },
     "metadata": {},
     "output_type": "display_data"
    },
    {
     "data": {
      "application/vnd.jupyter.widget-view+json": {
       "model_id": "",
       "version_major": 2,
       "version_minor": 0
      },
      "text/plain": [
       "HBox(children=(IntProgress(value=0, description='Valiation Data', max=250, style=ProgressStyle(description_wid…"
      ]
     },
     "metadata": {},
     "output_type": "display_data"
    },
    {
     "name": "stdout",
     "output_type": "stream",
     "text": [
      "Epoch(22/50) | Training loss: 0.05686840032945304 | Val loss: 0.09317507594823837 | \n"
     ]
    },
    {
     "data": {
      "application/vnd.jupyter.widget-view+json": {
       "model_id": "",
       "version_major": 2,
       "version_minor": 0
      },
      "text/plain": [
       "HBox(children=(IntProgress(value=0, description='Training Data', max=1877, style=ProgressStyle(description_wid…"
      ]
     },
     "metadata": {},
     "output_type": "display_data"
    },
    {
     "data": {
      "application/vnd.jupyter.widget-view+json": {
       "model_id": "",
       "version_major": 2,
       "version_minor": 0
      },
      "text/plain": [
       "HBox(children=(IntProgress(value=0, description='Valiation Data', max=250, style=ProgressStyle(description_wid…"
      ]
     },
     "metadata": {},
     "output_type": "display_data"
    },
    {
     "name": "stdout",
     "output_type": "stream",
     "text": [
      "Epoch(23/50) | Training loss: 0.055740137351552775 | Val loss: 0.12619076669216156 | \n"
     ]
    },
    {
     "data": {
      "application/vnd.jupyter.widget-view+json": {
       "model_id": "",
       "version_major": 2,
       "version_minor": 0
      },
      "text/plain": [
       "HBox(children=(IntProgress(value=0, description='Training Data', max=1877, style=ProgressStyle(description_wid…"
      ]
     },
     "metadata": {},
     "output_type": "display_data"
    },
    {
     "data": {
      "application/vnd.jupyter.widget-view+json": {
       "model_id": "",
       "version_major": 2,
       "version_minor": 0
      },
      "text/plain": [
       "HBox(children=(IntProgress(value=0, description='Valiation Data', max=250, style=ProgressStyle(description_wid…"
      ]
     },
     "metadata": {},
     "output_type": "display_data"
    },
    {
     "name": "stdout",
     "output_type": "stream",
     "text": [
      "Epoch(24/50) | Training loss: 0.05640143245884322 | Val loss: 0.08914199471473694 | \n"
     ]
    },
    {
     "data": {
      "application/vnd.jupyter.widget-view+json": {
       "model_id": "",
       "version_major": 2,
       "version_minor": 0
      },
      "text/plain": [
       "HBox(children=(IntProgress(value=0, description='Training Data', max=1877, style=ProgressStyle(description_wid…"
      ]
     },
     "metadata": {},
     "output_type": "display_data"
    },
    {
     "data": {
      "application/vnd.jupyter.widget-view+json": {
       "model_id": "",
       "version_major": 2,
       "version_minor": 0
      },
      "text/plain": [
       "HBox(children=(IntProgress(value=0, description='Valiation Data', max=250, style=ProgressStyle(description_wid…"
      ]
     },
     "metadata": {},
     "output_type": "display_data"
    },
    {
     "name": "stdout",
     "output_type": "stream",
     "text": [
      "Epoch(25/50) | Training loss: 0.063992334415637 | Val loss: 0.07949291169643402 | \n"
     ]
    },
    {
     "data": {
      "application/vnd.jupyter.widget-view+json": {
       "model_id": "",
       "version_major": 2,
       "version_minor": 0
      },
      "text/plain": [
       "HBox(children=(IntProgress(value=0, description='Training Data', max=1877, style=ProgressStyle(description_wid…"
      ]
     },
     "metadata": {},
     "output_type": "display_data"
    },
    {
     "data": {
      "application/vnd.jupyter.widget-view+json": {
       "model_id": "",
       "version_major": 2,
       "version_minor": 0
      },
      "text/plain": [
       "HBox(children=(IntProgress(value=0, description='Valiation Data', max=250, style=ProgressStyle(description_wid…"
      ]
     },
     "metadata": {},
     "output_type": "display_data"
    },
    {
     "name": "stdout",
     "output_type": "stream",
     "text": [
      "Epoch(26/50) | Training loss: 0.061486928696462814 | Val loss: 0.09308669716119766 | \n"
     ]
    },
    {
     "data": {
      "application/vnd.jupyter.widget-view+json": {
       "model_id": "",
       "version_major": 2,
       "version_minor": 0
      },
      "text/plain": [
       "HBox(children=(IntProgress(value=0, description='Training Data', max=1877, style=ProgressStyle(description_wid…"
      ]
     },
     "metadata": {},
     "output_type": "display_data"
    },
    {
     "data": {
      "application/vnd.jupyter.widget-view+json": {
       "model_id": "",
       "version_major": 2,
       "version_minor": 0
      },
      "text/plain": [
       "HBox(children=(IntProgress(value=0, description='Valiation Data', max=250, style=ProgressStyle(description_wid…"
      ]
     },
     "metadata": {},
     "output_type": "display_data"
    },
    {
     "name": "stdout",
     "output_type": "stream",
     "text": [
      "Epoch(27/50) | Training loss: 0.059024710776547314 | Val loss: 0.0858907476067543 | \n"
     ]
    },
    {
     "data": {
      "application/vnd.jupyter.widget-view+json": {
       "model_id": "",
       "version_major": 2,
       "version_minor": 0
      },
      "text/plain": [
       "HBox(children=(IntProgress(value=0, description='Training Data', max=1877, style=ProgressStyle(description_wid…"
      ]
     },
     "metadata": {},
     "output_type": "display_data"
    },
    {
     "data": {
      "application/vnd.jupyter.widget-view+json": {
       "model_id": "",
       "version_major": 2,
       "version_minor": 0
      },
      "text/plain": [
       "HBox(children=(IntProgress(value=0, description='Valiation Data', max=250, style=ProgressStyle(description_wid…"
      ]
     },
     "metadata": {},
     "output_type": "display_data"
    },
    {
     "name": "stdout",
     "output_type": "stream",
     "text": [
      "Epoch(28/50) | Training loss: 0.0560015221927702 | Val loss: 0.08194141834974289 | \n"
     ]
    },
    {
     "data": {
      "application/vnd.jupyter.widget-view+json": {
       "model_id": "14d32460e5874cff829f3cda5365b664",
       "version_major": 2,
       "version_minor": 0
      },
      "text/plain": [
       "HBox(children=(IntProgress(value=0, description='Training Data', max=1877, style=ProgressStyle(description_wid…"
      ]
     },
     "metadata": {},
     "output_type": "display_data"
    },
    {
     "ename": "KeyboardInterrupt",
     "evalue": "",
     "output_type": "error",
     "traceback": [
      "\u001b[1;31m---------------------------------------------------------------------------\u001b[0m",
      "\u001b[1;31mKeyboardInterrupt\u001b[0m                         Traceback (most recent call last)",
      "\u001b[1;32m<ipython-input-46-f6bb4a271268>\u001b[0m in \u001b[0;36m<module>\u001b[1;34m\u001b[0m\n\u001b[0;32m     40\u001b[0m         \u001b[0moptimizer\u001b[0m\u001b[1;33m.\u001b[0m\u001b[0mzero_grad\u001b[0m\u001b[1;33m(\u001b[0m\u001b[1;33m)\u001b[0m\u001b[1;33m\u001b[0m\u001b[1;33m\u001b[0m\u001b[0m\n\u001b[0;32m     41\u001b[0m         \u001b[0mloss\u001b[0m\u001b[1;33m.\u001b[0m\u001b[0mbackward\u001b[0m\u001b[1;33m(\u001b[0m\u001b[1;33m)\u001b[0m\u001b[1;33m\u001b[0m\u001b[1;33m\u001b[0m\u001b[0m\n\u001b[1;32m---> 42\u001b[1;33m         \u001b[0moptimizer\u001b[0m\u001b[1;33m.\u001b[0m\u001b[0mstep\u001b[0m\u001b[1;33m(\u001b[0m\u001b[1;33m)\u001b[0m\u001b[1;33m\u001b[0m\u001b[1;33m\u001b[0m\u001b[0m\n\u001b[0m\u001b[0;32m     43\u001b[0m \u001b[1;33m\u001b[0m\u001b[0m\n\u001b[0;32m     44\u001b[0m         \u001b[0mcum_loss\u001b[0m \u001b[1;33m+=\u001b[0m \u001b[0mloss\u001b[0m\u001b[1;33m.\u001b[0m\u001b[0mitem\u001b[0m\u001b[1;33m(\u001b[0m\u001b[1;33m)\u001b[0m\u001b[1;33m\u001b[0m\u001b[1;33m\u001b[0m\u001b[0m\n",
      "\u001b[1;32m~\\Anaconda3\\lib\\site-packages\\torch\\optim\\sgd.py\u001b[0m in \u001b[0;36mstep\u001b[1;34m(self, closure)\u001b[0m\n\u001b[0;32m    104\u001b[0m                         \u001b[0md_p\u001b[0m \u001b[1;33m=\u001b[0m \u001b[0mbuf\u001b[0m\u001b[1;33m\u001b[0m\u001b[1;33m\u001b[0m\u001b[0m\n\u001b[0;32m    105\u001b[0m \u001b[1;33m\u001b[0m\u001b[0m\n\u001b[1;32m--> 106\u001b[1;33m                 \u001b[0mp\u001b[0m\u001b[1;33m.\u001b[0m\u001b[0mdata\u001b[0m\u001b[1;33m.\u001b[0m\u001b[0madd_\u001b[0m\u001b[1;33m(\u001b[0m\u001b[1;33m-\u001b[0m\u001b[0mgroup\u001b[0m\u001b[1;33m[\u001b[0m\u001b[1;34m'lr'\u001b[0m\u001b[1;33m]\u001b[0m\u001b[1;33m,\u001b[0m \u001b[0md_p\u001b[0m\u001b[1;33m)\u001b[0m\u001b[1;33m\u001b[0m\u001b[1;33m\u001b[0m\u001b[0m\n\u001b[0m\u001b[0;32m    107\u001b[0m \u001b[1;33m\u001b[0m\u001b[0m\n\u001b[0;32m    108\u001b[0m         \u001b[1;32mreturn\u001b[0m \u001b[0mloss\u001b[0m\u001b[1;33m\u001b[0m\u001b[1;33m\u001b[0m\u001b[0m\n",
      "\u001b[1;31mKeyboardInterrupt\u001b[0m: "
     ]
    }
   ],
   "source": [
    "from IPython.core.debugger import set_trace\n",
    "\n",
    "from torch import optim\n",
    "criterion = nn.L1Loss()\n",
    "optimizer = torch.optim.SGD(model.parameters(), lr=0.01)\n",
    "model.to(device)\n",
    "num_epochs = 50\n",
    "batchsize=len(traindata)\n",
    "train_tracker, val_tracker, accuracy_tracker = [], [], []\n",
    "\n",
    "\n",
    "for i in tqdm(range(num_epochs),desc=\"Total Progress: \",leave=False):\n",
    "    \n",
    "    cum_loss = 0\n",
    "    random.shuffle(traindata)\n",
    "    \n",
    "    \n",
    "    \n",
    "    for batch,(inp, vel) in enumerate(tqdm(traindata,desc=\"Training Data\",leave=False),1):\n",
    "\n",
    "        \n",
    "        inp=inp.reshape([1,-1,1])\n",
    "        vel=vel.reshape([1,-1,1])\n",
    "        inp=inp.to(device)\n",
    "        \n",
    "        hidden=model.zeroHidden()\n",
    "        hidden=hidden.to(device)\n",
    "        output= model(inp,hidden)\n",
    "\n",
    "        output=output.view(-1,1)\n",
    "        ## Representing Memory ##\n",
    "        # make a new variable for hidden and detach the hidden state from its history\n",
    "        # this way, we don't backpropagate through the entire history\n",
    "\n",
    "\n",
    "        outputVel=torch.reshape(vel,[-1,1])\n",
    "        outputVel=outputVel.to(device)\n",
    "        \n",
    "        loss = criterion(output, outputVel)\n",
    "        optimizer.zero_grad()\n",
    "        loss.backward()\n",
    "        optimizer.step()\n",
    "\n",
    "        cum_loss += loss.item()\n",
    "\n",
    "    train_tracker.append(cum_loss/len(traindata))\n",
    "    \n",
    "    #Validation\n",
    "    test_loss = 0\n",
    "    num_correct = 0\n",
    "    total = 0\n",
    "    \n",
    "    random.shuffle(valdata)\n",
    "    with torch.no_grad():\n",
    "        for batch, (inp, vel) in enumerate(tqdm(valdata,desc=\"Valiation Data\", leave=False),1):\n",
    "\n",
    "            optimizer.zero_grad()\n",
    "            inp=inp.reshape([1,-1,1])\n",
    "            inp=inp.to(device)\n",
    "            \n",
    "            output= model(inp,hidden)\n",
    "            output=output.view(-1,1)\n",
    "            \n",
    "            outputVel=torch.reshape(vel,[-1,1])\n",
    "            outputVel=outputVel.to(device)\n",
    "            loss = criterion(output, outputVel)\n",
    "            test_loss += loss\n",
    "\n",
    "        val_tracker.append(test_loss/len(valdata))\n",
    "    print(f\"Epoch({i+1}/{num_epochs}) | Training loss: {cum_loss/len(traindata)} | \" ,end=\"\")\n",
    "    print(f\"Val loss: {test_loss/len(valdata)} | \")\n"
   ]
  },
  {
   "cell_type": "code",
   "execution_count": 48,
   "metadata": {},
   "outputs": [
    {
     "data": {
      "text/plain": [
       "<matplotlib.legend.Legend at 0x1eb8594e448>"
      ]
     },
     "execution_count": 48,
     "metadata": {},
     "output_type": "execute_result"
    },
    {
     "data": {
      "image/png": "[encoded data removed]",
      "text/plain": [
       "<Figure size 432x288 with 1 Axes>"
      ]
     },
     "metadata": {
      "needs_background": "light"
     },
     "output_type": "display_data"
    }
   ],
   "source": [
    "%matplotlib inline\n",
    "plt.plot(train_tracker, label='Training loss')\n",
    "plt.plot(val_tracker, label='Training loss')\n",
    "plt.legend()"
   ]
  },
  {
   "cell_type": "code",
   "execution_count": 49,
   "metadata": {},
   "outputs": [],
   "source": [
    "def predict(testexample,NN=model):\n",
    "    VelNormalize= Normalize(None,70)\n",
    "\n",
    "    criterion = nn.L1Loss()\n",
    "    #criterion = nn.MSELoss()\n",
    "    pData=testexample[0]\n",
    "    pred=NN(pData[0])\n",
    "    loss=criterion(pred,pData[1])\n",
    "\n",
    "    %matplotlib inline\n",
    "    pred=VelNormalize.normal(np.array(pred.tolist()))\n",
    "    real=VelNormalize.normal(np.array(pData[1]))\n",
    "\n",
    "    plt.plot(pred,label=\"Pred\")\n",
    "    plt.plot(real,label= \"Real_Optimizer\")\n",
    "    print(\"Loss:\", loss.item())\n",
    "\n",
    "from sklearn.metrics import r2_score\n",
    "def Scoring(example,Score='MAE'):\n",
    "    VelNormalize= Normalize(None,70)\n",
    "    if Score=='MAE':\n",
    "        criterion=nn.L1Loss()\n",
    "    elif Score==\"MSE\":\n",
    "        criterion=nn.MSELoss()\n",
    "    elif Score==\"R2\":\n",
    "        return\n",
    "        PRED=[]\n",
    "        REAL=[]\n",
    "        with torch.no_grad():\n",
    "            for (inp,label) in tqdm(example,leave=False):\n",
    "                inp=torch.reshape(inp,[-1,1]).unsqueeze(0)\n",
    "                inp=inp.to(device)\n",
    "                hidden=model.zeroHidden()\n",
    "                hidden=hidden.to(device)\n",
    "\n",
    "                out=model(inp,hidden)\n",
    "\n",
    "                label=label.to(device)\n",
    "                out=out.squeeze()\n",
    "\n",
    "                pred=torch.tensor(np.array(out.tolist()))\n",
    "                real=torch.tensor(np.array(label.tolist()))\n",
    "\n",
    "                PRED.append(pred.tolist())\n",
    "                REAL.append(real.tolist())\n",
    "        #set_trace()\n",
    "        return r2_score(PRED,REAL,multioutput='variance_weighted')\n",
    "    else: \n",
    "        print(\"Loss Function does not exist\")\n",
    "        return\n",
    "    \n",
    "    cumloss=0\n",
    "    \n",
    "    with torch.no_grad():\n",
    "        for (inp,label) in tqdm(example,leave=False):\n",
    "\n",
    "            inp=torch.reshape(inp,[-1,1]).unsqueeze(0)\n",
    "            inp=inp.to(device)\n",
    "            hidden=model.zeroHidden()\n",
    "            hidden=hidden.to(device)\n",
    "            out=model(inp,hidden)\n",
    "\n",
    "            label=label.to(device)\n",
    "            out=out.squeeze()\n",
    "\n",
    "            pred=torch.tensor(VelNormalize.normal(np.array(out.tolist())))\n",
    "            real=torch.tensor(VelNormalize.normal(np.array(label.tolist())))\n",
    "\n",
    "            cumloss += criterion(pred,real)\n",
    "        \n",
    "    SCORE=cumloss/len(example)\n",
    "    \n",
    "    return SCORE.item()"
   ]
  },
  {
   "cell_type": "code",
   "execution_count": null,
   "metadata": {},
   "outputs": [],
   "source": []
  },
  {
   "cell_type": "code",
   "execution_count": null,
   "metadata": {},
   "outputs": [],
   "source": []
  },
  {
   "cell_type": "code",
   "execution_count": 51,
   "metadata": {
    "scrolled": false
   },
   "outputs": [
    {
     "data": {
      "application/vnd.jupyter.widget-view+json": {
       "model_id": "3b7210a8ee4e44b18824c6ee649f2133",
       "version_major": 2,
       "version_minor": 0
      },
      "text/plain": [
       "interactive(children=(IntSlider(value=125, description='x', max=250), Output()), _dom_classes=('widget-interac…"
      ]
     },
     "metadata": {},
     "output_type": "display_data"
    },
    {
     "data": {
      "text/plain": [
       "<function __main__.visual(x)>"
      ]
     },
     "execution_count": 51,
     "metadata": {},
     "output_type": "execute_result"
    }
   ],
   "source": [
    "from __future__ import print_function\n",
    "from ipywidgets import interact, interactive, fixed, interact_manual\n",
    "import ipywidgets as widgets\n",
    "import time\n",
    "\n",
    "\n",
    "def visual(x):\n",
    "    #The Visualisation\n",
    "    name=\"NN300200150_Iter250_MBZM\"\n",
    "    NR=x\n",
    "    \n",
    "    VelNormalize= Normalize(None,70)\n",
    "    \n",
    "    #Loss Functions\n",
    "    criterion = nn.L1Loss()\n",
    "    #criterion = nn.MSELoss()\n",
    "    \n",
    "    # Data\n",
    "    testdata_inp,testdata_inp_V,testdata_lable,testdata_lable_V=[],[],[],[]\n",
    "    \n",
    "    testdata_inp=torch.clone(traindata[NR][0])\n",
    "    testdata_inp_V=torch.clone(valdata[NR][0])\n",
    "    \n",
    "    testdata_lable=torch.clone(traindata[NR][1])\n",
    "    testdata_lable_V=torch.clone(valdata[NR][1])\n",
    "    \n",
    "\n",
    "    \n",
    "    #One Example\n",
    "    inputRNN=torch.reshape(testdata_inp,[-1,1]).unsqueeze(0)\n",
    "    inputRNN=inputRNN.to(device)\n",
    "    \n",
    "    t1=time.time()\n",
    "    with torch.no_grad():\n",
    "        hidden=model.zeroHidden()\n",
    "        hidden=hidden.to(device)\n",
    "        pred = model(inputRNN,hidden)\n",
    "    t2=time.time()\n",
    "    pred=pred.squeeze()\n",
    "    print(\"Evolived Time: \" , (t2-t1)*1000,\"ms\")\n",
    "    testdata_lable=testdata_lable.to(device)\n",
    "    loss=criterion(pred,testdata_lable)\n",
    "\n",
    "    %matplotlib inline\n",
    "    pred=VelNormalize.normal(np.array(pred.tolist()))\n",
    "    real=VelNormalize.normal(np.array(testdata_lable.tolist()))\n",
    "    plt.plot(pred,label=\"Pred\")\n",
    "    plt.plot(real,label= \"Real_Optimizer\")\n",
    "    plt.legend([\"ML_Pred\",\"Opt_Real\"])\n",
    "    plt.title(\"| \"+name + \" | Loss: \"+str(np.round(loss.item(),4))+\"\"+ \" | \" )\n",
    "    plt.xlabel(\"Steps\")\n",
    "    plt.ylabel(\"Velocity\")\n",
    "    \n",
    "    \n",
    "    LossEval=True\n",
    "    if LossEval:\n",
    "        R2Score_T=Scoring(traindata,\"R2\")\n",
    "        print(\"R2_T: \" ,R2Score_T)\n",
    "        R2Score_V=Scoring(valdata,\"R2\")\n",
    "        print(\"R2_V: \" ,R2Score_V)\n",
    "        \n",
    "        MAEScore_T=Scoring(traindata,\"MAE\")\n",
    "        print(\"MAE_T: \" ,MAEScore_T)\n",
    "        MAEScore_V=Scoring(valdata,\"MAE\")\n",
    "        print(\"MAE_V: \" ,MAEScore_V)\n",
    "        \n",
    "        MSEScore_T=Scoring(traindata,\"MSE\")\n",
    "        print(\"MSE_T: \" ,MSEScore_T)\n",
    "        MSEScore_V=Scoring(valdata,\"MSE\")\n",
    "        print(\"MSE_V: \" ,MSEScore_V)\n",
    "        \n",
    "        \n",
    "        \n",
    "\n",
    "    \n",
    "    \n",
    "    #scoreItem=r2_score(pred,valdata[NR][1])\n",
    "    #text= str(np.round(scoreItem,4))+ \"% [score] | \"+str(np.round(loss.item(),5)) +\" [loss] \"\n",
    "    MIN=min(pred)\n",
    "    #plt.text(76,MIN,text,horizontalalignment='center',verticalalignment='center')\n",
    "    #print(\"Loss:\", loss.item())\n",
    "    \n",
    "    \n",
    "    #print(\"The Score of the Train Dataset is: \",Score,\"%\")\n",
    "    \n",
    "interact(visual,x=(0,len(valdata)))"
   ]
  },
  {
   "cell_type": "markdown",
   "metadata": {},
   "source": [
    "## Save Model"
   ]
  },
  {
   "cell_type": "code",
   "execution_count": 36,
   "metadata": {},
   "outputs": [],
   "source": [
    "name=\"BLSTM_1_15_2_Iter50_MB\"\n",
    "save=True\n",
    "PATH= name"
   ]
  },
  {
   "cell_type": "code",
   "execution_count": 37,
   "metadata": {},
   "outputs": [
    {
     "name": "stderr",
     "output_type": "stream",
     "text": [
      "C:\\Users\\Leon\\Anaconda3\\lib\\site-packages\\torch\\serialization.py:292: UserWarning: Couldn't retrieve source code for container of type LSTM. It won't be checked for correctness upon loading.\n",
      "  \"type \" + obj.__name__ + \". It won't be checked \"\n",
      "C:\\Users\\Leon\\Anaconda3\\lib\\site-packages\\torch\\serialization.py:292: UserWarning: Couldn't retrieve source code for container of type Linear. It won't be checked for correctness upon loading.\n",
      "  \"type \" + obj.__name__ + \". It won't be checked \"\n"
     ]
    }
   ],
   "source": [
    "#Save MODEL\n",
    "if save:\n",
    "    torch.save(model.state_dict(), PATH+\".pt\")\n",
    "    torch.save(model,PATH+\".pth\")"
   ]
  },
  {
   "cell_type": "code",
   "execution_count": null,
   "metadata": {},
   "outputs": [],
   "source": [
    "#Load MODEL with same Structure\n",
    "model=DNN()\n",
    "model.load_state_dict(torch.load(PATH+\".pt\"))\n",
    "model.eval()"
   ]
  },
  {
   "cell_type": "code",
   "execution_count": null,
   "metadata": {},
   "outputs": [],
   "source": [
    "#Load MODEL with different Structure\n",
    "model2=torch.load(PATH+\".pth\")\n",
    "model2.eval()"
   ]
  },
  {
   "cell_type": "code",
   "execution_count": null,
   "metadata": {},
   "outputs": [],
   "source": [
    "model2(traindata[37][0])"
   ]
  },
  {
   "cell_type": "code",
   "execution_count": null,
   "metadata": {},
   "outputs": [],
   "source": []
  }
 ],
 "metadata": {
  "file_extension": ".py",
  "kernelspec": {
   "display_name": "Python 3",
   "language": "python",
   "name": "python3"
  },
  "language_info": {
   "codemirror_mode": {
    "name": "ipython",
    "version": 3
   },
   "file_extension": ".py",
   "mimetype": "text/x-python",
   "name": "python",
   "nbconvert_exporter": "python",
   "pygments_lexer": "ipython3",
   "version": "3.7.4"
  },
  "mimetype": "text/x-python",
  "name": "python",
  "npconvert_exporter": "python",
  "pygments_lexer": "ipython3",
  "version": 3
 },
 "nbformat": 4,
 "nbformat_minor": 2
}
