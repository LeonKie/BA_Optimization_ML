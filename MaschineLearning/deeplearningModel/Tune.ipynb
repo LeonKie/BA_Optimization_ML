{
 "cells": [
  {
   "cell_type": "code",
   "execution_count": 1,
   "metadata": {},
   "outputs": [
    {
     "name": "stderr",
     "output_type": "stream",
     "text": [
      "2019-12-30 21:57:15,313\tINFO resource_spec.py:216 -- Starting Ray with 1.27 GiB memory available for workers and up to 0.65 GiB for objects. You can adjust these settings with ray.init(memory=<bytes>, object_store_memory=<bytes>).\n",
      "2019-12-30 21:57:15,976\tINFO function_runner.py:254 -- tune.track signature detected.\n",
      "2019-12-30 21:57:16,033\tWARNING logger.py:413 -- Could not instantiate tf2_compat_logger: No module named 'tensorflow'.\n",
      "2019-12-30 21:57:16,052\tINFO ray_trial_executor.py:121 -- Trial train_mnist_940e2e8e: Setting up new remote runner.\n"
     ]
    },
    {
     "data": {
      "text/html": [
       "== Status ==<br>Memory usage on this node: 5.9/8.0 GiB<br>Using FIFO scheduling algorithm.<br>Resources requested: 1/4 CPUs, 0/0 GPUs, 0.0/1.27 GiB heap, 0.0/0.44 GiB objects<br>Result logdir: /Users/leonkiesgen/ray_results/train_mnist<br>Number of trials: 3 (1 RUNNING, 2 PENDING)<br><table>\n",
       "<thead>\n",
       "<tr><th>Trial name          </th><th>status  </th><th>loc  </th><th>lr  </th></tr>\n",
       "</thead>\n",
       "<tbody>\n",
       "<tr><td>train_mnist_940e2e8e</td><td>RUNNING </td><td>     </td><td>    </td></tr>\n",
       "<tr><td>train_mnist_940ea116</td><td>PENDING </td><td>     </td><td>    </td></tr>\n",
       "<tr><td>train_mnist_940f47d8</td><td>PENDING </td><td>     </td><td>    </td></tr>\n",
       "</tbody>\n",
       "</table><br><br>"
      ],
      "text/plain": [
       "<IPython.core.display.HTML object>"
      ]
     },
     "metadata": {},
     "output_type": "display_data"
    },
    {
     "name": "stderr",
     "output_type": "stream",
     "text": [
      "2019-12-30 21:57:16,175\tWARNING logger.py:413 -- Could not instantiate tf2_compat_logger: No module named 'tensorflow'.\n",
      "2019-12-30 21:57:16,189\tINFO ray_trial_executor.py:121 -- Trial train_mnist_940ea116: Setting up new remote runner.\n",
      "2019-12-30 21:57:16,234\tWARNING logger.py:413 -- Could not instantiate tf2_compat_logger: No module named 'tensorflow'.\n",
      "2019-12-30 21:57:16,241\tINFO ray_trial_executor.py:121 -- Trial train_mnist_940f47d8: Setting up new remote runner.\n"
     ]
    },
    {
     "name": "stdout",
     "output_type": "stream",
     "text": [
      "Result for train_mnist_940f47d8:\n",
      "  date: 2019-12-30_21-57-37\n",
      "  done: false\n",
      "  experiment_id: aec467ed52b44415a67fd69c96eee567\n",
      "  experiment_tag: 2_lr=0.1\n",
      "  hostname: Leons-MacBook-Air.local\n",
      "  iterations_since_restore: 1\n",
      "  mean_accuracy: 0.56875\n",
      "  node_ip: 192.168.1.9\n",
      "  pid: 96855\n",
      "  time_since_restore: 1.2469189167022705\n",
      "  time_this_iter_s: 1.2469189167022705\n",
      "  time_total_s: 1.2469189167022705\n",
      "  timestamp: 1577735857\n",
      "  timesteps_since_restore: 0\n",
      "  training_iteration: 0\n",
      "  trial_id: 940f47d8\n",
      "  \n"
     ]
    },
    {
     "data": {
      "text/html": [
       "== Status ==<br>Memory usage on this node: 5.9/8.0 GiB<br>Using FIFO scheduling algorithm.<br>Resources requested: 3/4 CPUs, 0/0 GPUs, 0.0/1.27 GiB heap, 0.0/0.44 GiB objects<br>Result logdir: /Users/leonkiesgen/ray_results/train_mnist<br>Number of trials: 3 (3 RUNNING)<br><table>\n",
       "<thead>\n",
       "<tr><th>Trial name          </th><th>status  </th><th>loc              </th><th style=\"text-align: right;\">  lr</th><th style=\"text-align: right;\">  total time (s)</th><th style=\"text-align: right;\">    acc</th></tr>\n",
       "</thead>\n",
       "<tbody>\n",
       "<tr><td>train_mnist_940e2e8e</td><td>RUNNING </td><td>                 </td><td style=\"text-align: right;\">    </td><td style=\"text-align: right;\">                </td><td style=\"text-align: right;\">       </td></tr>\n",
       "<tr><td>train_mnist_940ea116</td><td>RUNNING </td><td>                 </td><td style=\"text-align: right;\">    </td><td style=\"text-align: right;\">                </td><td style=\"text-align: right;\">       </td></tr>\n",
       "<tr><td>train_mnist_940f47d8</td><td>RUNNING </td><td>192.168.1.9:96855</td><td style=\"text-align: right;\"> 0.1</td><td style=\"text-align: right;\">         1.24692</td><td style=\"text-align: right;\">0.56875</td></tr>\n",
       "</tbody>\n",
       "</table><br><br>"
      ],
      "text/plain": [
       "<IPython.core.display.HTML object>"
      ]
     },
     "metadata": {},
     "output_type": "display_data"
    },
    {
     "name": "stdout",
     "output_type": "stream",
     "text": [
      "Result for train_mnist_940e2e8e:\n",
      "  date: 2019-12-30_21-57-37\n",
      "  done: false\n",
      "  experiment_id: b2760fc2817e4a55b68e20a1a3d7d1a7\n",
      "  experiment_tag: 0_lr=0.001\n",
      "  hostname: Leons-MacBook-Air.local\n",
      "  iterations_since_restore: 1\n",
      "  mean_accuracy: 0.146875\n",
      "  node_ip: 192.168.1.9\n",
      "  pid: 96858\n",
      "  time_since_restore: 1.3377971649169922\n",
      "  time_this_iter_s: 1.3377971649169922\n",
      "  time_total_s: 1.3377971649169922\n",
      "  timestamp: 1577735857\n",
      "  timesteps_since_restore: 0\n",
      "  training_iteration: 0\n",
      "  trial_id: 940e2e8e\n",
      "  \n",
      "Result for train_mnist_940ea116:\n",
      "  date: 2019-12-30_21-57-37\n",
      "  done: false\n",
      "  experiment_id: c67cb011f62e469e942b478ae66a99ae\n",
      "  experiment_tag: 1_lr=0.01\n",
      "  hostname: Leons-MacBook-Air.local\n",
      "  iterations_since_restore: 1\n",
      "  mean_accuracy: 0.171875\n",
      "  node_ip: 192.168.1.9\n",
      "  pid: 96856\n",
      "  time_since_restore: 1.5315232276916504\n",
      "  time_this_iter_s: 1.5315232276916504\n",
      "  time_total_s: 1.5315232276916504\n",
      "  timestamp: 1577735857\n",
      "  timesteps_since_restore: 0\n",
      "  training_iteration: 0\n",
      "  trial_id: 940ea116\n",
      "  \n",
      "Result for train_mnist_940f47d8:\n",
      "  date: 2019-12-30_21-57-42\n",
      "  done: false\n",
      "  experiment_id: aec467ed52b44415a67fd69c96eee567\n",
      "  experiment_tag: 2_lr=0.1\n",
      "  hostname: Leons-MacBook-Air.local\n",
      "  iterations_since_restore: 8\n",
      "  mean_accuracy: 0.890625\n",
      "  node_ip: 192.168.1.9\n",
      "  pid: 96855\n",
      "  time_since_restore: 6.338971853256226\n",
      "  time_this_iter_s: 1.0792789459228516\n",
      "  time_total_s: 6.338971853256226\n",
      "  timestamp: 1577735862\n",
      "  timesteps_since_restore: 0\n",
      "  training_iteration: 7\n",
      "  trial_id: 940f47d8\n",
      "  \n"
     ]
    },
    {
     "data": {
      "text/html": [
       "== Status ==<br>Memory usage on this node: 5.9/8.0 GiB<br>Using FIFO scheduling algorithm.<br>Resources requested: 3/4 CPUs, 0/0 GPUs, 0.0/1.27 GiB heap, 0.0/0.44 GiB objects<br>Result logdir: /Users/leonkiesgen/ray_results/train_mnist<br>Number of trials: 3 (3 RUNNING)<br><table>\n",
       "<thead>\n",
       "<tr><th>Trial name          </th><th>status  </th><th>loc              </th><th style=\"text-align: right;\">   lr</th><th style=\"text-align: right;\">  iter</th><th style=\"text-align: right;\">  total time (s)</th><th style=\"text-align: right;\">     acc</th></tr>\n",
       "</thead>\n",
       "<tbody>\n",
       "<tr><td>train_mnist_940e2e8e</td><td>RUNNING </td><td>192.168.1.9:96858</td><td style=\"text-align: right;\">0.001</td><td style=\"text-align: right;\">     6</td><td style=\"text-align: right;\">         5.27161</td><td style=\"text-align: right;\">0.165625</td></tr>\n",
       "<tr><td>train_mnist_940ea116</td><td>RUNNING </td><td>192.168.1.9:96856</td><td style=\"text-align: right;\">0.01 </td><td style=\"text-align: right;\">     6</td><td style=\"text-align: right;\">         5.39279</td><td style=\"text-align: right;\">0.678125</td></tr>\n",
       "<tr><td>train_mnist_940f47d8</td><td>RUNNING </td><td>192.168.1.9:96855</td><td style=\"text-align: right;\">0.1  </td><td style=\"text-align: right;\">     7</td><td style=\"text-align: right;\">         6.33897</td><td style=\"text-align: right;\">0.890625</td></tr>\n",
       "</tbody>\n",
       "</table><br><br>"
      ],
      "text/plain": [
       "<IPython.core.display.HTML object>"
      ]
     },
     "metadata": {},
     "output_type": "display_data"
    },
    {
     "name": "stdout",
     "output_type": "stream",
     "text": [
      "Result for train_mnist_940e2e8e:\n",
      "  date: 2019-12-30_21-57-42\n",
      "  done: false\n",
      "  experiment_id: b2760fc2817e4a55b68e20a1a3d7d1a7\n",
      "  experiment_tag: 0_lr=0.001\n",
      "  hostname: Leons-MacBook-Air.local\n",
      "  iterations_since_restore: 8\n",
      "  mean_accuracy: 0.209375\n",
      "  node_ip: 192.168.1.9\n",
      "  pid: 96858\n",
      "  time_since_restore: 6.408412218093872\n",
      "  time_this_iter_s: 1.13680100440979\n",
      "  time_total_s: 6.408412218093872\n",
      "  timestamp: 1577735862\n",
      "  timesteps_since_restore: 0\n",
      "  training_iteration: 7\n",
      "  trial_id: 940e2e8e\n",
      "  \n",
      "Result for train_mnist_940ea116:\n",
      "  date: 2019-12-30_21-57-42\n",
      "  done: false\n",
      "  experiment_id: c67cb011f62e469e942b478ae66a99ae\n",
      "  experiment_tag: 1_lr=0.01\n",
      "  hostname: Leons-MacBook-Air.local\n",
      "  iterations_since_restore: 8\n",
      "  mean_accuracy: 0.690625\n",
      "  node_ip: 192.168.1.9\n",
      "  pid: 96856\n",
      "  time_since_restore: 6.621071100234985\n",
      "  time_this_iter_s: 1.2282779216766357\n",
      "  time_total_s: 6.621071100234985\n",
      "  timestamp: 1577735862\n",
      "  timesteps_since_restore: 0\n",
      "  training_iteration: 7\n",
      "  trial_id: 940ea116\n",
      "  \n"
     ]
    },
    {
     "data": {
      "text/html": [
       "== Status ==<br>Memory usage on this node: 5.9/8.0 GiB<br>Using FIFO scheduling algorithm.<br>Resources requested: 0/4 CPUs, 0/0 GPUs, 0.0/1.27 GiB heap, 0.0/0.44 GiB objects<br>Result logdir: /Users/leonkiesgen/ray_results/train_mnist<br>Number of trials: 3 (3 TERMINATED)<br><table>\n",
       "<thead>\n",
       "<tr><th>Trial name          </th><th>status    </th><th>loc  </th><th style=\"text-align: right;\">   lr</th><th style=\"text-align: right;\">  iter</th><th style=\"text-align: right;\">  total time (s)</th><th style=\"text-align: right;\">     acc</th></tr>\n",
       "</thead>\n",
       "<tbody>\n",
       "<tr><td>train_mnist_940e2e8e</td><td>TERMINATED</td><td>     </td><td style=\"text-align: right;\">0.001</td><td style=\"text-align: right;\">     9</td><td style=\"text-align: right;\">         7.77755</td><td style=\"text-align: right;\">0.23125 </td></tr>\n",
       "<tr><td>train_mnist_940ea116</td><td>TERMINATED</td><td>     </td><td style=\"text-align: right;\">0.01 </td><td style=\"text-align: right;\">     9</td><td style=\"text-align: right;\">         8.07705</td><td style=\"text-align: right;\">0.771875</td></tr>\n",
       "<tr><td>train_mnist_940f47d8</td><td>TERMINATED</td><td>     </td><td style=\"text-align: right;\">0.1  </td><td style=\"text-align: right;\">     9</td><td style=\"text-align: right;\">         7.70492</td><td style=\"text-align: right;\">0.834375</td></tr>\n",
       "</tbody>\n",
       "</table><br><br>"
      ],
      "text/plain": [
       "<IPython.core.display.HTML object>"
      ]
     },
     "metadata": {},
     "output_type": "display_data"
    },
    {
     "name": "stderr",
     "output_type": "stream",
     "text": [
      "2019-12-30 21:57:44,208\tINFO tune.py:334 -- Returning an analysis object by default. You can call `analysis.trials` to retrieve a list of trials. This message will be removed in future versions of Tune.\n"
     ]
    },
    {
     "name": "stdout",
     "output_type": "stream",
     "text": [
      "Best config:  {'lr': 0.1}\n"
     ]
    }
   ],
   "source": [
    "import torch.optim as optim\n",
    "from ray import tune\n",
    "from ray.tune.examples.mnist_pytorch import get_data_loaders, ConvNet, train, test\n",
    "\n",
    "\n",
    "def train_mnist(config):\n",
    "    train_loader, test_loader = get_data_loaders()\n",
    "    model = ConvNet()\n",
    "    optimizer = optim.SGD(model.parameters(), lr=config[\"lr\"])\n",
    "    for i in range(10):\n",
    "        train(model, optimizer, train_loader)\n",
    "        acc = test(model, test_loader)\n",
    "        tune.track.log(mean_accuracy=acc)\n",
    "\n",
    "\n",
    "analysis = tune.run(\n",
    "    train_mnist, config={\"lr\": tune.grid_search([0.001, 0.01, 0.1])})\n",
    "\n",
    "print(\"Best config: \", analysis.get_best_config(metric=\"mean_accuracy\"))\n",
    "\n",
    "# Get a dataframe for analyzing trial results.\n",
    "df = analysis.dataframe()"
   ]
  },
  {
   "cell_type": "code",
   "execution_count": 11,
   "metadata": {},
   "outputs": [
    {
     "data": {
      "text/plain": [
       "[train_mnist_46f0362c, train_mnist_46f06fac, train_mnist_46f0ac88]"
      ]
     },
     "execution_count": 11,
     "metadata": {},
     "output_type": "execute_result"
    }
   ],
   "source": [
    "analysis.trials"
   ]
  },
  {
   "cell_type": "code",
   "execution_count": 18,
   "metadata": {},
   "outputs": [
    {
     "name": "stderr",
     "output_type": "stream",
     "text": [
      "2019-12-30 18:24:02,808\tINFO function_runner.py:254 -- tune.track signature detected.\n",
      "2019-12-30 18:24:02,851\tWARNING logger.py:413 -- Could not instantiate tf2_compat_logger: No module named 'tensorflow'.\n",
      "2019-12-30 18:24:02,858\tINFO ray_trial_executor.py:121 -- Trial train_cab94180: Setting up new remote runner.\n"
     ]
    },
    {
     "data": {
      "text/html": [
       "== Status ==<br>Memory usage on this node: 5.8/8.0 GiB<br>Using FIFO scheduling algorithm.<br>Resources requested: 1/4 CPUs, 0/0 GPUs, 0.0/4.79 GiB heap, 0.0/1.61 GiB objects<br>Result logdir: /Users/leonkiesgen/ray_results/test<br>Number of trials: 10 (1 RUNNING, 9 PENDING)<br><table>\n",
       "<thead>\n",
       "<tr><th>Trial name    </th><th>status  </th><th>loc  </th></tr>\n",
       "</thead>\n",
       "<tbody>\n",
       "<tr><td>train_cab94180</td><td>RUNNING </td><td>     </td></tr>\n",
       "<tr><td>train_cab9a738</td><td>PENDING </td><td>     </td></tr>\n",
       "<tr><td>train_cab9f5ee</td><td>PENDING </td><td>     </td></tr>\n",
       "<tr><td>train_caba2320</td><td>PENDING </td><td>     </td></tr>\n",
       "<tr><td>train_caba5660</td><td>PENDING </td><td>     </td></tr>\n",
       "<tr><td>train_caba7e2e</td><td>PENDING </td><td>     </td></tr>\n",
       "<tr><td>train_cabac456</td><td>PENDING </td><td>     </td></tr>\n",
       "<tr><td>train_cabaf912</td><td>PENDING </td><td>     </td></tr>\n",
       "<tr><td>train_cabb5498</td><td>PENDING </td><td>     </td></tr>\n",
       "<tr><td>train_cabb8062</td><td>PENDING </td><td>     </td></tr>\n",
       "</tbody>\n",
       "</table><br><br>"
      ],
      "text/plain": [
       "<IPython.core.display.HTML object>"
      ]
     },
     "metadata": {},
     "output_type": "display_data"
    },
    {
     "name": "stderr",
     "output_type": "stream",
     "text": [
      "2019-12-30 18:24:02,904\tWARNING logger.py:413 -- Could not instantiate tf2_compat_logger: No module named 'tensorflow'.\n",
      "2019-12-30 18:24:02,918\tINFO ray_trial_executor.py:121 -- Trial train_cab9a738: Setting up new remote runner.\n",
      "2019-12-30 18:24:02,954\tWARNING logger.py:413 -- Could not instantiate tf2_compat_logger: No module named 'tensorflow'.\n",
      "2019-12-30 18:24:02,962\tINFO ray_trial_executor.py:121 -- Trial train_cab9f5ee: Setting up new remote runner.\n",
      "2019-12-30 18:24:02,990\tWARNING logger.py:413 -- Could not instantiate tf2_compat_logger: No module named 'tensorflow'.\n",
      "2019-12-30 18:24:02,996\tINFO ray_trial_executor.py:121 -- Trial train_caba2320: Setting up new remote runner.\n"
     ]
    },
    {
     "data": {
      "text/html": [
       "== Status ==<br>Memory usage on this node: 5.8/8.0 GiB<br>Using FIFO scheduling algorithm.<br>Resources requested: 3/4 CPUs, 0/0 GPUs, 0.0/4.79 GiB heap, 0.0/1.61 GiB objects<br>Result logdir: /Users/leonkiesgen/ray_results/test<br>Number of trials: 10 (1 TERMINATED, 3 RUNNING, 6 PENDING)<br><table>\n",
       "<thead>\n",
       "<tr><th>Trial name    </th><th>status    </th><th>loc  </th></tr>\n",
       "</thead>\n",
       "<tbody>\n",
       "<tr><td>train_cab94180</td><td>TERMINATED</td><td>     </td></tr>\n",
       "<tr><td>train_cab9a738</td><td>RUNNING   </td><td>     </td></tr>\n",
       "<tr><td>train_cab9f5ee</td><td>RUNNING   </td><td>     </td></tr>\n",
       "<tr><td>train_caba2320</td><td>RUNNING   </td><td>     </td></tr>\n",
       "<tr><td>train_caba5660</td><td>PENDING   </td><td>     </td></tr>\n",
       "<tr><td>train_caba7e2e</td><td>PENDING   </td><td>     </td></tr>\n",
       "<tr><td>train_cabac456</td><td>PENDING   </td><td>     </td></tr>\n",
       "<tr><td>train_cabaf912</td><td>PENDING   </td><td>     </td></tr>\n",
       "<tr><td>train_cabb5498</td><td>PENDING   </td><td>     </td></tr>\n",
       "<tr><td>train_cabb8062</td><td>PENDING   </td><td>     </td></tr>\n",
       "</tbody>\n",
       "</table><br><br>"
      ],
      "text/plain": [
       "<IPython.core.display.HTML object>"
      ]
     },
     "metadata": {},
     "output_type": "display_data"
    },
    {
     "name": "stderr",
     "output_type": "stream",
     "text": [
      "2019-12-30 18:24:13,023\tWARNING logger.py:413 -- Could not instantiate tf2_compat_logger: No module named 'tensorflow'.\n",
      "2019-12-30 18:24:13,031\tINFO ray_trial_executor.py:121 -- Trial train_caba5660: Setting up new remote runner.\n",
      "2019-12-30 18:24:13,112\tWARNING logger.py:413 -- Could not instantiate tf2_compat_logger: No module named 'tensorflow'.\n",
      "2019-12-30 18:24:13,122\tINFO ray_trial_executor.py:121 -- Trial train_caba7e2e: Setting up new remote runner.\n",
      "2019-12-30 18:24:13,162\tWARNING logger.py:413 -- Could not instantiate tf2_compat_logger: No module named 'tensorflow'.\n",
      "2019-12-30 18:24:13,170\tINFO ray_trial_executor.py:121 -- Trial train_cabac456: Setting up new remote runner.\n",
      "2019-12-30 18:24:17,381\tWARNING logger.py:413 -- Could not instantiate tf2_compat_logger: No module named 'tensorflow'.\n",
      "2019-12-30 18:24:17,388\tINFO ray_trial_executor.py:121 -- Trial train_cabaf912: Setting up new remote runner.\n"
     ]
    },
    {
     "data": {
      "text/html": [
       "== Status ==<br>Memory usage on this node: 5.9/8.0 GiB<br>Using FIFO scheduling algorithm.<br>Resources requested: 3/4 CPUs, 0/0 GPUs, 0.0/4.79 GiB heap, 0.0/1.61 GiB objects<br>Result logdir: /Users/leonkiesgen/ray_results/test<br>Number of trials: 10 (5 TERMINATED, 3 RUNNING, 2 PENDING)<br><table>\n",
       "<thead>\n",
       "<tr><th>Trial name    </th><th>status    </th><th>loc  </th></tr>\n",
       "</thead>\n",
       "<tbody>\n",
       "<tr><td>train_cab94180</td><td>TERMINATED</td><td>     </td></tr>\n",
       "<tr><td>train_cab9a738</td><td>TERMINATED</td><td>     </td></tr>\n",
       "<tr><td>train_cab9f5ee</td><td>TERMINATED</td><td>     </td></tr>\n",
       "<tr><td>train_caba2320</td><td>TERMINATED</td><td>     </td></tr>\n",
       "<tr><td>train_caba5660</td><td>RUNNING   </td><td>     </td></tr>\n",
       "<tr><td>train_caba7e2e</td><td>TERMINATED</td><td>     </td></tr>\n",
       "<tr><td>train_cabac456</td><td>RUNNING   </td><td>     </td></tr>\n",
       "<tr><td>train_cabaf912</td><td>RUNNING   </td><td>     </td></tr>\n",
       "<tr><td>train_cabb5498</td><td>PENDING   </td><td>     </td></tr>\n",
       "<tr><td>train_cabb8062</td><td>PENDING   </td><td>     </td></tr>\n",
       "</tbody>\n",
       "</table><br><br>"
      ],
      "text/plain": [
       "<IPython.core.display.HTML object>"
      ]
     },
     "metadata": {},
     "output_type": "display_data"
    },
    {
     "name": "stderr",
     "output_type": "stream",
     "text": [
      "2019-12-30 18:24:23,662\tWARNING logger.py:413 -- Could not instantiate tf2_compat_logger: No module named 'tensorflow'.\n",
      "2019-12-30 18:24:23,668\tINFO ray_trial_executor.py:121 -- Trial train_cabb5498: Setting up new remote runner.\n",
      "2019-12-30 18:24:23,735\tWARNING logger.py:413 -- Could not instantiate tf2_compat_logger: No module named 'tensorflow'.\n",
      "2019-12-30 18:24:23,747\tINFO ray_trial_executor.py:121 -- Trial train_cabb8062: Setting up new remote runner.\n"
     ]
    },
    {
     "data": {
      "text/html": [
       "== Status ==<br>Memory usage on this node: 5.7/8.0 GiB<br>Using FIFO scheduling algorithm.<br>Resources requested: 0/4 CPUs, 0/0 GPUs, 0.0/4.79 GiB heap, 0.0/1.61 GiB objects<br>Result logdir: /Users/leonkiesgen/ray_results/test<br>Number of trials: 10 (10 TERMINATED)<br><table>\n",
       "<thead>\n",
       "<tr><th>Trial name    </th><th>status    </th><th>loc  </th></tr>\n",
       "</thead>\n",
       "<tbody>\n",
       "<tr><td>train_cab94180</td><td>TERMINATED</td><td>     </td></tr>\n",
       "<tr><td>train_cab9a738</td><td>TERMINATED</td><td>     </td></tr>\n",
       "<tr><td>train_cab9f5ee</td><td>TERMINATED</td><td>     </td></tr>\n",
       "<tr><td>train_caba2320</td><td>TERMINATED</td><td>     </td></tr>\n",
       "<tr><td>train_caba5660</td><td>TERMINATED</td><td>     </td></tr>\n",
       "<tr><td>train_caba7e2e</td><td>TERMINATED</td><td>     </td></tr>\n",
       "<tr><td>train_cabac456</td><td>TERMINATED</td><td>     </td></tr>\n",
       "<tr><td>train_cabaf912</td><td>TERMINATED</td><td>     </td></tr>\n",
       "<tr><td>train_cabb5498</td><td>TERMINATED</td><td>     </td></tr>\n",
       "<tr><td>train_cabb8062</td><td>TERMINATED</td><td>     </td></tr>\n",
       "</tbody>\n",
       "</table><br><br>"
      ],
      "text/plain": [
       "<IPython.core.display.HTML object>"
      ]
     },
     "metadata": {},
     "output_type": "display_data"
    },
    {
     "name": "stderr",
     "output_type": "stream",
     "text": [
      "2019-12-30 18:24:27,349\tINFO tune.py:334 -- Returning an analysis object by default. You can call `analysis.trials` to retrieve a list of trials. This message will be removed in future versions of Tune.\n"
     ]
    }
   ],
   "source": [
    "import ray\n",
    "import ray.tune as tune\n",
    "\n",
    "def train(_):\n",
    "    pass\n",
    "\n",
    "def main():\n",
    "    #ray.init()\n",
    "    tune.run(train,\n",
    "             name=\"test\",\n",
    "             num_samples=10)\n",
    "main()"
   ]
  },
  {
   "cell_type": "code",
   "execution_count": null,
   "metadata": {},
   "outputs": [],
   "source": []
  }
 ],
 "metadata": {
  "kernelspec": {
   "display_name": "Python 3",
   "language": "python",
   "name": "python3"
  },
  "language_info": {
   "codemirror_mode": {
    "name": "ipython",
    "version": 3
   },
   "file_extension": ".py",
   "mimetype": "text/x-python",
   "name": "python",
   "nbconvert_exporter": "python",
   "pygments_lexer": "ipython3",
   "version": "3.7.1"
  }
 },
 "nbformat": 4,
 "nbformat_minor": 2
}
