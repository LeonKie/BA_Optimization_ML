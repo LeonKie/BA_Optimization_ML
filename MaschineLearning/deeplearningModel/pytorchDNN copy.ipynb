{
 "cells": [
  {
   "cell_type": "code",
   "execution_count": 129,
   "metadata": {},
   "outputs": [
    {
     "data": {
      "text/plain": [
       "<torch._C.Generator at 0x10c34b650>"
      ]
     },
     "execution_count": 129,
     "metadata": {},
     "output_type": "execute_result"
    }
   ],
   "source": [
    "import numpy as np\n",
    "import torch\n",
    "import matplotlib.pyplot as plt\n",
    "from torchvision import transforms\n",
    "import torch.nn.functional as F \n",
    "from torch import nn\n",
    "import sys\n",
    "sys.path.insert(1, '/Users/leonkiesgen/Documents/Python/BA_Optimization_ML/MaschineLearning/visualisation')\n",
    "import json_ImExport\n",
    "import LogDataImport\n",
    "import random\n",
    "import matplotlib.pyplot as plt\n",
    "sys.path.insert(1,\"/Users/leonkiesgen/Documents/Python/src/tqdm\")\n",
    "\n",
    "#import torch.utils.tensorboard import SummaryWriter\n",
    "\n",
    "\n",
    "from tqdm.notebook import tqdm\n",
    "import time\n",
    "    \n",
    "torch.manual_seed(0)"
   ]
  },
  {
   "cell_type": "code",
   "execution_count": null,
   "metadata": {},
   "outputs": [],
   "source": [
    " "
   ]
  },
  {
   "cell_type": "markdown",
   "metadata": {},
   "source": [
    "## Data Import"
   ]
  },
  {
   "cell_type": "code",
   "execution_count": 130,
   "metadata": {},
   "outputs": [
    {
     "data": {
      "application/vnd.jupyter.widget-view+json": {
       "model_id": "1ffb8b51c6bd40d19a9bb99c078ad5b2",
       "version_major": 2,
       "version_minor": 0
      },
      "text/plain": [
       "HBox(children=(FloatProgress(value=0.0, max=4.0), HTML(value='')))"
      ]
     },
     "metadata": {},
     "output_type": "display_data"
    },
    {
     "name": "stdout",
     "output_type": "stream",
     "text": [
      "\n"
     ]
    }
   ],
   "source": [
    "with tqdm(total=4) as pbar:\n",
    "    #Json\n",
    "    Jsondata=json_ImExport.loadData(\"/Users/leonkiesgen/Documents/Python/Kappa_variation_vmax100.json\")\n",
    "    #Log File (Monteblanco)\n",
    "    pbar.update(1)\n",
    "    Logdata_MB=LogDataImport.get_data(\"/Users/leonkiesgen/Documents/Python/mod_local_trajectory/logs/ltpl/2019_12_01/15_00_59_data.csv\")\n",
    "\n",
    "    #Log File (Berlin)\n",
    "    pbar.update(1)\n",
    "    ValLogdata_B=LogDataImport.get_data(\"/Users/leonkiesgen/Documents/Python/mod_local_trajectory/logs/ltpl/2019_12_05/12_19_36_data.csv\")\n",
    "\n",
    "    #Log File (Modena)\n",
    "    pbar.update(1)\n",
    "    ValLogdata_M=LogDataImport.get_data(\"/Users/leonkiesgen/Documents/Python/mod_local_trajectory/logs/ltpl/2019_12_05/15_41_27_data.csv\")\n",
    "\n",
    "    #Log File (zalazone)\n",
    "    pbar.update(1)\n",
    "    ValLogdata_Z=LogDataImport.get_data(\"/Users/leonkiesgen/Documents/Python/mod_local_trajectory/logs/ltpl/2019_12_05/15_51_25_data.csv\")\n",
    "\n",
    "    #print(ValLogdata_Z)"
   ]
  },
  {
   "cell_type": "markdown",
   "metadata": {},
   "source": [
    "## Define NN Model"
   ]
  },
  {
   "cell_type": "code",
   "execution_count": 139,
   "metadata": {},
   "outputs": [],
   "source": [
    "class RNN(nn.Module):\n",
    "    def __init__(self,input_size,output_size,hidden_dim,n_layers):\n",
    "        super(RNN, self).__init__()\n",
    "        self.n_layers=n_layers\n",
    "        self.hidden_dim=hidden_dim\n",
    "        self.rnn= nn.RNN(input_size,hidden_dim,n_layers,nonlinearity=\"relu\",batch_first=True,bidirectional=True)\n",
    "        self.fc = nn.Linear(2*hidden_dim, output_size)\n",
    "        \n",
    "        self.calcH = nn.RNN(input_size,hidden_dim,n_layers,nonlinearity=\"relu\",batch_first=True,bidirectional=True)\n",
    "    def forward(self,x,hidden):\n",
    "        vini=x[:,0,:].squeeze()\n",
    "        hidden=self.initHidden(x[:,0,:])\n",
    "        r_out,hidden =self.rnn(x[:,1:,:],hidden)\n",
    "        output = self.fc(r_out)\n",
    "\n",
    "        return output\n",
    "    \n",
    "    def initHidden(self,vini):\n",
    "        \n",
    "        hidden=self.calcH(vini.unsqueeze(0),None)\n",
    "        return torch.zeros(self.n_layers*2,1,self.hidden_dim)\n",
    "        \n",
    "        "
   ]
  },
  {
   "cell_type": "markdown",
   "metadata": {},
   "source": [
    "## Data Preperation"
   ]
  },
  {
   "cell_type": "code",
   "execution_count": 145,
   "metadata": {},
   "outputs": [
    {
     "name": "stdout",
     "output_type": "stream",
     "text": [
      "Max is:  0.05\n",
      "Max is:  70\n",
      "Max is:  0.05\n",
      "Max is:  70\n",
      "torch.Size([1, 137, 1])\n"
     ]
    },
    {
     "ename": "ValueError",
     "evalue": "not enough values to unpack (expected 2, got 1)",
     "output_type": "error",
     "traceback": [
      "\u001b[0;31m---------------------------------------------------------------------------\u001b[0m",
      "\u001b[0;31mValueError\u001b[0m                                Traceback (most recent call last)",
      "\u001b[0;32m<ipython-input-145-6adf63db7dd3>\u001b[0m in \u001b[0;36m<module>\u001b[0;34m\u001b[0m\n\u001b[1;32m     99\u001b[0m \u001b[0;34m\u001b[0m\u001b[0m\n\u001b[1;32m    100\u001b[0m \u001b[0;31m#h0= torch.zeros((2,1,10))\u001b[0m\u001b[0;34m\u001b[0m\u001b[0;34m\u001b[0m\u001b[0;34m\u001b[0m\u001b[0m\n\u001b[0;32m--> 101\u001b[0;31m \u001b[0mr_out\u001b[0m\u001b[0;34m,\u001b[0m\u001b[0mh1\u001b[0m\u001b[0;34m=\u001b[0m \u001b[0mmodel\u001b[0m\u001b[0;34m(\u001b[0m\u001b[0minputT\u001b[0m\u001b[0;34m,\u001b[0m\u001b[0;32mNone\u001b[0m\u001b[0;34m)\u001b[0m\u001b[0;34m\u001b[0m\u001b[0;34m\u001b[0m\u001b[0m\n\u001b[0m\u001b[1;32m    102\u001b[0m \u001b[0;34m\u001b[0m\u001b[0m\n\u001b[1;32m    103\u001b[0m \u001b[0mprint\u001b[0m\u001b[0;34m(\u001b[0m\u001b[0mr_out\u001b[0m\u001b[0;34m.\u001b[0m\u001b[0msqueeze\u001b[0m\u001b[0;34m(\u001b[0m\u001b[0;34m)\u001b[0m\u001b[0;34m)\u001b[0m\u001b[0;34m\u001b[0m\u001b[0;34m\u001b[0m\u001b[0m\n",
      "\u001b[0;31mValueError\u001b[0m: not enough values to unpack (expected 2, got 1)"
     ]
    }
   ],
   "source": [
    "\n",
    "model=RNN(input_size=1,output_size=1,hidden_dim=10,n_layers=1)\n",
    "#tb= SummaryWriter()\n",
    "#tb.add_graph(model)\n",
    "\n",
    "class Normalize():\n",
    "\n",
    "    def __init__(self,data,scale=None):\n",
    "\n",
    "        if scale is None:\n",
    "            self.max=np.max(np.abs(data))\n",
    "        else:\n",
    "            self.max=scale\n",
    "        print(\"Max is: \",self.max )\n",
    "\n",
    "    def __call__(self,x):\n",
    "        return x/self.max\n",
    "\n",
    "    def normal(self,x):\n",
    "        return x*self.max\n",
    "\n",
    "# For Json\n",
    "def prepareData(data):\n",
    "    \n",
    "    prepareddata=[]\n",
    "    for item in data:\n",
    "\n",
    "        #Input Data --------------------\n",
    "        inpdata=[]\n",
    "        inpdata.append(item[\"v_ini\"])\n",
    "        inpdata.append(item[\"v_max\"])\n",
    "        inpdata.append(item[\"Power\"])   \n",
    "        inpdata.extend(item[\"Kappa\"])\n",
    "\n",
    "        #Label Data -------------------\n",
    "        label=item[\"V_op\"]\n",
    "\n",
    "        #Convert to Tensors -----------\n",
    "        inpdata=torch.Tensor(inpdata)\n",
    "        label=torch.Tensor(label)\n",
    "\n",
    "\n",
    "        tupledata=(inpdata,label)\n",
    "        prepareddata.append((inpdata,label))\n",
    "    \n",
    "\n",
    "    return prepareddata\n",
    "\n",
    "# For Log File\n",
    "def prepareLogData(indata):\n",
    "    #lowestLen=200\n",
    "    prepareddata=[]\n",
    "\n",
    "    #Initialize Nomalizer\n",
    "    #kappaNormalize=Normalize(allkappa)\n",
    "    kappaNormalize=Normalize(None,scale=0.05)\n",
    "    VelNormalize=Normalize(None,scale=70)\n",
    "    data=[]\n",
    "    for d in indata:\n",
    "        data.extend(d)\n",
    "\n",
    "    for item in data:\n",
    "        inpdata=[]\n",
    "        #lowestLen= len(item[1]) if len(item[1])< lowestLen else lowestLen\n",
    "\n",
    "        #Input Data --------------------\n",
    "        inpdata.append(VelNormalize(item[1][0]))\n",
    "        kappatmp=np.array(item[0][:])\n",
    "        kappatmp=kappaNormalize(kappatmp)\n",
    "        inpdata.extend(kappatmp) #Kappa\n",
    "        \n",
    "        #Label Data -------------------\n",
    "        label=np.array(item[1][:])\n",
    "\n",
    "        #Convert to Tensors -----------\n",
    "        inpdata=torch.Tensor(inpdata)\n",
    "        label=torch.Tensor(VelNormalize(label))\n",
    "\n",
    "        tupledata=(inpdata,label)\n",
    "        \n",
    "        #print(inpdata.shape,label.shape)\n",
    "        \n",
    "        prepareddata.append((inpdata,label))\n",
    "        \n",
    "    #print(lowestLen)\n",
    "    return prepareddata\n",
    "\n",
    "traindata=prepareLogData([Logdata_MB]) #[Logdata_MB,ValLogdata_M,ValLogdata_Z]\n",
    "valdata=prepareLogData([ValLogdata_B[:250]])\n",
    "#print(traindata[1])\n",
    "\n",
    "random.shuffle(traindata)\n",
    "random.shuffle(valdata)\n",
    "\n",
    "\n",
    "inputT=torch.reshape(traindata[1][0],[-1,1]).unsqueeze(0)\n",
    "print(inputT.shape)\n",
    "\n",
    "\n",
    "#h0= torch.zeros((2,1,10))\n",
    "r_out,h1= model(inputT,None)\n",
    "\n",
    "print(r_out.squeeze())"
   ]
  },
  {
   "cell_type": "code",
   "execution_count": 146,
   "metadata": {},
   "outputs": [
    {
     "data": {
      "application/vnd.jupyter.widget-view+json": {
       "model_id": "",
       "version_major": 2,
       "version_minor": 0
      },
      "text/plain": [
       "HBox(children=(FloatProgress(value=0.0, description='Total Progress: ', max=25.0, style=ProgressStyle(descript…"
      ]
     },
     "metadata": {},
     "output_type": "display_data"
    },
    {
     "data": {
      "application/vnd.jupyter.widget-view+json": {
       "model_id": "",
       "version_major": 2,
       "version_minor": 0
      },
      "text/plain": [
       "HBox(children=(FloatProgress(value=0.0, description='Training Data', max=1877.0, style=ProgressStyle(descripti…"
      ]
     },
     "metadata": {},
     "output_type": "display_data"
    },
    {
     "data": {
      "application/vnd.jupyter.widget-view+json": {
       "model_id": "",
       "version_major": 2,
       "version_minor": 0
      },
      "text/plain": [
       "HBox(children=(FloatProgress(value=0.0, description='Valiation Data', max=250.0, style=ProgressStyle(descripti…"
      ]
     },
     "metadata": {},
     "output_type": "display_data"
    },
    {
     "name": "stdout",
     "output_type": "stream",
     "text": [
      "Epoch(1/25) | Training loss: 0.00912944733845865 | Val loss: 0.03075425699353218 | \n"
     ]
    },
    {
     "data": {
      "application/vnd.jupyter.widget-view+json": {
       "model_id": "",
       "version_major": 2,
       "version_minor": 0
      },
      "text/plain": [
       "HBox(children=(FloatProgress(value=0.0, description='Training Data', max=1877.0, style=ProgressStyle(descripti…"
      ]
     },
     "metadata": {},
     "output_type": "display_data"
    },
    {
     "data": {
      "application/vnd.jupyter.widget-view+json": {
       "model_id": "",
       "version_major": 2,
       "version_minor": 0
      },
      "text/plain": [
       "HBox(children=(FloatProgress(value=0.0, description='Valiation Data', max=250.0, style=ProgressStyle(descripti…"
      ]
     },
     "metadata": {},
     "output_type": "display_data"
    },
    {
     "name": "stdout",
     "output_type": "stream",
     "text": [
      "Epoch(2/25) | Training loss: 0.005793780685076465 | Val loss: 0.023584477603435516 | \n"
     ]
    },
    {
     "data": {
      "application/vnd.jupyter.widget-view+json": {
       "model_id": "",
       "version_major": 2,
       "version_minor": 0
      },
      "text/plain": [
       "HBox(children=(FloatProgress(value=0.0, description='Training Data', max=1877.0, style=ProgressStyle(descripti…"
      ]
     },
     "metadata": {},
     "output_type": "display_data"
    },
    {
     "data": {
      "application/vnd.jupyter.widget-view+json": {
       "model_id": "",
       "version_major": 2,
       "version_minor": 0
      },
      "text/plain": [
       "HBox(children=(FloatProgress(value=0.0, description='Valiation Data', max=250.0, style=ProgressStyle(descripti…"
      ]
     },
     "metadata": {},
     "output_type": "display_data"
    },
    {
     "name": "stdout",
     "output_type": "stream",
     "text": [
      "Epoch(3/25) | Training loss: 0.005553296501953557 | Val loss: 0.017609668895602226 | \n"
     ]
    },
    {
     "data": {
      "application/vnd.jupyter.widget-view+json": {
       "model_id": "",
       "version_major": 2,
       "version_minor": 0
      },
      "text/plain": [
       "HBox(children=(FloatProgress(value=0.0, description='Training Data', max=1877.0, style=ProgressStyle(descripti…"
      ]
     },
     "metadata": {},
     "output_type": "display_data"
    },
    {
     "data": {
      "application/vnd.jupyter.widget-view+json": {
       "model_id": "",
       "version_major": 2,
       "version_minor": 0
      },
      "text/plain": [
       "HBox(children=(FloatProgress(value=0.0, description='Valiation Data', max=250.0, style=ProgressStyle(descripti…"
      ]
     },
     "metadata": {},
     "output_type": "display_data"
    },
    {
     "name": "stdout",
     "output_type": "stream",
     "text": [
      "Epoch(4/25) | Training loss: 0.005320435969224006 | Val loss: 0.012796756811439991 | \n"
     ]
    },
    {
     "data": {
      "application/vnd.jupyter.widget-view+json": {
       "model_id": "",
       "version_major": 2,
       "version_minor": 0
      },
      "text/plain": [
       "HBox(children=(FloatProgress(value=0.0, description='Training Data', max=1877.0, style=ProgressStyle(descripti…"
      ]
     },
     "metadata": {},
     "output_type": "display_data"
    },
    {
     "data": {
      "application/vnd.jupyter.widget-view+json": {
       "model_id": "",
       "version_major": 2,
       "version_minor": 0
      },
      "text/plain": [
       "HBox(children=(FloatProgress(value=0.0, description='Valiation Data', max=250.0, style=ProgressStyle(descripti…"
      ]
     },
     "metadata": {},
     "output_type": "display_data"
    },
    {
     "name": "stdout",
     "output_type": "stream",
     "text": [
      "Epoch(5/25) | Training loss: 0.0050367165782686605 | Val loss: 0.018091637641191483 | \n"
     ]
    },
    {
     "data": {
      "application/vnd.jupyter.widget-view+json": {
       "model_id": "",
       "version_major": 2,
       "version_minor": 0
      },
      "text/plain": [
       "HBox(children=(FloatProgress(value=0.0, description='Training Data', max=1877.0, style=ProgressStyle(descripti…"
      ]
     },
     "metadata": {},
     "output_type": "display_data"
    },
    {
     "data": {
      "application/vnd.jupyter.widget-view+json": {
       "model_id": "",
       "version_major": 2,
       "version_minor": 0
      },
      "text/plain": [
       "HBox(children=(FloatProgress(value=0.0, description='Valiation Data', max=250.0, style=ProgressStyle(descripti…"
      ]
     },
     "metadata": {},
     "output_type": "display_data"
    },
    {
     "name": "stdout",
     "output_type": "stream",
     "text": [
      "Epoch(6/25) | Training loss: 0.00508028387097822 | Val loss: 0.02385111339390278 | \n"
     ]
    },
    {
     "data": {
      "application/vnd.jupyter.widget-view+json": {
       "model_id": "",
       "version_major": 2,
       "version_minor": 0
      },
      "text/plain": [
       "HBox(children=(FloatProgress(value=0.0, description='Training Data', max=1877.0, style=ProgressStyle(descripti…"
      ]
     },
     "metadata": {},
     "output_type": "display_data"
    },
    {
     "data": {
      "application/vnd.jupyter.widget-view+json": {
       "model_id": "",
       "version_major": 2,
       "version_minor": 0
      },
      "text/plain": [
       "HBox(children=(FloatProgress(value=0.0, description='Valiation Data', max=250.0, style=ProgressStyle(descripti…"
      ]
     },
     "metadata": {},
     "output_type": "display_data"
    },
    {
     "name": "stdout",
     "output_type": "stream",
     "text": [
      "Epoch(7/25) | Training loss: 0.005007556083754919 | Val loss: 0.012881336733698845 | \n"
     ]
    },
    {
     "data": {
      "application/vnd.jupyter.widget-view+json": {
       "model_id": "",
       "version_major": 2,
       "version_minor": 0
      },
      "text/plain": [
       "HBox(children=(FloatProgress(value=0.0, description='Training Data', max=1877.0, style=ProgressStyle(descripti…"
      ]
     },
     "metadata": {},
     "output_type": "display_data"
    },
    {
     "data": {
      "application/vnd.jupyter.widget-view+json": {
       "model_id": "",
       "version_major": 2,
       "version_minor": 0
      },
      "text/plain": [
       "HBox(children=(FloatProgress(value=0.0, description='Valiation Data', max=250.0, style=ProgressStyle(descripti…"
      ]
     },
     "metadata": {},
     "output_type": "display_data"
    },
    {
     "name": "stdout",
     "output_type": "stream",
     "text": [
      "Epoch(8/25) | Training loss: 0.005074210928150288 | Val loss: 0.014727703295648098 | \n"
     ]
    },
    {
     "data": {
      "application/vnd.jupyter.widget-view+json": {
       "model_id": "",
       "version_major": 2,
       "version_minor": 0
      },
      "text/plain": [
       "HBox(children=(FloatProgress(value=0.0, description='Training Data', max=1877.0, style=ProgressStyle(descripti…"
      ]
     },
     "metadata": {},
     "output_type": "display_data"
    },
    {
     "data": {
      "application/vnd.jupyter.widget-view+json": {
       "model_id": "",
       "version_major": 2,
       "version_minor": 0
      },
      "text/plain": [
       "HBox(children=(FloatProgress(value=0.0, description='Valiation Data', max=250.0, style=ProgressStyle(descripti…"
      ]
     },
     "metadata": {},
     "output_type": "display_data"
    },
    {
     "name": "stdout",
     "output_type": "stream",
     "text": [
      "Epoch(9/25) | Training loss: 0.004953491409081836 | Val loss: 0.01530294120311737 | \n"
     ]
    },
    {
     "data": {
      "application/vnd.jupyter.widget-view+json": {
       "model_id": "",
       "version_major": 2,
       "version_minor": 0
      },
      "text/plain": [
       "HBox(children=(FloatProgress(value=0.0, description='Training Data', max=1877.0, style=ProgressStyle(descripti…"
      ]
     },
     "metadata": {},
     "output_type": "display_data"
    },
    {
     "data": {
      "application/vnd.jupyter.widget-view+json": {
       "model_id": "",
       "version_major": 2,
       "version_minor": 0
      },
      "text/plain": [
       "HBox(children=(FloatProgress(value=0.0, description='Valiation Data', max=250.0, style=ProgressStyle(descripti…"
      ]
     },
     "metadata": {},
     "output_type": "display_data"
    },
    {
     "name": "stdout",
     "output_type": "stream",
     "text": [
      "Epoch(10/25) | Training loss: 0.0056465962128545025 | Val loss: 0.01894412934780121 | \n"
     ]
    },
    {
     "data": {
      "application/vnd.jupyter.widget-view+json": {
       "model_id": "",
       "version_major": 2,
       "version_minor": 0
      },
      "text/plain": [
       "HBox(children=(FloatProgress(value=0.0, description='Training Data', max=1877.0, style=ProgressStyle(descripti…"
      ]
     },
     "metadata": {},
     "output_type": "display_data"
    },
    {
     "data": {
      "application/vnd.jupyter.widget-view+json": {
       "model_id": "",
       "version_major": 2,
       "version_minor": 0
      },
      "text/plain": [
       "HBox(children=(FloatProgress(value=0.0, description='Valiation Data', max=250.0, style=ProgressStyle(descripti…"
      ]
     },
     "metadata": {},
     "output_type": "display_data"
    },
    {
     "name": "stdout",
     "output_type": "stream",
     "text": [
      "Epoch(11/25) | Training loss: 0.005250595875455168 | Val loss: 0.017745139077305794 | \n"
     ]
    },
    {
     "data": {
      "application/vnd.jupyter.widget-view+json": {
       "model_id": "",
       "version_major": 2,
       "version_minor": 0
      },
      "text/plain": [
       "HBox(children=(FloatProgress(value=0.0, description='Training Data', max=1877.0, style=ProgressStyle(descripti…"
      ]
     },
     "metadata": {},
     "output_type": "display_data"
    },
    {
     "data": {
      "application/vnd.jupyter.widget-view+json": {
       "model_id": "",
       "version_major": 2,
       "version_minor": 0
      },
      "text/plain": [
       "HBox(children=(FloatProgress(value=0.0, description='Valiation Data', max=250.0, style=ProgressStyle(descripti…"
      ]
     },
     "metadata": {},
     "output_type": "display_data"
    },
    {
     "name": "stdout",
     "output_type": "stream",
     "text": [
      "Epoch(12/25) | Training loss: 0.005238126245410155 | Val loss: 0.016925664618611336 | \n"
     ]
    },
    {
     "data": {
      "application/vnd.jupyter.widget-view+json": {
       "model_id": "",
       "version_major": 2,
       "version_minor": 0
      },
      "text/plain": [
       "HBox(children=(FloatProgress(value=0.0, description='Training Data', max=1877.0, style=ProgressStyle(descripti…"
      ]
     },
     "metadata": {},
     "output_type": "display_data"
    },
    {
     "data": {
      "application/vnd.jupyter.widget-view+json": {
       "model_id": "",
       "version_major": 2,
       "version_minor": 0
      },
      "text/plain": [
       "HBox(children=(FloatProgress(value=0.0, description='Valiation Data', max=250.0, style=ProgressStyle(descripti…"
      ]
     },
     "metadata": {},
     "output_type": "display_data"
    },
    {
     "name": "stdout",
     "output_type": "stream",
     "text": [
      "Epoch(13/25) | Training loss: 0.0052025763075250475 | Val loss: 0.02081487327814102 | \n"
     ]
    },
    {
     "data": {
      "application/vnd.jupyter.widget-view+json": {
       "model_id": "",
       "version_major": 2,
       "version_minor": 0
      },
      "text/plain": [
       "HBox(children=(FloatProgress(value=0.0, description='Training Data', max=1877.0, style=ProgressStyle(descripti…"
      ]
     },
     "metadata": {},
     "output_type": "display_data"
    },
    {
     "data": {
      "application/vnd.jupyter.widget-view+json": {
       "model_id": "",
       "version_major": 2,
       "version_minor": 0
      },
      "text/plain": [
       "HBox(children=(FloatProgress(value=0.0, description='Valiation Data', max=250.0, style=ProgressStyle(descripti…"
      ]
     },
     "metadata": {},
     "output_type": "display_data"
    },
    {
     "name": "stdout",
     "output_type": "stream",
     "text": [
      "Epoch(14/25) | Training loss: 0.005177540952075802 | Val loss: 0.015076528303325176 | \n"
     ]
    },
    {
     "data": {
      "application/vnd.jupyter.widget-view+json": {
       "model_id": "",
       "version_major": 2,
       "version_minor": 0
      },
      "text/plain": [
       "HBox(children=(FloatProgress(value=0.0, description='Training Data', max=1877.0, style=ProgressStyle(descripti…"
      ]
     },
     "metadata": {},
     "output_type": "display_data"
    },
    {
     "data": {
      "application/vnd.jupyter.widget-view+json": {
       "model_id": "",
       "version_major": 2,
       "version_minor": 0
      },
      "text/plain": [
       "HBox(children=(FloatProgress(value=0.0, description='Valiation Data', max=250.0, style=ProgressStyle(descripti…"
      ]
     },
     "metadata": {},
     "output_type": "display_data"
    },
    {
     "name": "stdout",
     "output_type": "stream",
     "text": [
      "Epoch(15/25) | Training loss: 0.005253494314239204 | Val loss: 0.016361553221940994 | \n"
     ]
    },
    {
     "data": {
      "application/vnd.jupyter.widget-view+json": {
       "model_id": "",
       "version_major": 2,
       "version_minor": 0
      },
      "text/plain": [
       "HBox(children=(FloatProgress(value=0.0, description='Training Data', max=1877.0, style=ProgressStyle(descripti…"
      ]
     },
     "metadata": {},
     "output_type": "display_data"
    },
    {
     "data": {
      "application/vnd.jupyter.widget-view+json": {
       "model_id": "",
       "version_major": 2,
       "version_minor": 0
      },
      "text/plain": [
       "HBox(children=(FloatProgress(value=0.0, description='Valiation Data', max=250.0, style=ProgressStyle(descripti…"
      ]
     },
     "metadata": {},
     "output_type": "display_data"
    },
    {
     "name": "stdout",
     "output_type": "stream",
     "text": [
      "Epoch(16/25) | Training loss: 0.0051662599355998045 | Val loss: 0.014552541077136993 | \n"
     ]
    },
    {
     "data": {
      "application/vnd.jupyter.widget-view+json": {
       "model_id": "",
       "version_major": 2,
       "version_minor": 0
      },
      "text/plain": [
       "HBox(children=(FloatProgress(value=0.0, description='Training Data', max=1877.0, style=ProgressStyle(descripti…"
      ]
     },
     "metadata": {},
     "output_type": "display_data"
    },
    {
     "data": {
      "application/vnd.jupyter.widget-view+json": {
       "model_id": "",
       "version_major": 2,
       "version_minor": 0
      },
      "text/plain": [
       "HBox(children=(FloatProgress(value=0.0, description='Valiation Data', max=250.0, style=ProgressStyle(descripti…"
      ]
     },
     "metadata": {},
     "output_type": "display_data"
    },
    {
     "name": "stdout",
     "output_type": "stream",
     "text": [
      "Epoch(17/25) | Training loss: 0.0052186821591229116 | Val loss: 0.01650289259850979 | \n"
     ]
    },
    {
     "data": {
      "application/vnd.jupyter.widget-view+json": {
       "model_id": "",
       "version_major": 2,
       "version_minor": 0
      },
      "text/plain": [
       "HBox(children=(FloatProgress(value=0.0, description='Training Data', max=1877.0, style=ProgressStyle(descripti…"
      ]
     },
     "metadata": {},
     "output_type": "display_data"
    },
    {
     "data": {
      "application/vnd.jupyter.widget-view+json": {
       "model_id": "",
       "version_major": 2,
       "version_minor": 0
      },
      "text/plain": [
       "HBox(children=(FloatProgress(value=0.0, description='Valiation Data', max=250.0, style=ProgressStyle(descripti…"
      ]
     },
     "metadata": {},
     "output_type": "display_data"
    },
    {
     "name": "stdout",
     "output_type": "stream",
     "text": [
      "Epoch(18/25) | Training loss: 0.0052011542102360685 | Val loss: 0.016688304021954536 | \n"
     ]
    },
    {
     "data": {
      "application/vnd.jupyter.widget-view+json": {
       "model_id": "",
       "version_major": 2,
       "version_minor": 0
      },
      "text/plain": [
       "HBox(children=(FloatProgress(value=0.0, description='Training Data', max=1877.0, style=ProgressStyle(descripti…"
      ]
     },
     "metadata": {},
     "output_type": "display_data"
    },
    {
     "data": {
      "application/vnd.jupyter.widget-view+json": {
       "model_id": "",
       "version_major": 2,
       "version_minor": 0
      },
      "text/plain": [
       "HBox(children=(FloatProgress(value=0.0, description='Valiation Data', max=250.0, style=ProgressStyle(descripti…"
      ]
     },
     "metadata": {},
     "output_type": "display_data"
    },
    {
     "name": "stdout",
     "output_type": "stream",
     "text": [
      "Epoch(19/25) | Training loss: 0.00516579974804991 | Val loss: 0.01772426627576351 | \n"
     ]
    },
    {
     "data": {
      "application/vnd.jupyter.widget-view+json": {
       "model_id": "",
       "version_major": 2,
       "version_minor": 0
      },
      "text/plain": [
       "HBox(children=(FloatProgress(value=0.0, description='Training Data', max=1877.0, style=ProgressStyle(descripti…"
      ]
     },
     "metadata": {},
     "output_type": "display_data"
    },
    {
     "data": {
      "application/vnd.jupyter.widget-view+json": {
       "model_id": "",
       "version_major": 2,
       "version_minor": 0
      },
      "text/plain": [
       "HBox(children=(FloatProgress(value=0.0, description='Valiation Data', max=250.0, style=ProgressStyle(descripti…"
      ]
     },
     "metadata": {},
     "output_type": "display_data"
    },
    {
     "name": "stdout",
     "output_type": "stream",
     "text": [
      "Epoch(20/25) | Training loss: 0.005222329325623191 | Val loss: 0.018117204308509827 | \n"
     ]
    },
    {
     "data": {
      "application/vnd.jupyter.widget-view+json": {
       "model_id": "",
       "version_major": 2,
       "version_minor": 0
      },
      "text/plain": [
       "HBox(children=(FloatProgress(value=0.0, description='Training Data', max=1877.0, style=ProgressStyle(descripti…"
      ]
     },
     "metadata": {},
     "output_type": "display_data"
    },
    {
     "data": {
      "application/vnd.jupyter.widget-view+json": {
       "model_id": "",
       "version_major": 2,
       "version_minor": 0
      },
      "text/plain": [
       "HBox(children=(FloatProgress(value=0.0, description='Valiation Data', max=250.0, style=ProgressStyle(descripti…"
      ]
     },
     "metadata": {},
     "output_type": "display_data"
    },
    {
     "name": "stdout",
     "output_type": "stream",
     "text": [
      "Epoch(21/25) | Training loss: 0.005208523415654727 | Val loss: 0.017296329140663147 | \n"
     ]
    },
    {
     "data": {
      "application/vnd.jupyter.widget-view+json": {
       "model_id": "",
       "version_major": 2,
       "version_minor": 0
      },
      "text/plain": [
       "HBox(children=(FloatProgress(value=0.0, description='Training Data', max=1877.0, style=ProgressStyle(descripti…"
      ]
     },
     "metadata": {},
     "output_type": "display_data"
    },
    {
     "data": {
      "application/vnd.jupyter.widget-view+json": {
       "model_id": "",
       "version_major": 2,
       "version_minor": 0
      },
      "text/plain": [
       "HBox(children=(FloatProgress(value=0.0, description='Valiation Data', max=250.0, style=ProgressStyle(descripti…"
      ]
     },
     "metadata": {},
     "output_type": "display_data"
    },
    {
     "name": "stdout",
     "output_type": "stream",
     "text": [
      "Epoch(22/25) | Training loss: 0.00516276610311871 | Val loss: 0.01673666387796402 | \n"
     ]
    },
    {
     "data": {
      "application/vnd.jupyter.widget-view+json": {
       "model_id": "",
       "version_major": 2,
       "version_minor": 0
      },
      "text/plain": [
       "HBox(children=(FloatProgress(value=0.0, description='Training Data', max=1877.0, style=ProgressStyle(descripti…"
      ]
     },
     "metadata": {},
     "output_type": "display_data"
    },
    {
     "data": {
      "application/vnd.jupyter.widget-view+json": {
       "model_id": "",
       "version_major": 2,
       "version_minor": 0
      },
      "text/plain": [
       "HBox(children=(FloatProgress(value=0.0, description='Valiation Data', max=250.0, style=ProgressStyle(descripti…"
      ]
     },
     "metadata": {},
     "output_type": "display_data"
    },
    {
     "name": "stdout",
     "output_type": "stream",
     "text": [
      "Epoch(23/25) | Training loss: 0.005244079028631719 | Val loss: 0.017495987936854362 | \n"
     ]
    },
    {
     "data": {
      "application/vnd.jupyter.widget-view+json": {
       "model_id": "",
       "version_major": 2,
       "version_minor": 0
      },
      "text/plain": [
       "HBox(children=(FloatProgress(value=0.0, description='Training Data', max=1877.0, style=ProgressStyle(descripti…"
      ]
     },
     "metadata": {},
     "output_type": "display_data"
    },
    {
     "data": {
      "application/vnd.jupyter.widget-view+json": {
       "model_id": "",
       "version_major": 2,
       "version_minor": 0
      },
      "text/plain": [
       "HBox(children=(FloatProgress(value=0.0, description='Valiation Data', max=250.0, style=ProgressStyle(descripti…"
      ]
     },
     "metadata": {},
     "output_type": "display_data"
    },
    {
     "name": "stdout",
     "output_type": "stream",
     "text": [
      "Epoch(24/25) | Training loss: 0.005321714768803207 | Val loss: 0.01583036594092846 | \n"
     ]
    },
    {
     "data": {
      "application/vnd.jupyter.widget-view+json": {
       "model_id": "",
       "version_major": 2,
       "version_minor": 0
      },
      "text/plain": [
       "HBox(children=(FloatProgress(value=0.0, description='Training Data', max=1877.0, style=ProgressStyle(descripti…"
      ]
     },
     "metadata": {},
     "output_type": "display_data"
    },
    {
     "data": {
      "application/vnd.jupyter.widget-view+json": {
       "model_id": "",
       "version_major": 2,
       "version_minor": 0
      },
      "text/plain": [
       "HBox(children=(FloatProgress(value=0.0, description='Valiation Data', max=250.0, style=ProgressStyle(descripti…"
      ]
     },
     "metadata": {},
     "output_type": "display_data"
    },
    {
     "name": "stdout",
     "output_type": "stream",
     "text": [
      "Epoch(25/25) | Training loss: 0.005145249135384646 | Val loss: 0.015078296884894371 | \n"
     ]
    }
   ],
   "source": [
    "from IPython.core.debugger import set_trace\n",
    "\n",
    "from torch import optim\n",
    "criterion = nn.MSELoss()\n",
    "optimizer = torch.optim.Adam(model.parameters(), lr=0.005)\n",
    "\n",
    "num_epochs = 25\n",
    "batchsize=len(traindata)\n",
    "train_tracker, val_tracker, accuracy_tracker = [], [], []\n",
    "\n",
    "\n",
    "for i in tqdm(range(num_epochs),desc=\"Total Progress: \",leave=False):\n",
    "    \n",
    "    cum_loss = 0\n",
    "    random.shuffle(traindata)\n",
    "        \n",
    "    for batch,(inp, vel) in enumerate(tqdm(traindata,desc=\"Training Data\",leave=False),1):\n",
    "\n",
    "        \n",
    "        inp=inp.reshape([1,-1,1])\n",
    "        vel=vel.reshape([1,-1,1])\n",
    "        output= model(inp,None)\n",
    "\n",
    "        output=output.view(-1,1)\n",
    "        ## Representing Memory ##\n",
    "        # make a new variable for hidden and detach the hidden state from its history\n",
    "        # this way, we don't backpropagate through the entire history\n",
    "\n",
    "\n",
    "        outputVel=torch.reshape(vel,[-1,1])\n",
    "\n",
    "        loss = criterion(output, outputVel)\n",
    "        optimizer.zero_grad()\n",
    "        loss.backward()\n",
    "        optimizer.step()\n",
    "\n",
    "        cum_loss += loss.item()\n",
    "\n",
    "    train_tracker.append(cum_loss/len(traindata))\n",
    "    \n",
    "    #Validation\n",
    "    test_loss = 0\n",
    "    num_correct = 0\n",
    "    total = 0\n",
    "    \n",
    "    random.shuffle(valdata)\n",
    "    with torch.no_grad():\n",
    "        for batch, (inp, vel) in enumerate(tqdm(valdata,desc=\"Valiation Data\", leave=False),1):\n",
    "\n",
    "            optimizer.zero_grad()\n",
    "            inp=inp.reshape([1,-1,1])\n",
    "            output= model(inp,None)\n",
    "            output=output.view(-1,1)\n",
    "\n",
    "            outputVel=torch.reshape(vel,[-1,1])\n",
    "\n",
    "            loss = criterion(output, outputVel)\n",
    "            test_loss += loss\n",
    "\n",
    "        val_tracker.append(test_loss/len(valdata))\n",
    "    print(f\"Epoch({i+1}/{num_epochs}) | Training loss: {cum_loss/len(traindata)} | \" ,end=\"\")\n",
    "    print(f\"Val loss: {test_loss/len(valdata)} | \")\n"
   ]
  },
  {
   "cell_type": "code",
   "execution_count": 147,
   "metadata": {},
   "outputs": [
    {
     "data": {
      "text/plain": [
       "<matplotlib.legend.Legend at 0x120e5ed30>"
      ]
     },
     "execution_count": 147,
     "metadata": {},
     "output_type": "execute_result"
    },
    {
     "data": {
      "image/png": "[encoded data removed]",
      "text/plain": [
       "<Figure size 432x288 with 1 Axes>"
      ]
     },
     "metadata": {
      "needs_background": "light"
     },
     "output_type": "display_data"
    }
   ],
   "source": [
    "%matplotlib inline\n",
    "plt.plot(train_tracker, label='Training loss')\n",
    "plt.plot(val_tracker, label='Training loss')\n",
    "plt.legend()"
   ]
  },
  {
   "cell_type": "code",
   "execution_count": 148,
   "metadata": {},
   "outputs": [],
   "source": [
    "def predict(testexample,NN=model):\n",
    "    VelNormalize= Normalize(None,70)\n",
    "\n",
    "    criterion = nn.L1Loss()\n",
    "    pData=testexample[0]\n",
    "    pred=NN(pData[0])\n",
    "    loss=criterion(pred,pData[1])\n",
    "\n",
    "    %matplotlib inline\n",
    "    pred=VelNormalize.normal(np.array(pred.tolist()))\n",
    "    real=VelNormalize.normal(np.array(pData[1]))\n",
    "\n",
    "    plt.plot(pred,label=\"Pred\")\n",
    "    plt.plot(real,label= \"Real_Optimizer\")\n",
    "    print(\"Loss:\", loss.item())\n",
    "\n",
    "from sklearn.metrics import r2_score\n",
    "def r2Score(example):\n",
    "    \n",
    "    PRED=[]\n",
    "    REAL=[] \n",
    "    for (inp,label) in example:\n",
    "        pred=model(inp)\n",
    "        PRED.append(pred.tolist())\n",
    "        REAL.append(label.tolist())\n",
    "\n",
    "\n",
    "    SCORE=r2_score(PRED,REAL,multioutput='variance_weighted')\n",
    "    return SCORE"
   ]
  },
  {
   "cell_type": "code",
   "execution_count": 149,
   "metadata": {
    "scrolled": false
   },
   "outputs": [
    {
     "data": {
      "application/vnd.jupyter.widget-view+json": {
       "model_id": "465107572f6d4d2d9fb7ede0b7614d6a",
       "version_major": 2,
       "version_minor": 0
      },
      "text/plain": [
       "interactive(children=(IntSlider(value=125, description='x', max=250), Output()), _dom_classes=('widget-interac…"
      ]
     },
     "metadata": {},
     "output_type": "display_data"
    },
    {
     "data": {
      "text/plain": [
       "<function __main__.visual(x)>"
      ]
     },
     "execution_count": 149,
     "metadata": {},
     "output_type": "execute_result"
    }
   ],
   "source": [
    "from __future__ import print_function\n",
    "from ipywidgets import interact, interactive, fixed, interact_manual\n",
    "import ipywidgets as widgets\n",
    "import time\n",
    "\n",
    "\n",
    "def visual(x):\n",
    "    #The Visualisation\n",
    "    name=\"NN300200150_Iter250_MBZM\"\n",
    "    NR=x\n",
    "\n",
    "    VelNormalize= Normalize(None,70)\n",
    "\n",
    "    criterion = nn.L1Loss()\n",
    "    testdata_inp,testdata_lable=[],[]\n",
    "\n",
    "    testdata_inp=torch.clone(traindata[NR][0])\n",
    "    #testdata_inp=torch.clone(valdata[NR][0])\n",
    "    \n",
    "    testdata_lable=torch.clone(traindata[NR][1])\n",
    "    #testdata_lable=torch.clone(valdata[NR][1])\n",
    "    \n",
    "    \n",
    "    \n",
    "    #testdata[:]=\n",
    "    #testdata[0]=0\n",
    "\n",
    "    #print(testdata)\n",
    "    inputRNN=torch.reshape(testdata_inp,[-1,1]).unsqueeze(0)\n",
    "\n",
    "    print(\"Inp Shape: \", testdata_inp.shape)\n",
    "\n",
    "    t1=time.time()\n",
    "    pred = model(inputRNN,None)\n",
    "    t2=time.time()\n",
    "\n",
    "    pred=pred.squeeze()\n",
    "\n",
    "    print(\"Out Shape: \", pred.shape)\n",
    "    print(\"Evolived Time: \" , (t2-t1)*1000,\"ms\")\n",
    "\n",
    "    loss=criterion(pred,testdata_lable)\n",
    "\n",
    "    %matplotlib inline\n",
    "    pred=VelNormalize.normal(np.array(pred.tolist()))\n",
    "    real=VelNormalize.normal(np.array(testdata_lable.tolist()))\n",
    "\n",
    "    #Score=r2Score(valdata)\n",
    "    scoreItem=r2_score(pred,testdata_lable)\n",
    "\n",
    "\n",
    "    plt.plot(pred,label=\"Pred\")\n",
    "    plt.plot(real,label= \"Real_Optimizer\")\n",
    "\n",
    "    plt.legend([\"ML_Pred\",\"Opt_Real\"])\n",
    "    plt.title(\"| \"+name + \" | Loss: \"+str(np.round(loss.item(),4))+\"\"+ \" | \" )\n",
    "    plt.xlabel(\"Steps\")\n",
    "    plt.ylabel(\"Velocity\")\n",
    "\n",
    "    #scoreItem=r2_score(pred,valdata[NR][1])\n",
    "    #text= str(np.round(scoreItem,4))+ \"% [score] | \"+str(np.round(loss.item(),5)) +\" [loss] \"\n",
    "    MIN=min(pred)\n",
    "    #plt.text(76,MIN,text,horizontalalignment='center',verticalalignment='center')\n",
    "    #print(\"Loss:\", loss.item())\n",
    "\n",
    "\n",
    "    #print(\"The Score of the Train Dataset is: \",Score,\"%\")\n",
    "    \n",
    "interact(visual,x=(0,len(valdata)))"
   ]
  },
  {
   "cell_type": "markdown",
   "metadata": {},
   "source": [
    "## Save Model"
   ]
  },
  {
   "cell_type": "code",
   "execution_count": null,
   "metadata": {},
   "outputs": [],
   "source": [
    "name=\"NN300200150_Iter250_MBZM\"\n",
    "save=True\n",
    "PATH=\"/Users/leonkiesgen/Documents/Python/BA_Optimization_ML/MaschineLearning/mlModels/\"+ name"
   ]
  },
  {
   "cell_type": "code",
   "execution_count": null,
   "metadata": {},
   "outputs": [],
   "source": [
    "#Save MODEL\n",
    "if save:\n",
    "    torch.save(model.state_dict(), PATH+\".pt\")\n",
    "    torch.save(model,PATH+\".pth\")"
   ]
  },
  {
   "cell_type": "code",
   "execution_count": null,
   "metadata": {},
   "outputs": [],
   "source": [
    "#Load MODEL with same Structure\n",
    "model=DNN()\n",
    "model.load_state_dict(torch.load(PATH+\".pt\"))\n",
    "model.eval()"
   ]
  },
  {
   "cell_type": "code",
   "execution_count": null,
   "metadata": {},
   "outputs": [],
   "source": [
    "#Load MODEL with different Structure\n",
    "model2=torch.load(PATH+\".pth\")\n",
    "model2.eval()"
   ]
  },
  {
   "cell_type": "code",
   "execution_count": null,
   "metadata": {},
   "outputs": [],
   "source": [
    "model2(traindata[37][0])"
   ]
  },
  {
   "cell_type": "code",
   "execution_count": null,
   "metadata": {},
   "outputs": [],
   "source": []
  }
 ],
 "metadata": {
  "file_extension": ".py",
  "kernelspec": {
   "display_name": "Python 3",
   "language": "python",
   "name": "python3"
  },
  "language_info": {
   "codemirror_mode": {
    "name": "ipython",
    "version": 3
   },
   "file_extension": ".py",
   "mimetype": "text/x-python",
   "name": "python",
   "nbconvert_exporter": "python",
   "pygments_lexer": "ipython3",
   "version": "3.7.1"
  },
  "mimetype": "text/x-python",
  "name": "python",
  "npconvert_exporter": "python",
  "pygments_lexer": "ipython3",
  "version": 3
 },
 "nbformat": 4,
 "nbformat_minor": 2
}
