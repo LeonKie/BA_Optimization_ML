{
 "cells": [
  {
   "cell_type": "code",
   "execution_count": 10,
   "metadata": {},
   "outputs": [
    {
     "name": "stderr",
     "output_type": "stream",
     "text": [
      "2019-12-30 16:47:18,247\tINFO function_runner.py:254 -- tune.track signature detected.\n",
      "2019-12-30 16:47:18,281\tWARNING logger.py:413 -- Could not instantiate tf2_compat_logger: No module named 'tensorflow'.\n",
      "2019-12-30 16:47:18,288\tINFO ray_trial_executor.py:121 -- Trial train_mnist_46f0362c: Setting up new remote runner.\n"
     ]
    },
    {
     "data": {
      "text/html": [
       "== Status ==<br>Memory usage on this node: 5.8/8.0 GiB<br>Using FIFO scheduling algorithm.<br>Resources requested: 1/4 CPUs, 0/0 GPUs, 0.0/4.79 GiB heap, 0.0/1.61 GiB objects<br>Result logdir: /Users/leonkiesgen/ray_results/train_mnist<br>Number of trials: 3 (1 RUNNING, 2 PENDING)<br><table>\n",
       "<thead>\n",
       "<tr><th>Trial name          </th><th>status  </th><th>loc  </th><th>lr  </th></tr>\n",
       "</thead>\n",
       "<tbody>\n",
       "<tr><td>train_mnist_46f0362c</td><td>RUNNING </td><td>     </td><td>    </td></tr>\n",
       "<tr><td>train_mnist_46f06fac</td><td>PENDING </td><td>     </td><td>    </td></tr>\n",
       "<tr><td>train_mnist_46f0ac88</td><td>PENDING </td><td>     </td><td>    </td></tr>\n",
       "</tbody>\n",
       "</table><br><br>"
      ],
      "text/plain": [
       "<IPython.core.display.HTML object>"
      ]
     },
     "metadata": {},
     "output_type": "display_data"
    },
    {
     "name": "stderr",
     "output_type": "stream",
     "text": [
      "2019-12-30 16:47:19,279\tWARNING logger.py:413 -- Could not instantiate tf2_compat_logger: No module named 'tensorflow'.\n",
      "2019-12-30 16:47:19,292\tINFO ray_trial_executor.py:121 -- Trial train_mnist_46f06fac: Setting up new remote runner.\n",
      "2019-12-30 16:47:19,319\tWARNING logger.py:413 -- Could not instantiate tf2_compat_logger: No module named 'tensorflow'.\n",
      "2019-12-30 16:47:19,328\tINFO ray_trial_executor.py:121 -- Trial train_mnist_46f0ac88: Setting up new remote runner.\n",
      "2019-12-30 16:47:19,543\tWARNING worker.py:1054 -- The actor or task with ID ffffffffffffffff3660e84a0100 is pending and cannot currently be scheduled. It requires {CPU: 1.000000} for execution and {CPU: 1.000000} for placement, but this node only has remaining {CPU: 4.000000}, {object_store_memory: 1.611328 GiB}, {node:192.168.1.9: 1.000000}, {memory: 4.785156 GiB}. In total there are 0 pending tasks and 3 pending actors on this node. This is likely due to all cluster resources being claimed by actors. To resolve the issue, consider creating fewer actors or increase the resources available to this Ray cluster. You can ignore this message if this Ray cluster is expected to auto-scale.\n"
     ]
    },
    {
     "name": "stdout",
     "output_type": "stream",
     "text": [
      "Result for train_mnist_46f06fac:\n",
      "  date: 2019-12-30_16-47-36\n",
      "  done: false\n",
      "  experiment_id: b94426bf7ce04512b23c571dbdd69b2e\n",
      "  experiment_tag: 1_lr=0.01\n",
      "  hostname: Leons-MacBook-Air.local\n",
      "  iterations_since_restore: 1\n",
      "  mean_accuracy: 0.121875\n",
      "  node_ip: 192.168.1.9\n",
      "  pid: 80610\n",
      "  time_since_restore: 1.042801856994629\n",
      "  time_this_iter_s: 1.042801856994629\n",
      "  time_total_s: 1.042801856994629\n",
      "  timestamp: 1577717256\n",
      "  timesteps_since_restore: 0\n",
      "  training_iteration: 0\n",
      "  trial_id: 46f06fac\n",
      "  \n"
     ]
    },
    {
     "data": {
      "text/html": [
       "== Status ==<br>Memory usage on this node: 5.9/8.0 GiB<br>Using FIFO scheduling algorithm.<br>Resources requested: 3/4 CPUs, 0/0 GPUs, 0.0/4.79 GiB heap, 0.0/1.61 GiB objects<br>Result logdir: /Users/leonkiesgen/ray_results/train_mnist<br>Number of trials: 3 (3 RUNNING)<br><table>\n",
       "<thead>\n",
       "<tr><th>Trial name          </th><th>status  </th><th>loc              </th><th style=\"text-align: right;\">  lr</th><th style=\"text-align: right;\">  total time (s)</th><th style=\"text-align: right;\">     acc</th></tr>\n",
       "</thead>\n",
       "<tbody>\n",
       "<tr><td>train_mnist_46f0362c</td><td>RUNNING </td><td>                 </td><td style=\"text-align: right;\">    </td><td style=\"text-align: right;\">                </td><td style=\"text-align: right;\">        </td></tr>\n",
       "<tr><td>train_mnist_46f06fac</td><td>RUNNING </td><td>192.168.1.9:80610</td><td style=\"text-align: right;\">0.01</td><td style=\"text-align: right;\">          1.0428</td><td style=\"text-align: right;\">0.121875</td></tr>\n",
       "<tr><td>train_mnist_46f0ac88</td><td>RUNNING </td><td>                 </td><td style=\"text-align: right;\">    </td><td style=\"text-align: right;\">                </td><td style=\"text-align: right;\">        </td></tr>\n",
       "</tbody>\n",
       "</table><br><br>"
      ],
      "text/plain": [
       "<IPython.core.display.HTML object>"
      ]
     },
     "metadata": {},
     "output_type": "display_data"
    },
    {
     "name": "stdout",
     "output_type": "stream",
     "text": [
      "Result for train_mnist_46f0362c:\n",
      "  date: 2019-12-30_16-47-36\n",
      "  done: false\n",
      "  experiment_id: 9b88f205a8304c1283e20059ad7bfee5\n",
      "  experiment_tag: 0_lr=0.001\n",
      "  hostname: Leons-MacBook-Air.local\n",
      "  iterations_since_restore: 1\n",
      "  mean_accuracy: 0.11875\n",
      "  node_ip: 192.168.1.9\n",
      "  pid: 80609\n",
      "  time_since_restore: 1.0538370609283447\n",
      "  time_this_iter_s: 1.0538370609283447\n",
      "  time_total_s: 1.0538370609283447\n",
      "  timestamp: 1577717256\n",
      "  timesteps_since_restore: 0\n",
      "  training_iteration: 0\n",
      "  trial_id: 46f0362c\n",
      "  \n",
      "Result for train_mnist_46f0ac88:\n",
      "  date: 2019-12-30_16-47-36\n",
      "  done: false\n",
      "  experiment_id: e6975151c99b41e8bb0d73e1f8289be4\n",
      "  experiment_tag: 2_lr=0.1\n",
      "  hostname: Leons-MacBook-Air.local\n",
      "  iterations_since_restore: 1\n",
      "  mean_accuracy: 0.275\n",
      "  node_ip: 192.168.1.9\n",
      "  pid: 80608\n",
      "  time_since_restore: 1.1645190715789795\n",
      "  time_this_iter_s: 1.1645190715789795\n",
      "  time_total_s: 1.1645190715789795\n",
      "  timestamp: 1577717256\n",
      "  timesteps_since_restore: 0\n",
      "  training_iteration: 0\n",
      "  trial_id: 46f0ac88\n",
      "  \n",
      "Result for train_mnist_46f06fac:\n",
      "  date: 2019-12-30_16-47-41\n",
      "  done: false\n",
      "  experiment_id: b94426bf7ce04512b23c571dbdd69b2e\n",
      "  experiment_tag: 1_lr=0.01\n",
      "  hostname: Leons-MacBook-Air.local\n",
      "  iterations_since_restore: 9\n",
      "  mean_accuracy: 0.609375\n",
      "  node_ip: 192.168.1.9\n",
      "  pid: 80610\n",
      "  time_since_restore: 6.3471949100494385\n",
      "  time_this_iter_s: 0.6577610969543457\n",
      "  time_total_s: 6.3471949100494385\n",
      "  timestamp: 1577717261\n",
      "  timesteps_since_restore: 0\n",
      "  training_iteration: 8\n",
      "  trial_id: 46f06fac\n",
      "  \n"
     ]
    },
    {
     "data": {
      "text/html": [
       "== Status ==<br>Memory usage on this node: 5.9/8.0 GiB<br>Using FIFO scheduling algorithm.<br>Resources requested: 3/4 CPUs, 0/0 GPUs, 0.0/4.79 GiB heap, 0.0/1.61 GiB objects<br>Result logdir: /Users/leonkiesgen/ray_results/train_mnist<br>Number of trials: 3 (3 RUNNING)<br><table>\n",
       "<thead>\n",
       "<tr><th>Trial name          </th><th>status  </th><th>loc              </th><th style=\"text-align: right;\">   lr</th><th style=\"text-align: right;\">  iter</th><th style=\"text-align: right;\">  total time (s)</th><th style=\"text-align: right;\">     acc</th></tr>\n",
       "</thead>\n",
       "<tbody>\n",
       "<tr><td>train_mnist_46f0362c</td><td>RUNNING </td><td>192.168.1.9:80609</td><td style=\"text-align: right;\">0.001</td><td style=\"text-align: right;\">     7</td><td style=\"text-align: right;\">         5.75241</td><td style=\"text-align: right;\">0.178125</td></tr>\n",
       "<tr><td>train_mnist_46f06fac</td><td>RUNNING </td><td>192.168.1.9:80610</td><td style=\"text-align: right;\">0.01 </td><td style=\"text-align: right;\">     8</td><td style=\"text-align: right;\">         6.34719</td><td style=\"text-align: right;\">0.609375</td></tr>\n",
       "<tr><td>train_mnist_46f0ac88</td><td>RUNNING </td><td>192.168.1.9:80608</td><td style=\"text-align: right;\">0.1  </td><td style=\"text-align: right;\">     7</td><td style=\"text-align: right;\">         5.76218</td><td style=\"text-align: right;\">0.85    </td></tr>\n",
       "</tbody>\n",
       "</table><br><br>"
      ],
      "text/plain": [
       "<IPython.core.display.HTML object>"
      ]
     },
     "metadata": {},
     "output_type": "display_data"
    },
    {
     "name": "stdout",
     "output_type": "stream",
     "text": [
      "Result for train_mnist_46f0ac88:\n",
      "  date: 2019-12-30_16-47-41\n",
      "  done: false\n",
      "  experiment_id: e6975151c99b41e8bb0d73e1f8289be4\n",
      "  experiment_tag: 2_lr=0.1\n",
      "  hostname: Leons-MacBook-Air.local\n",
      "  iterations_since_restore: 9\n",
      "  mean_accuracy: 0.878125\n",
      "  node_ip: 192.168.1.9\n",
      "  pid: 80608\n",
      "  time_since_restore: 6.555844306945801\n",
      "  time_this_iter_s: 0.7936601638793945\n",
      "  time_total_s: 6.555844306945801\n",
      "  timestamp: 1577717261\n",
      "  timesteps_since_restore: 0\n",
      "  training_iteration: 8\n",
      "  trial_id: 46f0ac88\n",
      "  \n",
      "Result for train_mnist_46f0362c:\n",
      "  date: 2019-12-30_16-47-42\n",
      "  done: false\n",
      "  experiment_id: 9b88f205a8304c1283e20059ad7bfee5\n",
      "  experiment_tag: 0_lr=0.001\n",
      "  hostname: Leons-MacBook-Air.local\n",
      "  iterations_since_restore: 9\n",
      "  mean_accuracy: 0.209375\n",
      "  node_ip: 192.168.1.9\n",
      "  pid: 80609\n",
      "  time_since_restore: 6.609088897705078\n",
      "  time_this_iter_s: 0.8566768169403076\n",
      "  time_total_s: 6.609088897705078\n",
      "  timestamp: 1577717262\n",
      "  timesteps_since_restore: 0\n",
      "  training_iteration: 8\n",
      "  trial_id: 46f0362c\n",
      "  \n"
     ]
    },
    {
     "data": {
      "text/html": [
       "== Status ==<br>Memory usage on this node: 5.9/8.0 GiB<br>Using FIFO scheduling algorithm.<br>Resources requested: 0/4 CPUs, 0/0 GPUs, 0.0/4.79 GiB heap, 0.0/1.61 GiB objects<br>Result logdir: /Users/leonkiesgen/ray_results/train_mnist<br>Number of trials: 3 (3 TERMINATED)<br><table>\n",
       "<thead>\n",
       "<tr><th>Trial name          </th><th>status    </th><th>loc  </th><th style=\"text-align: right;\">   lr</th><th style=\"text-align: right;\">  iter</th><th style=\"text-align: right;\">  total time (s)</th><th style=\"text-align: right;\">     acc</th></tr>\n",
       "</thead>\n",
       "<tbody>\n",
       "<tr><td>train_mnist_46f0362c</td><td>TERMINATED</td><td>     </td><td style=\"text-align: right;\">0.001</td><td style=\"text-align: right;\">     9</td><td style=\"text-align: right;\">         7.14183</td><td style=\"text-align: right;\">0.203125</td></tr>\n",
       "<tr><td>train_mnist_46f06fac</td><td>TERMINATED</td><td>     </td><td style=\"text-align: right;\">0.01 </td><td style=\"text-align: right;\">     9</td><td style=\"text-align: right;\">         7.04548</td><td style=\"text-align: right;\">0.671875</td></tr>\n",
       "<tr><td>train_mnist_46f0ac88</td><td>TERMINATED</td><td>     </td><td style=\"text-align: right;\">0.1  </td><td style=\"text-align: right;\">     9</td><td style=\"text-align: right;\">         7.14053</td><td style=\"text-align: right;\">0.90625 </td></tr>\n",
       "</tbody>\n",
       "</table><br><br>"
      ],
      "text/plain": [
       "<IPython.core.display.HTML object>"
      ]
     },
     "metadata": {},
     "output_type": "display_data"
    },
    {
     "name": "stderr",
     "output_type": "stream",
     "text": [
      "2019-12-30 16:47:42,588\tINFO tune.py:334 -- Returning an analysis object by default. You can call `analysis.trials` to retrieve a list of trials. This message will be removed in future versions of Tune.\n"
     ]
    },
    {
     "name": "stdout",
     "output_type": "stream",
     "text": [
      "Best config:  {'lr': 0.1}\n"
     ]
    }
   ],
   "source": [
    "import torch.optim as optim\n",
    "from ray import tune\n",
    "from ray.tune.examples.mnist_pytorch import get_data_loaders, ConvNet, train, test\n",
    "\n",
    "\n",
    "def train_mnist(config):\n",
    "    train_loader, test_loader = get_data_loaders()\n",
    "    model = ConvNet()\n",
    "    optimizer = optim.SGD(model.parameters(), lr=config[\"lr\"])\n",
    "    for i in range(10):\n",
    "        train(model, optimizer, train_loader)\n",
    "        acc = test(model, test_loader)\n",
    "        tune.track.log(mean_accuracy=acc)\n",
    "\n",
    "\n",
    "analysis = tune.run(\n",
    "    train_mnist, config={\"lr\": tune.grid_search([0.001, 0.01, 0.1])})\n",
    "\n",
    "print(\"Best config: \", analysis.get_best_config(metric=\"mean_accuracy\"))\n",
    "\n",
    "# Get a dataframe for analyzing trial results.\n",
    "df = analysis.dataframe()"
   ]
  },
  {
   "cell_type": "code",
   "execution_count": 11,
   "metadata": {},
   "outputs": [
    {
     "data": {
      "text/plain": [
       "[train_mnist_46f0362c, train_mnist_46f06fac, train_mnist_46f0ac88]"
      ]
     },
     "execution_count": 11,
     "metadata": {},
     "output_type": "execute_result"
    }
   ],
   "source": [
    "analysis.trials"
   ]
  },
  {
   "cell_type": "code",
   "execution_count": 18,
   "metadata": {},
   "outputs": [
    {
     "name": "stderr",
     "output_type": "stream",
     "text": [
      "2019-12-30 18:24:02,808\tINFO function_runner.py:254 -- tune.track signature detected.\n",
      "2019-12-30 18:24:02,851\tWARNING logger.py:413 -- Could not instantiate tf2_compat_logger: No module named 'tensorflow'.\n",
      "2019-12-30 18:24:02,858\tINFO ray_trial_executor.py:121 -- Trial train_cab94180: Setting up new remote runner.\n"
     ]
    },
    {
     "data": {
      "text/html": [
       "== Status ==<br>Memory usage on this node: 5.8/8.0 GiB<br>Using FIFO scheduling algorithm.<br>Resources requested: 1/4 CPUs, 0/0 GPUs, 0.0/4.79 GiB heap, 0.0/1.61 GiB objects<br>Result logdir: /Users/leonkiesgen/ray_results/test<br>Number of trials: 10 (1 RUNNING, 9 PENDING)<br><table>\n",
       "<thead>\n",
       "<tr><th>Trial name    </th><th>status  </th><th>loc  </th></tr>\n",
       "</thead>\n",
       "<tbody>\n",
       "<tr><td>train_cab94180</td><td>RUNNING </td><td>     </td></tr>\n",
       "<tr><td>train_cab9a738</td><td>PENDING </td><td>     </td></tr>\n",
       "<tr><td>train_cab9f5ee</td><td>PENDING </td><td>     </td></tr>\n",
       "<tr><td>train_caba2320</td><td>PENDING </td><td>     </td></tr>\n",
       "<tr><td>train_caba5660</td><td>PENDING </td><td>     </td></tr>\n",
       "<tr><td>train_caba7e2e</td><td>PENDING </td><td>     </td></tr>\n",
       "<tr><td>train_cabac456</td><td>PENDING </td><td>     </td></tr>\n",
       "<tr><td>train_cabaf912</td><td>PENDING </td><td>     </td></tr>\n",
       "<tr><td>train_cabb5498</td><td>PENDING </td><td>     </td></tr>\n",
       "<tr><td>train_cabb8062</td><td>PENDING </td><td>     </td></tr>\n",
       "</tbody>\n",
       "</table><br><br>"
      ],
      "text/plain": [
       "<IPython.core.display.HTML object>"
      ]
     },
     "metadata": {},
     "output_type": "display_data"
    },
    {
     "name": "stderr",
     "output_type": "stream",
     "text": [
      "2019-12-30 18:24:02,904\tWARNING logger.py:413 -- Could not instantiate tf2_compat_logger: No module named 'tensorflow'.\n",
      "2019-12-30 18:24:02,918\tINFO ray_trial_executor.py:121 -- Trial train_cab9a738: Setting up new remote runner.\n",
      "2019-12-30 18:24:02,954\tWARNING logger.py:413 -- Could not instantiate tf2_compat_logger: No module named 'tensorflow'.\n",
      "2019-12-30 18:24:02,962\tINFO ray_trial_executor.py:121 -- Trial train_cab9f5ee: Setting up new remote runner.\n",
      "2019-12-30 18:24:02,990\tWARNING logger.py:413 -- Could not instantiate tf2_compat_logger: No module named 'tensorflow'.\n",
      "2019-12-30 18:24:02,996\tINFO ray_trial_executor.py:121 -- Trial train_caba2320: Setting up new remote runner.\n"
     ]
    },
    {
     "data": {
      "text/html": [
       "== Status ==<br>Memory usage on this node: 5.8/8.0 GiB<br>Using FIFO scheduling algorithm.<br>Resources requested: 3/4 CPUs, 0/0 GPUs, 0.0/4.79 GiB heap, 0.0/1.61 GiB objects<br>Result logdir: /Users/leonkiesgen/ray_results/test<br>Number of trials: 10 (1 TERMINATED, 3 RUNNING, 6 PENDING)<br><table>\n",
       "<thead>\n",
       "<tr><th>Trial name    </th><th>status    </th><th>loc  </th></tr>\n",
       "</thead>\n",
       "<tbody>\n",
       "<tr><td>train_cab94180</td><td>TERMINATED</td><td>     </td></tr>\n",
       "<tr><td>train_cab9a738</td><td>RUNNING   </td><td>     </td></tr>\n",
       "<tr><td>train_cab9f5ee</td><td>RUNNING   </td><td>     </td></tr>\n",
       "<tr><td>train_caba2320</td><td>RUNNING   </td><td>     </td></tr>\n",
       "<tr><td>train_caba5660</td><td>PENDING   </td><td>     </td></tr>\n",
       "<tr><td>train_caba7e2e</td><td>PENDING   </td><td>     </td></tr>\n",
       "<tr><td>train_cabac456</td><td>PENDING   </td><td>     </td></tr>\n",
       "<tr><td>train_cabaf912</td><td>PENDING   </td><td>     </td></tr>\n",
       "<tr><td>train_cabb5498</td><td>PENDING   </td><td>     </td></tr>\n",
       "<tr><td>train_cabb8062</td><td>PENDING   </td><td>     </td></tr>\n",
       "</tbody>\n",
       "</table><br><br>"
      ],
      "text/plain": [
       "<IPython.core.display.HTML object>"
      ]
     },
     "metadata": {},
     "output_type": "display_data"
    },
    {
     "name": "stderr",
     "output_type": "stream",
     "text": [
      "2019-12-30 18:24:13,023\tWARNING logger.py:413 -- Could not instantiate tf2_compat_logger: No module named 'tensorflow'.\n",
      "2019-12-30 18:24:13,031\tINFO ray_trial_executor.py:121 -- Trial train_caba5660: Setting up new remote runner.\n",
      "2019-12-30 18:24:13,112\tWARNING logger.py:413 -- Could not instantiate tf2_compat_logger: No module named 'tensorflow'.\n",
      "2019-12-30 18:24:13,122\tINFO ray_trial_executor.py:121 -- Trial train_caba7e2e: Setting up new remote runner.\n",
      "2019-12-30 18:24:13,162\tWARNING logger.py:413 -- Could not instantiate tf2_compat_logger: No module named 'tensorflow'.\n",
      "2019-12-30 18:24:13,170\tINFO ray_trial_executor.py:121 -- Trial train_cabac456: Setting up new remote runner.\n",
      "2019-12-30 18:24:17,381\tWARNING logger.py:413 -- Could not instantiate tf2_compat_logger: No module named 'tensorflow'.\n",
      "2019-12-30 18:24:17,388\tINFO ray_trial_executor.py:121 -- Trial train_cabaf912: Setting up new remote runner.\n"
     ]
    },
    {
     "data": {
      "text/html": [
       "== Status ==<br>Memory usage on this node: 5.9/8.0 GiB<br>Using FIFO scheduling algorithm.<br>Resources requested: 3/4 CPUs, 0/0 GPUs, 0.0/4.79 GiB heap, 0.0/1.61 GiB objects<br>Result logdir: /Users/leonkiesgen/ray_results/test<br>Number of trials: 10 (5 TERMINATED, 3 RUNNING, 2 PENDING)<br><table>\n",
       "<thead>\n",
       "<tr><th>Trial name    </th><th>status    </th><th>loc  </th></tr>\n",
       "</thead>\n",
       "<tbody>\n",
       "<tr><td>train_cab94180</td><td>TERMINATED</td><td>     </td></tr>\n",
       "<tr><td>train_cab9a738</td><td>TERMINATED</td><td>     </td></tr>\n",
       "<tr><td>train_cab9f5ee</td><td>TERMINATED</td><td>     </td></tr>\n",
       "<tr><td>train_caba2320</td><td>TERMINATED</td><td>     </td></tr>\n",
       "<tr><td>train_caba5660</td><td>RUNNING   </td><td>     </td></tr>\n",
       "<tr><td>train_caba7e2e</td><td>TERMINATED</td><td>     </td></tr>\n",
       "<tr><td>train_cabac456</td><td>RUNNING   </td><td>     </td></tr>\n",
       "<tr><td>train_cabaf912</td><td>RUNNING   </td><td>     </td></tr>\n",
       "<tr><td>train_cabb5498</td><td>PENDING   </td><td>     </td></tr>\n",
       "<tr><td>train_cabb8062</td><td>PENDING   </td><td>     </td></tr>\n",
       "</tbody>\n",
       "</table><br><br>"
      ],
      "text/plain": [
       "<IPython.core.display.HTML object>"
      ]
     },
     "metadata": {},
     "output_type": "display_data"
    },
    {
     "name": "stderr",
     "output_type": "stream",
     "text": [
      "2019-12-30 18:24:23,662\tWARNING logger.py:413 -- Could not instantiate tf2_compat_logger: No module named 'tensorflow'.\n",
      "2019-12-30 18:24:23,668\tINFO ray_trial_executor.py:121 -- Trial train_cabb5498: Setting up new remote runner.\n",
      "2019-12-30 18:24:23,735\tWARNING logger.py:413 -- Could not instantiate tf2_compat_logger: No module named 'tensorflow'.\n",
      "2019-12-30 18:24:23,747\tINFO ray_trial_executor.py:121 -- Trial train_cabb8062: Setting up new remote runner.\n"
     ]
    },
    {
     "data": {
      "text/html": [
       "== Status ==<br>Memory usage on this node: 5.7/8.0 GiB<br>Using FIFO scheduling algorithm.<br>Resources requested: 0/4 CPUs, 0/0 GPUs, 0.0/4.79 GiB heap, 0.0/1.61 GiB objects<br>Result logdir: /Users/leonkiesgen/ray_results/test<br>Number of trials: 10 (10 TERMINATED)<br><table>\n",
       "<thead>\n",
       "<tr><th>Trial name    </th><th>status    </th><th>loc  </th></tr>\n",
       "</thead>\n",
       "<tbody>\n",
       "<tr><td>train_cab94180</td><td>TERMINATED</td><td>     </td></tr>\n",
       "<tr><td>train_cab9a738</td><td>TERMINATED</td><td>     </td></tr>\n",
       "<tr><td>train_cab9f5ee</td><td>TERMINATED</td><td>     </td></tr>\n",
       "<tr><td>train_caba2320</td><td>TERMINATED</td><td>     </td></tr>\n",
       "<tr><td>train_caba5660</td><td>TERMINATED</td><td>     </td></tr>\n",
       "<tr><td>train_caba7e2e</td><td>TERMINATED</td><td>     </td></tr>\n",
       "<tr><td>train_cabac456</td><td>TERMINATED</td><td>     </td></tr>\n",
       "<tr><td>train_cabaf912</td><td>TERMINATED</td><td>     </td></tr>\n",
       "<tr><td>train_cabb5498</td><td>TERMINATED</td><td>     </td></tr>\n",
       "<tr><td>train_cabb8062</td><td>TERMINATED</td><td>     </td></tr>\n",
       "</tbody>\n",
       "</table><br><br>"
      ],
      "text/plain": [
       "<IPython.core.display.HTML object>"
      ]
     },
     "metadata": {},
     "output_type": "display_data"
    },
    {
     "name": "stderr",
     "output_type": "stream",
     "text": [
      "2019-12-30 18:24:27,349\tINFO tune.py:334 -- Returning an analysis object by default. You can call `analysis.trials` to retrieve a list of trials. This message will be removed in future versions of Tune.\n"
     ]
    }
   ],
   "source": [
    "import ray\n",
    "import ray.tune as tune\n",
    "\n",
    "def train(_):\n",
    "    pass\n",
    "\n",
    "def main():\n",
    "    #ray.init()\n",
    "    tune.run(train,\n",
    "             name=\"test\",\n",
    "             num_samples=10)\n",
    "main()"
   ]
  },
  {
   "cell_type": "code",
   "execution_count": null,
   "metadata": {},
   "outputs": [],
   "source": []
  }
 ],
 "metadata": {
  "kernelspec": {
   "display_name": "Python 3",
   "language": "python",
   "name": "python3"
  },
  "language_info": {
   "codemirror_mode": {
    "name": "ipython",
    "version": 3
   },
   "file_extension": ".py",
   "mimetype": "text/x-python",
   "name": "python",
   "nbconvert_exporter": "python",
   "pygments_lexer": "ipython3",
   "version": "3.7.1"
  }
 },
 "nbformat": 4,
 "nbformat_minor": 2
}
