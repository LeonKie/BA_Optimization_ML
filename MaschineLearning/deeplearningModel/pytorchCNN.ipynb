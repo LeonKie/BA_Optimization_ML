{
 "nbformat": 4,
 "nbformat_minor": 2,
 "metadata": {
  "language_info": {
   "name": "python",
   "codemirror_mode": {
    "name": "ipython",
    "version": 3
   },
   "version": "3.7.1"
  },
  "orig_nbformat": 2,
  "file_extension": ".py",
  "mimetype": "text/x-python",
  "name": "python",
  "npconvert_exporter": "python",
  "pygments_lexer": "ipython3",
  "version": 3
 },
 "cells": [
  {
   "cell_type": "code",
   "execution_count": 5,
   "metadata": {},
   "outputs": [
    {
     "name": "stdout",
     "output_type": "stream",
     "text": "Running on the CPU\n"
    },
    {
     "data": {
      "text/plain": "<torch._C.Generator at 0x1248b7bf0>"
     },
     "execution_count": 5,
     "metadata": {},
     "output_type": "execute_result"
    }
   ],
   "source": [
    "import torch \n",
    "import numpy as np\n",
    "import matplotlib.pyplot as plot\n",
    "from torch import nn\n",
    "import torch.nn.functional as F\n",
    "import sys\n",
    "import os\n",
    "cwd = os.getcwd()\n",
    "sys.path.insert(1, cwd+'/BA_Optimization_ML/MaschineLearning/visualisation')\n",
    "sys.path.insert(1, cwd+ '/BA_Optimization_ML/MaschineLearning/deeplearningModel')\n",
    "import LogDataImport\n",
    "import random\n",
    "import dataprocessing\n",
    "\n",
    "from tqdm import tqdm\n",
    "import time\n",
    "\n",
    "    \n",
    "if torch.cuda.is_available() and True:\n",
    "    device = torch.device(\"cuda:0\")  # you can continue going on here, like cuda:1 cuda:2....etc. \n",
    "    print(\"Running on the GPU\")\n",
    "else:\n",
    "    device = torch.device(\"cpu\")\n",
    "    print(\"Running on the CPU\")    \n",
    "    \n",
    "torch.manual_seed(0)"
   ]
  },
  {
   "cell_type": "code",
   "execution_count": 6,
   "metadata": {},
   "outputs": [
    {
     "name": "stderr",
     "output_type": "stream",
     "text": "100%|██████████| 4/4 [00:05<00:00,  1.33s/it]\n"
    }
   ],
   "source": [
    "with tqdm(total=4) as pbar:\n",
    "    #Json\n",
    "    #Jsondata=json_ImExport.loadData(\"/Users/leonkiesgen/Documents/Python/Kappa_variation_vmax100.json\")\n",
    "    #Log File (Monteblanco)\n",
    "    pbar.update(1)\n",
    "    \n",
    "\n",
    "    Logdata_MB=LogDataImport.get_data(\"/Users/leonkiesgen/Documents/Python/mod_local_trajectory/logs/ltpl/2019_12_01/15_00_59_data.csv\")\n",
    "\n",
    "    #Log File (Berlin)\n",
    "    pbar.update(1)\n",
    "    ValLogdata_B=LogDataImport.get_data(\"/Users/leonkiesgen/Documents/Python/mod_local_trajectory/logs/ltpl/2019_12_05/12_19_36_data.csv\")\n",
    "\n",
    "    #Log File (Modena)\n",
    "    pbar.update(1)\n",
    "    ValLogdata_M=LogDataImport.get_data(\"/Users/leonkiesgen/Documents/Python/mod_local_trajectory/logs/ltpl/2019_12_05/15_41_27_data.csv\")\n",
    "\n",
    "    #Log File (zalazone)\n",
    "    pbar.update(1)\n",
    "    ValLogdata_Z=LogDataImport.get_data(\"/Users/leonkiesgen/Documents/Python/mod_local_trajectory/logs/ltpl/2019_12_05/15_51_25_data.csv\")\n"
   ]
  },
  {
   "cell_type": "code",
   "execution_count": 59,
   "metadata": {},
   "outputs": [],
   "source": [
    "class CNN(nn.Module):\n",
    "\n",
    "    def __init__(self):\n",
    "        super(CNN,self).__init__()\n",
    "\n",
    "        self.c1=nn.Conv1d(in_channels=1,out_channels=10,kernel_size=5,padding=2)\n",
    "        self.c2=nn.Conv1d(in_channels=10,out_channels=10,kernel_size=5,padding=2)\n",
    "        self.c3=nn.Conv1d(in_channels=10,out_channels=1,kernel_size=5,padding=2)\n",
    "    def forward(self,x):\n",
    "        x=F.relu(self.c1(x))\n",
    "        x=F.relu(self.c2(x))\n",
    "        out=torch.sigmoid(self.c3(x))\n",
    "\n",
    "        return out"
   ]
  },
  {
   "cell_type": "code",
   "execution_count": 71,
   "metadata": {},
   "outputs": [
    {
     "data": {
      "text/plain": "tensor([0.4893, 0.4779, 0.4580, 0.4633, 0.4542, 0.4615, 0.4624, 0.4670, 0.4682,\n        0.4757, 0.4572, 0.4972], grad_fn=<SqueezeBackward0>)"
     },
     "execution_count": 71,
     "metadata": {},
     "output_type": "execute_result"
    }
   ],
   "source": [
    "inp=torch.rand(1,1,12)\n",
    "model=CNN()\n",
    "p=model(inp)\n",
    "p.squeeze()"
   ]
  },
  {
   "cell_type": "code",
   "execution_count": 76,
   "metadata": {},
   "outputs": [
    {
     "name": "stdout",
     "output_type": "stream",
     "text": "70.0\n0.001\n70.0\n0.001\ntorch.Size([1, 1, 113])\ntensor([0.4910, 0.4831, 0.4787, 0.4800, 0.4761, 0.4760, 0.4759, 0.4761, 0.4764,\n        0.4768, 0.4774, 0.4780, 0.4787, 0.4792, 0.4797, 0.4802, 0.4808, 0.4813,\n        0.4819, 0.4825, 0.4833, 0.4841, 0.4850, 0.4861, 0.4875, 0.4890, 0.4903,\n        0.4917, 0.4928, 0.4936, 0.4941, 0.4944, 0.4947, 0.4944, 0.4941, 0.4940,\n        0.4942, 0.4942, 0.4940, 0.4938, 0.4937, 0.4939, 0.4942, 0.4945, 0.4945,\n        0.4944, 0.4944, 0.4944, 0.4946, 0.4945, 0.4949, 0.4947, 0.4948, 0.4950,\n        0.4951, 0.4954, 0.4956, 0.4959, 0.4963, 0.4967, 0.4971, 0.4974, 0.4978,\n        0.4982, 0.4985, 0.4987, 0.4992, 0.4996, 0.4999, 0.5003, 0.5006, 0.5010,\n        0.5013, 0.5016, 0.5020, 0.5025, 0.5030, 0.5035, 0.5040, 0.5045, 0.5050,\n        0.5056, 0.5061, 0.5066, 0.5071, 0.5075, 0.5080, 0.5085, 0.5089, 0.5094,\n        0.5099, 0.5103, 0.5109, 0.5114, 0.5121, 0.5122, 0.5131, 0.5136, 0.5140,\n        0.5144, 0.5146, 0.5147, 0.5148, 0.5147, 0.5147, 0.5146, 0.5145, 0.5189,\n        0.5148, 0.5224, 0.5264, 0.5331, 0.5398], grad_fn=<SqueezeBackward0>)\n"
    }
   ],
   "source": [
    "traindata=dataprocessing.prepareData([ValLogdata_B,ValLogdata_M,ValLogdata_Z],1)\n",
    "\n",
    "random.shuffle(traindata)\n",
    "NumSample=len(traindata)\n",
    "valdata=dataprocessing.prepareData([Logdata_MB])\n",
    "\n",
    "inputT=traindata[3][0].view(1,1,-1)\n",
    "print(inputT.shape)\n",
    "\n",
    "r_out= model(inputT)\n",
    "\n",
    "print(r_out.squeeze())"
   ]
  },
  {
   "cell_type": "code",
   "execution_count": 78,
   "metadata": {},
   "outputs": [
    {
     "name": "stderr",
     "output_type": "stream",
     "text": "/usr/local/lib/python3.7/site-packages/torch/nn/modules/loss.py:88: UserWarning: Using a target size (torch.Size([111])) that is different to the input size (torch.Size([1, 1, 111])). This will likely lead to incorrect results due to broadcasting. Please ensure they have the same size.\n  return F.l1_loss(input, target, reduction=self.reduction)\n/usr/local/lib/python3.7/site-packages/torch/nn/modules/loss.py:88: UserWarning: Using a target size (torch.Size([118])) that is different to the input size (torch.Size([1, 1, 118])). This will likely lead to incorrect results due to broadcasting. Please ensure they have the same size.\n  return F.l1_loss(input, target, reduction=self.reduction)\n/usr/local/lib/python3.7/site-packages/torch/nn/modules/loss.py:88: UserWarning: Using a target size (torch.Size([124])) that is different to the input size (torch.Size([1, 1, 124])). This will likely lead to incorrect results due to broadcasting. Please ensure they have the same size.\n  return F.l1_loss(input, target, reduction=self.reduction)\n/usr/local/lib/python3.7/site-packages/torch/nn/modules/loss.py:88: UserWarning: Using a target size (torch.Size([120])) that is different to the input size (torch.Size([1, 1, 120])). This will likely lead to incorrect results due to broadcasting. Please ensure they have the same size.\n  return F.l1_loss(input, target, reduction=self.reduction)\n/usr/local/lib/python3.7/site-packages/torch/nn/modules/loss.py:88: UserWarning: Using a target size (torch.Size([126])) that is different to the input size (torch.Size([1, 1, 126])). This will likely lead to incorrect results due to broadcasting. Please ensure they have the same size.\n  return F.l1_loss(input, target, reduction=self.reduction)\n/usr/local/lib/python3.7/site-packages/torch/nn/modules/loss.py:88: UserWarning: Using a target size (torch.Size([123])) that is different to the input size (torch.Size([1, 1, 123])). This will likely lead to incorrect results due to broadcasting. Please ensure they have the same size.\n  return F.l1_loss(input, target, reduction=self.reduction)\n/usr/local/lib/python3.7/site-packages/torch/nn/modules/loss.py:88: UserWarning: Using a target size (torch.Size([129])) that is different to the input size (torch.Size([1, 1, 129])). This will likely lead to incorrect results due to broadcasting. Please ensure they have the same size.\n  return F.l1_loss(input, target, reduction=self.reduction)\n/usr/local/lib/python3.7/site-packages/torch/nn/modules/loss.py:88: UserWarning: Using a target size (torch.Size([119])) that is different to the input size (torch.Size([1, 1, 119])). This will likely lead to incorrect results due to broadcasting. Please ensure they have the same size.\n  return F.l1_loss(input, target, reduction=self.reduction)\n/usr/local/lib/python3.7/site-packages/torch/nn/modules/loss.py:88: UserWarning: Using a target size (torch.Size([102])) that is different to the input size (torch.Size([1, 1, 102])). This will likely lead to incorrect results due to broadcasting. Please ensure they have the same size.\n  return F.l1_loss(input, target, reduction=self.reduction)\n/usr/local/lib/python3.7/site-packages/torch/nn/modules/loss.py:88: UserWarning: Using a target size (torch.Size([128])) that is different to the input size (torch.Size([1, 1, 128])). This will likely lead to incorrect results due to broadcasting. Please ensure they have the same size.\n  return F.l1_loss(input, target, reduction=self.reduction)\n/usr/local/lib/python3.7/site-packages/torch/nn/modules/loss.py:88: UserWarning: Using a target size (torch.Size([122])) that is different to the input size (torch.Size([1, 1, 122])). This will likely lead to incorrect results due to broadcasting. Please ensure they have the same size.\n  return F.l1_loss(input, target, reduction=self.reduction)\n/usr/local/lib/python3.7/site-packages/torch/nn/modules/loss.py:88: UserWarning: Using a target size (torch.Size([115])) that is different to the input size (torch.Size([1, 1, 115])). This will likely lead to incorrect results due to broadcasting. Please ensure they have the same size.\n  return F.l1_loss(input, target, reduction=self.reduction)\n/usr/local/lib/python3.7/site-packages/torch/nn/modules/loss.py:88: UserWarning: Using a target size (torch.Size([117])) that is different to the input size (torch.Size([1, 1, 117])). This will likely lead to incorrect results due to broadcasting. Please ensure they have the same size.\n  return F.l1_loss(input, target, reduction=self.reduction)\n/usr/local/lib/python3.7/site-packages/torch/nn/modules/loss.py:88: UserWarning: Using a target size (torch.Size([101])) that is different to the input size (torch.Size([1, 1, 101])). This will likely lead to incorrect results due to broadcasting. Please ensure they have the same size.\n  return F.l1_loss(input, target, reduction=self.reduction)\n/usr/local/lib/python3.7/site-packages/torch/nn/modules/loss.py:88: UserWarning: Using a target size (torch.Size([136])) that is different to the input size (torch.Size([1, 1, 136])). This will likely lead to incorrect results due to broadcasting. Please ensure they have the same size.\n  return F.l1_loss(input, target, reduction=self.reduction)\n/usr/local/lib/python3.7/site-packages/torch/nn/modules/loss.py:88: UserWarning: Using a target size (torch.Size([113])) that is different to the input size (torch.Size([1, 1, 113])). This will likely lead to incorrect results due to broadcasting. Please ensure they have the same size.\n  return F.l1_loss(input, target, reduction=self.reduction)\n/usr/local/lib/python3.7/site-packages/torch/nn/modules/loss.py:88: UserWarning: Using a target size (torch.Size([121])) that is different to the input size (torch.Size([1, 1, 121])). This will likely lead to incorrect results due to broadcasting. Please ensure they have the same size.\n  return F.l1_loss(input, target, reduction=self.reduction)\n/usr/local/lib/python3.7/site-packages/torch/nn/modules/loss.py:88: UserWarning: Using a target size (torch.Size([114])) that is different to the input size (torch.Size([1, 1, 114])). This will likely lead to incorrect results due to broadcasting. Please ensure they have the same size.\n  return F.l1_loss(input, target, reduction=self.reduction)\n/usr/local/lib/python3.7/site-packages/torch/nn/modules/loss.py:88: UserWarning: Using a target size (torch.Size([134])) that is different to the input size (torch.Size([1, 1, 134])). This will likely lead to incorrect results due to broadcasting. Please ensure they have the same size.\n  return F.l1_loss(input, target, reduction=self.reduction)\n/usr/local/lib/python3.7/site-packages/torch/nn/modules/loss.py:88: UserWarning: Using a target size (torch.Size([112])) that is different to the input size (torch.Size([1, 1, 112])). This will likely lead to incorrect results due to broadcasting. Please ensure they have the same size.\n  return F.l1_loss(input, target, reduction=self.reduction)\n/usr/local/lib/python3.7/site-packages/torch/nn/modules/loss.py:88: UserWarning: Using a target size (torch.Size([125])) that is different to the input size (torch.Size([1, 1, 125])). This will likely lead to incorrect results due to broadcasting. Please ensure they have the same size.\n  return F.l1_loss(input, target, reduction=self.reduction)\n/usr/local/lib/python3.7/site-packages/torch/nn/modules/loss.py:88: UserWarning: Using a target size (torch.Size([106])) that is different to the input size (torch.Size([1, 1, 106])). This will likely lead to incorrect results due to broadcasting. Please ensure they have the same size.\n  return F.l1_loss(input, target, reduction=self.reduction)\n/usr/local/lib/python3.7/site-packages/torch/nn/modules/loss.py:88: UserWarning: Using a target size (torch.Size([110])) that is different to the input size (torch.Size([1, 1, 110])). This will likely lead to incorrect results due to broadcasting. Please ensure they have the same size.\n  return F.l1_loss(input, target, reduction=self.reduction)\n/usr/local/lib/python3.7/site-packages/torch/nn/modules/loss.py:88: UserWarning: Using a target size (torch.Size([98])) that is different to the input size (torch.Size([1, 1, 98])). This will likely lead to incorrect results due to broadcasting. Please ensure they have the same size.\n  return F.l1_loss(input, target, reduction=self.reduction)\n/usr/local/lib/python3.7/site-packages/torch/nn/modules/loss.py:88: UserWarning: Using a target size (torch.Size([107])) that is different to the input size (torch.Size([1, 1, 107])). This will likely lead to incorrect results due to broadcasting. Please ensure they have the same size.\n  return F.l1_loss(input, target, reduction=self.reduction)\n/usr/local/lib/python3.7/site-packages/torch/nn/modules/loss.py:88: UserWarning: Using a target size (torch.Size([116])) that is different to the input size (torch.Size([1, 1, 116])). This will likely lead to incorrect results due to broadcasting. Please ensure they have the same size.\n  return F.l1_loss(input, target, reduction=self.reduction)\n/usr/local/lib/python3.7/site-packages/torch/nn/modules/loss.py:88: UserWarning: Using a target size (torch.Size([137])) that is different to the input size (torch.Size([1, 1, 137])). This will likely lead to incorrect results due to broadcasting. Please ensure they have the same size.\n  return F.l1_loss(input, target, reduction=self.reduction)\n/usr/local/lib/python3.7/site-packages/torch/nn/modules/loss.py:88: UserWarning: Using a target size (torch.Size([130])) that is different to the input size (torch.Size([1, 1, 130])). This will likely lead to incorrect results due to broadcasting. Please ensure they have the same size.\n  return F.l1_loss(input, target, reduction=self.reduction)\n/usr/local/lib/python3.7/site-packages/torch/nn/modules/loss.py:88: UserWarning: Using a target size (torch.Size([143])) that is different to the input size (torch.Size([1, 1, 143])). This will likely lead to incorrect results due to broadcasting. Please ensure they have the same size.\n  return F.l1_loss(input, target, reduction=self.reduction)\n/usr/local/lib/python3.7/site-packages/torch/nn/modules/loss.py:88: UserWarning: Using a target size (torch.Size([108])) that is different to the input size (torch.Size([1, 1, 108])). This will likely lead to incorrect results due to broadcasting. Please ensure they have the same size.\n  return F.l1_loss(input, target, reduction=self.reduction)\n/usr/local/lib/python3.7/site-packages/torch/nn/modules/loss.py:88: UserWarning: Using a target size (torch.Size([152])) that is different to the input size (torch.Size([1, 1, 152])). This will likely lead to incorrect results due to broadcasting. Please ensure they have the same size.\n  return F.l1_loss(input, target, reduction=self.reduction)\n/usr/local/lib/python3.7/site-packages/torch/nn/modules/loss.py:88: UserWarning: Using a target size (torch.Size([104])) that is different to the input size (torch.Size([1, 1, 104])). This will likely lead to incorrect results due to broadcasting. Please ensure they have the same size.\n  return F.l1_loss(input, target, reduction=self.reduction)\n/usr/local/lib/python3.7/site-packages/torch/nn/modules/loss.py:88: UserWarning: Using a target size (torch.Size([99])) that is different to the input size (torch.Size([1, 1, 99])). This will likely lead to incorrect results due to broadcasting. Please ensure they have the same size.\n  return F.l1_loss(input, target, reduction=self.reduction)\n/usr/local/lib/python3.7/site-packages/torch/nn/modules/loss.py:88: UserWarning: Using a target size (torch.Size([131])) that is different to the input size (torch.Size([1, 1, 131])). This will likely lead to incorrect results due to broadcasting. Please ensure they have the same size.\n  return F.l1_loss(input, target, reduction=self.reduction)\n/usr/local/lib/python3.7/site-packages/torch/nn/modules/loss.py:88: UserWarning: Using a target size (torch.Size([133])) that is different to the input size (torch.Size([1, 1, 133])). This will likely lead to incorrect results due to broadcasting. Please ensure they have the same size.\n  return F.l1_loss(input, target, reduction=self.reduction)\n/usr/local/lib/python3.7/site-packages/torch/nn/modules/loss.py:88: UserWarning: Using a target size (torch.Size([139])) that is different to the input size (torch.Size([1, 1, 139])). This will likely lead to incorrect results due to broadcasting. Please ensure they have the same size.\n  return F.l1_loss(input, target, reduction=self.reduction)\n/usr/local/lib/python3.7/site-packages/torch/nn/modules/loss.py:88: UserWarning: Using a target size (torch.Size([127])) that is different to the input size (torch.Size([1, 1, 127])). This will likely lead to incorrect results due to broadcasting. Please ensure they have the same size.\n  return F.l1_loss(input, target, reduction=self.reduction)\n/usr/local/lib/python3.7/site-packages/torch/nn/modules/loss.py:88: UserWarning: Using a target size (torch.Size([109])) that is different to the input size (torch.Size([1, 1, 109])). This will likely lead to incorrect results due to broadcasting. Please ensure they have the same size.\n  return F.l1_loss(input, target, reduction=self.reduction)\n/usr/local/lib/python3.7/site-packages/torch/nn/modules/loss.py:88: UserWarning: Using a target size (torch.Size([132])) that is different to the input size (torch.Size([1, 1, 132])). This will likely lead to incorrect results due to broadcasting. Please ensure they have the same size.\n  return F.l1_loss(input, target, reduction=self.reduction)\n/usr/local/lib/python3.7/site-packages/torch/nn/modules/loss.py:88: UserWarning: Using a target size (torch.Size([100])) that is different to the input size (torch.Size([1, 1, 100])). This will likely lead to incorrect results due to broadcasting. Please ensure they have the same size.\n  return F.l1_loss(input, target, reduction=self.reduction)\n/usr/local/lib/python3.7/site-packages/torch/nn/modules/loss.py:88: UserWarning: Using a target size (torch.Size([105])) that is different to the input size (torch.Size([1, 1, 105])). This will likely lead to incorrect results due to broadcasting. Please ensure they have the same size.\n  return F.l1_loss(input, target, reduction=self.reduction)\n/usr/local/lib/python3.7/site-packages/torch/nn/modules/loss.py:88: UserWarning: Using a target size (torch.Size([97])) that is different to the input size (torch.Size([1, 1, 97])). This will likely lead to incorrect results due to broadcasting. Please ensure they have the same size.\n  return F.l1_loss(input, target, reduction=self.reduction)\n/usr/local/lib/python3.7/site-packages/torch/nn/modules/loss.py:88: UserWarning: Using a target size (torch.Size([141])) that is different to the input size (torch.Size([1, 1, 141])). This will likely lead to incorrect results due to broadcasting. Please ensure they have the same size.\n  return F.l1_loss(input, target, reduction=self.reduction)\n/usr/local/lib/python3.7/site-packages/torch/nn/modules/loss.py:88: UserWarning: Using a target size (torch.Size([145])) that is different to the input size (torch.Size([1, 1, 145])). This will likely lead to incorrect results due to broadcasting. Please ensure they have the same size.\n  return F.l1_loss(input, target, reduction=self.reduction)\n/usr/local/lib/python3.7/site-packages/torch/nn/modules/loss.py:88: UserWarning: Using a target size (torch.Size([103])) that is different to the input size (torch.Size([1, 1, 103])). This will likely lead to incorrect results due to broadcasting. Please ensure they have the same size.\n  return F.l1_loss(input, target, reduction=self.reduction)\n/usr/local/lib/python3.7/site-packages/torch/nn/modules/loss.py:88: UserWarning: Using a target size (torch.Size([147])) that is different to the input size (torch.Size([1, 1, 147])). This will likely lead to incorrect results due to broadcasting. Please ensure they have the same size.\n  return F.l1_loss(input, target, reduction=self.reduction)\n/usr/local/lib/python3.7/site-packages/torch/nn/modules/loss.py:88: UserWarning: Using a target size (torch.Size([135])) that is different to the input size (torch.Size([1, 1, 135])). This will likely lead to incorrect results due to broadcasting. Please ensure they have the same size.\n  return F.l1_loss(input, target, reduction=self.reduction)\n/usr/local/lib/python3.7/site-packages/torch/nn/modules/loss.py:88: UserWarning: Using a target size (torch.Size([140])) that is different to the input size (torch.Size([1, 1, 140])). This will likely lead to incorrect results due to broadcasting. Please ensure they have the same size.\n  return F.l1_loss(input, target, reduction=self.reduction)\n/usr/local/lib/python3.7/site-packages/torch/nn/modules/loss.py:88: UserWarning: Using a target size (torch.Size([138])) that is different to the input size (torch.Size([1, 1, 138])). This will likely lead to incorrect results due to broadcasting. Please ensure they have the same size.\n  return F.l1_loss(input, target, reduction=self.reduction)\n/usr/local/lib/python3.7/site-packages/torch/nn/modules/loss.py:88: UserWarning: Using a target size (torch.Size([142])) that is different to the input size (torch.Size([1, 1, 142])). This will likely lead to incorrect results due to broadcasting. Please ensure they have the same size.\n  return F.l1_loss(input, target, reduction=self.reduction)\n/usr/local/lib/python3.7/site-packages/torch/nn/modules/loss.py:88: UserWarning: Using a target size (torch.Size([144])) that is different to the input size (torch.Size([1, 1, 144])). This will likely lead to incorrect results due to broadcasting. Please ensure they have the same size.\n  return F.l1_loss(input, target, reduction=self.reduction)\n/usr/local/lib/python3.7/site-packages/torch/nn/modules/loss.py:88: UserWarning: Using a target size (torch.Size([150])) that is different to the input size (torch.Size([1, 1, 150])). This will likely lead to incorrect results due to broadcasting. Please ensure they have the same size.\n  return F.l1_loss(input, target, reduction=self.reduction)\n/usr/local/lib/python3.7/site-packages/torch/nn/modules/loss.py:88: UserWarning: Using a target size (torch.Size([146])) that is different to the input size (torch.Size([1, 1, 146])). This will likely lead to incorrect results due to broadcasting. Please ensure they have the same size.\n  return F.l1_loss(input, target, reduction=self.reduction)\n"
    },
    {
     "ename": "KeyboardInterrupt",
     "evalue": "",
     "output_type": "error",
     "traceback": [
      "\u001b[0;31m---------------------------------------------------------------------------\u001b[0m",
      "\u001b[0;31mKeyboardInterrupt\u001b[0m                         Traceback (most recent call last)",
      "\u001b[0;32m<ipython-input-78-6510de0ec262>\u001b[0m in \u001b[0;36m<module>\u001b[0;34m\u001b[0m\n\u001b[1;32m     22\u001b[0m         \u001b[0mloss\u001b[0m \u001b[0;34m=\u001b[0m \u001b[0mcriterion\u001b[0m\u001b[0;34m(\u001b[0m\u001b[0moutput\u001b[0m\u001b[0;34m,\u001b[0m \u001b[0mvel\u001b[0m\u001b[0;34m)\u001b[0m\u001b[0;34m\u001b[0m\u001b[0;34m\u001b[0m\u001b[0m\n\u001b[1;32m     23\u001b[0m \u001b[0;34m\u001b[0m\u001b[0m\n\u001b[0;32m---> 24\u001b[0;31m         \u001b[0mloss\u001b[0m\u001b[0;34m.\u001b[0m\u001b[0mbackward\u001b[0m\u001b[0;34m(\u001b[0m\u001b[0;34m)\u001b[0m\u001b[0;34m\u001b[0m\u001b[0;34m\u001b[0m\u001b[0m\n\u001b[0m\u001b[1;32m     25\u001b[0m         \u001b[0moptimizer\u001b[0m\u001b[0;34m.\u001b[0m\u001b[0mstep\u001b[0m\u001b[0;34m(\u001b[0m\u001b[0;34m)\u001b[0m\u001b[0;34m\u001b[0m\u001b[0;34m\u001b[0m\u001b[0m\n\u001b[1;32m     26\u001b[0m \u001b[0;34m\u001b[0m\u001b[0m\n",
      "\u001b[0;32m/usr/local/lib/python3.7/site-packages/torch/tensor.py\u001b[0m in \u001b[0;36mbackward\u001b[0;34m(self, gradient, retain_graph, create_graph)\u001b[0m\n\u001b[1;32m    164\u001b[0m                 \u001b[0mproducts\u001b[0m\u001b[0;34m.\u001b[0m \u001b[0mDefaults\u001b[0m \u001b[0mto\u001b[0m\u001b[0;31m \u001b[0m\u001b[0;31m`\u001b[0m\u001b[0;31m`\u001b[0m\u001b[0;32mFalse\u001b[0m\u001b[0;31m`\u001b[0m\u001b[0;31m`\u001b[0m\u001b[0;34m.\u001b[0m\u001b[0;34m\u001b[0m\u001b[0;34m\u001b[0m\u001b[0m\n\u001b[1;32m    165\u001b[0m         \"\"\"\n\u001b[0;32m--> 166\u001b[0;31m         \u001b[0mtorch\u001b[0m\u001b[0;34m.\u001b[0m\u001b[0mautograd\u001b[0m\u001b[0;34m.\u001b[0m\u001b[0mbackward\u001b[0m\u001b[0;34m(\u001b[0m\u001b[0mself\u001b[0m\u001b[0;34m,\u001b[0m \u001b[0mgradient\u001b[0m\u001b[0;34m,\u001b[0m \u001b[0mretain_graph\u001b[0m\u001b[0;34m,\u001b[0m \u001b[0mcreate_graph\u001b[0m\u001b[0;34m)\u001b[0m\u001b[0;34m\u001b[0m\u001b[0;34m\u001b[0m\u001b[0m\n\u001b[0m\u001b[1;32m    167\u001b[0m \u001b[0;34m\u001b[0m\u001b[0m\n\u001b[1;32m    168\u001b[0m     \u001b[0;32mdef\u001b[0m \u001b[0mregister_hook\u001b[0m\u001b[0;34m(\u001b[0m\u001b[0mself\u001b[0m\u001b[0;34m,\u001b[0m \u001b[0mhook\u001b[0m\u001b[0;34m)\u001b[0m\u001b[0;34m:\u001b[0m\u001b[0;34m\u001b[0m\u001b[0;34m\u001b[0m\u001b[0m\n",
      "\u001b[0;32m/usr/local/lib/python3.7/site-packages/torch/autograd/__init__.py\u001b[0m in \u001b[0;36mbackward\u001b[0;34m(tensors, grad_tensors, retain_graph, create_graph, grad_variables)\u001b[0m\n\u001b[1;32m     97\u001b[0m     Variable._execution_engine.run_backward(\n\u001b[1;32m     98\u001b[0m         \u001b[0mtensors\u001b[0m\u001b[0;34m,\u001b[0m \u001b[0mgrad_tensors\u001b[0m\u001b[0;34m,\u001b[0m \u001b[0mretain_graph\u001b[0m\u001b[0;34m,\u001b[0m \u001b[0mcreate_graph\u001b[0m\u001b[0;34m,\u001b[0m\u001b[0;34m\u001b[0m\u001b[0;34m\u001b[0m\u001b[0m\n\u001b[0;32m---> 99\u001b[0;31m         allow_unreachable=True)  # allow_unreachable flag\n\u001b[0m\u001b[1;32m    100\u001b[0m \u001b[0;34m\u001b[0m\u001b[0m\n\u001b[1;32m    101\u001b[0m \u001b[0;34m\u001b[0m\u001b[0m\n",
      "\u001b[0;31mKeyboardInterrupt\u001b[0m: "
     ]
    }
   ],
   "source": [
    "from IPython.core.debugger import set_trace\n",
    "\n",
    "from torch import optim\n",
    "criterion = nn.L1Loss()\n",
    "optimizer = optim.SGD(model.parameters(), lr=0.01)\n",
    "\n",
    "\n",
    "num_epochs = 10\n",
    "train_tracker, val_tracker, accuracy_tracker = [], [], []\n",
    "\n",
    "\n",
    "for i in range(num_epochs):\n",
    "    cum_loss = 0\n",
    "    random.shuffle(traindata)\n",
    "    \n",
    "    for batch, (inp, vel) in enumerate(traindata,1):\n",
    "\n",
    "        inp=inp.view(1,1,-1)\n",
    "        optimizer.zero_grad()\n",
    "        output = model(inp)\n",
    "        output=output.squeeze()\n",
    "        vel=vel.squeeze()\n",
    "        loss = criterion(output, vel)\n",
    "\n",
    "        loss.backward()\n",
    "        optimizer.step()\n",
    "\n",
    "        cum_loss += loss.item()\n",
    "        \n",
    "\n",
    "    train_tracker.append(cum_loss/len(traindata))\n",
    "    print(f\"Epoch({i+1}/{num_epochs}) | Training loss: {cum_loss/len(traindata)} | \" ,end=\"\")\n",
    "    \n",
    "    test_loss = 0\n",
    "    num_correct = 0\n",
    "    total = 0\n",
    "\n",
    "    random.shuffle(valdata)\n",
    "    for batch, (inp, vel) in enumerate(valdata,1):\n",
    "        \n",
    "        output = model(inp)\n",
    "        batch_loss = criterion(output, vel)        \n",
    "        test_loss += batch_loss.item()\n",
    "    \n",
    "        \n",
    "    \n",
    "    val_tracker.append(test_loss/len(valdata))\n",
    "    print(f\"Val loss: {test_loss/len(valdata)} | \")"
   ]
  },
  {
   "cell_type": "code",
   "execution_count": null,
   "metadata": {},
   "outputs": [],
   "source": []
  }
 ]
}